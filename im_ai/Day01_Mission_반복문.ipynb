{
 "cells": [
  {
   "cell_type": "markdown",
   "id": "158b6ef4-9b24-4da3-9281-1e4b4007c25e",
   "metadata": {},
   "source": [
    "# 미션 1\n",
    "- 아래의 미션을 Jupyter Notebook으로 푼 후 [File] - [Download as] - [HTML] 저장 제출\n",
    "- birdland1903@gmail.com\n",
    "- 제출양식 : Day1_Mission_반복문_홍길동\n",
    "- 처음 풀이 시, 30분 정도 구글링이나 Chat GPT 없이 풀이"
   ]
  },
  {
   "cell_type": "markdown",
   "id": "4ce98671-e8dc-46a0-88ad-3cdefe4407f3",
   "metadata": {},
   "source": [
    "## 1. for 반복문으로 특정 리스트 내의 모든 숫자 합을 계산하는 함수를 구성하시오\n",
    "\n",
    "- 숙련자 : input 함수를 이용하고, 함수로 구성"
   ]
  },
  {
   "cell_type": "code",
   "execution_count": 13,
   "id": "c49330a0-deb3-409d-88d0-d23bcbca23ae",
   "metadata": {},
   "outputs": [
    {
     "name": "stdin",
     "output_type": "stream",
     "text": [
      "숫자를 입력하세요:  1\n",
      "숫자를 입력하세요:  2\n",
      "숫자를 입력하세요:  3\n",
      "숫자를 입력하세요:  4\n"
     ]
    },
    {
     "name": "stdout",
     "output_type": "stream",
     "text": [
      "리스트의 합: 10\n"
     ]
    }
   ],
   "source": [
    "sum = 0\n",
    "my_list = []\n",
    "\n",
    "for i in range(0,4):\n",
    "    num = int(input(\"숫자를 입력하세요: \"))\n",
    "    my_list.append(num)\n",
    "\n",
    "for num in my_list:\n",
    "    sum += num\n",
    "\n",
    "print(\"리스트의 합:\", sum)\n"
   ]
  },
  {
   "cell_type": "markdown",
   "id": "9aaa1701-c700-4ebe-b404-bbfadaf3c887",
   "metadata": {},
   "source": [
    "## 2. for 반복문으로 특정 리스트 안에 있는 모든 숫자의 평균을 계산하는 함수를 구성하시오\n",
    "- 숙련자 : input 함수를 이용하고 함수로 구성"
   ]
  },
  {
   "cell_type": "code",
   "execution_count": 16,
   "id": "63185585-fce9-4073-8c1c-d3c7d71e5f43",
   "metadata": {},
   "outputs": [
    {
     "name": "stdin",
     "output_type": "stream",
     "text": [
      "숫자를 입력하세요:  1\n",
      "숫자를 입력하세요:  2\n",
      "숫자를 입력하세요:  3\n",
      "숫자를 입력하세요:  4\n"
     ]
    },
    {
     "name": "stdout",
     "output_type": "stream",
     "text": [
      "리스트의 합: 10\n",
      "리스트의 평균: 2.5\n"
     ]
    }
   ],
   "source": [
    "sum = 0\n",
    "list_len = len(my_list)\n",
    "my_list = []\n",
    "\n",
    "for i in range(0,4):\n",
    "    num = int(input(\"숫자를 입력하세요: \"))\n",
    "    my_list.append(num)\n",
    "\n",
    "for num in my_list:\n",
    "    sum += num\n",
    "avg = sum/list_len\n",
    "\n",
    "print(\"리스트의 합:\", sum)\n",
    "print(\"리스트의 평균:\",avg)"
   ]
  },
  {
   "cell_type": "markdown",
   "id": "999676c0-45fa-4e09-be49-9a3c07e26348",
   "metadata": {},
   "source": [
    "## 3. 성적처리 함수를 만들고자 한다.\n",
    "- 학생이 입력한 값의 평균을 계산해서 90점 이상이면 A / 80점 이상이면 B / 70점 이상이면 C / 나머지는 D 를 출력하는 함수를 구성\n",
    "    - 입력값 (input) / 5개의 숫자 값을 입력 / 띄어쓰기로 구분하여 입력\n",
    "    - 입력값에 학생이름도 포함\n",
    "        - ex) 홍길동 100 90 54 90 34\n",
    "    - 출력 : 홍길동 학생의 평균은 00 입니다. 학점은 00입니다."
   ]
  },
  {
   "cell_type": "code",
   "execution_count": 73,
   "id": "5dca6de3-bcb8-4abc-b7f3-b26df56e39c3",
   "metadata": {},
   "outputs": [
    {
     "name": "stdin",
     "output_type": "stream",
     "text": [
      " 홍길동 100 90 54 90 34\n"
     ]
    }
   ],
   "source": [
    "list_str = input().split()"
   ]
  },
  {
   "cell_type": "code",
   "execution_count": 74,
   "id": "0d6f4bc8-cf90-4aed-ad11-23389c053723",
   "metadata": {},
   "outputs": [
    {
     "name": "stdout",
     "output_type": "stream",
     "text": [
      "홍길동 학생의 평균은 73.6 입니다. 학점은 C 입니다.\n"
     ]
    }
   ],
   "source": [
    "list_name = list_str[0]\n",
    "list_score = [int(x) for x in list_str[1:]]\n",
    "\n",
    "sum = 0 \n",
    "\n",
    "for i in list_score[:]:\n",
    "    sum +=i\n",
    "avg = sum/len(list_score)\n",
    "\n",
    "if avg >= 90:\n",
    "    grade = 'A'\n",
    "elif avg >=80:\n",
    "    grade = 'B'\n",
    "elif avg >=70:\n",
    "    grade = 'C'\n",
    "else :\n",
    "    grade = 'D'\n",
    "\n",
    "\n",
    "print(f'{list_name} 학생의 평균은 {avg} 입니다. 학점은 {grade} 입니다.')"
   ]
  },
  {
   "cell_type": "markdown",
   "id": "ac884336-6fb9-4f7b-9fd2-d1972b5a0806",
   "metadata": {},
   "source": [
    "## 4. 윤년 / 평년을 판별하는 함수를 구성\n",
    "- 윤년 : 4의 배수에 해당하는 연도, 100으로 나눠지지 않는 연도 / 400으로 나눠지는 연도\n",
    "- 평년 : 위 조건에 해당하지 않는 경우\n",
    "\n",
    "- 숙련자 : if문 없이 생성 : Dictionary로 구성"
   ]
  },
  {
   "cell_type": "code",
   "execution_count": 78,
   "id": "a696b74d-524f-4c04-8ec4-d1e0bea01568",
   "metadata": {},
   "outputs": [
    {
     "name": "stdin",
     "output_type": "stream",
     "text": [
      "연도를 입력하세요: 2024\n"
     ]
    },
    {
     "name": "stdout",
     "output_type": "stream",
     "text": [
      "2024년은 윤년입니다.\n"
     ]
    }
   ],
   "source": [
    "year = int(input(\"연도를 입력하세요:\"))\n",
    "\n",
    "def leap_year(year):\n",
    "    leap = {\n",
    "        (year % 4 == 0 and year % 100 != 0): True,(year % 400 == 0): True\n",
    "    }\n",
    "    return leap.get(True, False)\n",
    "\n",
    "\n",
    "\n",
    "if leap_year(year):\n",
    "    print(f\"{year}년은 윤년입니다.\")\n",
    "else:\n",
    "    print(f\"{year}년은 윤년이 아닙니다.\")\n"
   ]
  }
 ],
 "metadata": {
  "kernelspec": {
   "display_name": "Python 3 (ipykernel)",
   "language": "python",
   "name": "python3"
  },
  "language_info": {
   "codemirror_mode": {
    "name": "ipython",
    "version": 3
   },
   "file_extension": ".py",
   "mimetype": "text/x-python",
   "name": "python",
   "nbconvert_exporter": "python",
   "pygments_lexer": "ipython3",
   "version": "3.11.7"
  }
 },
 "nbformat": 4,
 "nbformat_minor": 5
}
