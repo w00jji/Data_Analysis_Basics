{
 "cells": [
  {
   "cell_type": "markdown",
   "id": "f9e778bb-cc78-4f6f-9f27-c2c61ced92b3",
   "metadata": {},
   "source": [
    "# 복습\n",
    "jupyter notebook 사용법\n",
    "- cell : 코드를 실행하는 하나의 작은 상자\n",
    "- [shift] + [enter] : 셀 실행\n",
    "- [alt] + [enter] : 하단에 셀을 추가하며 실행\n",
    "- [esc] + [M] : 마크다운 모드로 변경\n",
    "- [esc] + [Y] : 코드 모드\n",
    "- [ctr] + [/] : 주석모드"
   ]
  },
  {
   "cell_type": "code",
   "execution_count": 1,
   "id": "7fa58e8f-eddb-40be-8547-15097e2807bd",
   "metadata": {},
   "outputs": [],
   "source": [
    "# 300 + 100"
   ]
  },
  {
   "cell_type": "code",
   "execution_count": 2,
   "id": "55042ccd-ddd1-4494-9aa3-117f802514de",
   "metadata": {},
   "outputs": [
    {
     "data": {
      "text/plain": [
       "100"
      ]
     },
     "execution_count": 2,
     "metadata": {},
     "output_type": "execute_result"
    }
   ],
   "source": [
    "300\n",
    "# 200\n",
    "100"
   ]
  },
  {
   "cell_type": "markdown",
   "id": "057ad1be-d76e-422c-9d42-54b46748a4af",
   "metadata": {},
   "source": [
    "# 파이썬 기초 문법\n",
    "- 변수 : 데이터를 담는 상자"
   ]
  },
  {
   "cell_type": "code",
   "execution_count": 3,
   "id": "39b07d06-e9b0-4561-bf93-9cfcdbaf3282",
   "metadata": {},
   "outputs": [],
   "source": [
    "data1 = 100\n",
    "data2 = 200"
   ]
  },
  {
   "cell_type": "code",
   "execution_count": 4,
   "id": "9abeb59b-7ba5-4d2b-a1a1-e0d6e9ec6b26",
   "metadata": {},
   "outputs": [
    {
     "data": {
      "text/plain": [
       "20000"
      ]
     },
     "execution_count": 4,
     "metadata": {},
     "output_type": "execute_result"
    }
   ],
   "source": [
    "data1 * data2"
   ]
  },
  {
   "cell_type": "markdown",
   "id": "a41fb315-c3ae-4a0b-bf1a-d1370b533524",
   "metadata": {},
   "source": [
    "# 자료구조\n",
    "- 리스트 : [대괄호]\n",
    "- 튜플 : (소괄호)\n",
    "- 세트 : {중괄호}\n",
    "- 딕셔너리 : {'key1': 'value1','key2': 'value2',...}"
   ]
  },
  {
   "cell_type": "code",
   "execution_count": 5,
   "id": "4ca8c121-420a-495c-8ca0-e2dcbdba454a",
   "metadata": {},
   "outputs": [
    {
     "data": {
      "text/plain": [
       "{'이름': '홍길동', '나이': 25}"
      ]
     },
     "execution_count": 5,
     "metadata": {},
     "output_type": "execute_result"
    }
   ],
   "source": [
    "dict1 = {'이름':'홍길동','나이':25}\n",
    "dict1"
   ]
  },
  {
   "cell_type": "code",
   "execution_count": 6,
   "id": "0cabf45c-92a7-47a1-86d1-12676b770eec",
   "metadata": {},
   "outputs": [
    {
     "data": {
      "text/plain": [
       "'홍길동'"
      ]
     },
     "execution_count": 6,
     "metadata": {},
     "output_type": "execute_result"
    }
   ],
   "source": [
    "dict1['이름']"
   ]
  },
  {
   "cell_type": "code",
   "execution_count": 7,
   "id": "40e83652-c0fc-4880-8453-8ac9b75a8dd9",
   "metadata": {},
   "outputs": [
    {
     "name": "stdin",
     "output_type": "stream",
     "text": [
      "입력하시오 21\n"
     ]
    },
    {
     "data": {
      "text/plain": [
       "'21'"
      ]
     },
     "execution_count": 7,
     "metadata": {},
     "output_type": "execute_result"
    }
   ],
   "source": [
    "input1 = input('입력하시오')\n",
    "input1"
   ]
  },
  {
   "cell_type": "code",
   "execution_count": 8,
   "id": "dc64007b-1492-4ccc-aed6-81d1479610f1",
   "metadata": {},
   "outputs": [
    {
     "data": {
      "text/plain": [
       "str"
      ]
     },
     "execution_count": 8,
     "metadata": {},
     "output_type": "execute_result"
    }
   ],
   "source": [
    "type(input1)"
   ]
  },
  {
   "cell_type": "code",
   "execution_count": 9,
   "id": "5354eaec-7189-41bb-a70a-51977ca33f3c",
   "metadata": {},
   "outputs": [
    {
     "name": "stdin",
     "output_type": "stream",
     "text": [
      "숫자를 입력하시오 12\n"
     ]
    },
    {
     "data": {
      "text/plain": [
       "int"
      ]
     },
     "execution_count": 9,
     "metadata": {},
     "output_type": "execute_result"
    }
   ],
   "source": [
    "input2 = int(input('숫자를 입력하시오'))\n",
    "type(input2)"
   ]
  },
  {
   "cell_type": "markdown",
   "id": "e70b0b5f-6102-4ae9-9219-910f0172235e",
   "metadata": {},
   "source": [
    "# 조건문\n",
    "- if / else / elif\n",
    "- in/ not in\n",
    "- pass"
   ]
  },
  {
   "cell_type": "code",
   "execution_count": 10,
   "id": "1ac3884a-53c8-4ea5-ab73-e7238318dab5",
   "metadata": {},
   "outputs": [
    {
     "name": "stdin",
     "output_type": "stream",
     "text": [
      " 12\n"
     ]
    },
    {
     "name": "stdout",
     "output_type": "stream",
     "text": [
      "30 보다 작습니다.\n"
     ]
    }
   ],
   "source": [
    "data1 = int(input())\n",
    "if data1 > 30:\n",
    "    print('30 보다 큽니다')\n",
    "else : \n",
    "    print('30 보다 작습니다.')"
   ]
  },
  {
   "cell_type": "code",
   "execution_count": 11,
   "id": "5da0ca4e-1bfc-4c37-b7e8-f3ed5185d00e",
   "metadata": {},
   "outputs": [
    {
     "name": "stdout",
     "output_type": "stream",
     "text": [
      "1\n",
      "2\n",
      "3\n",
      "4\n",
      "5\n",
      "6\n",
      "7\n",
      "8\n",
      "9\n",
      "10\n"
     ]
    }
   ],
   "source": [
    "data1 = 0\n",
    "while data1 < 10 :\n",
    "    data1 = data1 + 1\n",
    "    print(data1)"
   ]
  },
  {
   "cell_type": "code",
   "execution_count": 12,
   "id": "49e5de80-5cd1-4d68-8501-f95b41aa6c59",
   "metadata": {},
   "outputs": [
    {
     "name": "stdout",
     "output_type": "stream",
     "text": [
      "a\n",
      "b\n",
      "c\n"
     ]
    }
   ],
   "source": [
    "for i in ['a','b','c'] :\n",
    "    print(i)"
   ]
  },
  {
   "cell_type": "code",
   "execution_count": 13,
   "id": "75aecc72-2dcc-4a6c-9eef-1d0af9167ee3",
   "metadata": {},
   "outputs": [
    {
     "data": {
      "text/plain": [
       "[0, 1, 2, 3, 4, 5]"
      ]
     },
     "execution_count": 13,
     "metadata": {},
     "output_type": "execute_result"
    }
   ],
   "source": [
    "# 리스트 컴프리헨션 미션 사용할 때 사용\n",
    "[x for x in range(6)]\n",
    "\n",
    "#range(n) : n-1까지 숫자를 출력"
   ]
  },
  {
   "cell_type": "code",
   "execution_count": 14,
   "id": "790dd4b2-4f6a-4812-baf0-deed4ef62bba",
   "metadata": {},
   "outputs": [
    {
     "name": "stdout",
     "output_type": "stream",
     "text": [
      "0 1 2 3 4 5 "
     ]
    }
   ],
   "source": [
    "for i in range(6):\n",
    "    print(i,end=\" \")"
   ]
  },
  {
   "cell_type": "code",
   "execution_count": 15,
   "id": "b68d1cfb-5159-4349-b2a2-c061af6724f4",
   "metadata": {},
   "outputs": [
    {
     "data": {
      "text/plain": [
       "202"
      ]
     },
     "execution_count": 15,
     "metadata": {},
     "output_type": "execute_result"
    }
   ],
   "source": [
    "def func1(x):\n",
    "    return x+200\n",
    "\n",
    "func1(2)"
   ]
  },
  {
   "cell_type": "code",
   "execution_count": 16,
   "id": "9789a466-4c65-4c3c-a063-3f9fdc6e5a37",
   "metadata": {},
   "outputs": [],
   "source": [
    "def func2(x1,x2,cond1 = True):\n",
    "    if cond1 == True:\n",
    "        return x1 + x2\n",
    "    else :\n",
    "        return x1 - x2"
   ]
  },
  {
   "cell_type": "code",
   "execution_count": 17,
   "id": "09adbc8b-8766-401b-94a8-3bb1d577146a",
   "metadata": {},
   "outputs": [
    {
     "data": {
      "text/plain": [
       "300"
      ]
     },
     "execution_count": 17,
     "metadata": {},
     "output_type": "execute_result"
    }
   ],
   "source": [
    "func2(100,200)"
   ]
  },
  {
   "cell_type": "code",
   "execution_count": 18,
   "id": "c77d5707-d992-412f-8886-c16c4be638f8",
   "metadata": {},
   "outputs": [
    {
     "data": {
      "text/plain": [
       "-100"
      ]
     },
     "execution_count": 18,
     "metadata": {},
     "output_type": "execute_result"
    }
   ],
   "source": [
    "func2(100,200,False)"
   ]
  },
  {
   "cell_type": "markdown",
   "id": "20a2b645-a604-41ba-8606-fd99fa63b296",
   "metadata": {},
   "source": [
    "# 예외처리\n",
    "- try : 실행하려는 코드\n",
    "- except: 에러가 난 경우에 실행할 코드\n",
    "- finally : 에러의 유무에 상관 없이 최종적으로 실행할 코드"
   ]
  },
  {
   "cell_type": "code",
   "execution_count": 19,
   "id": "58ce1a44-1bbb-48ee-a116-8e0142efd81e",
   "metadata": {},
   "outputs": [
    {
     "name": "stdout",
     "output_type": "stream",
     "text": [
      "error\n",
      "[]\n",
      "done\n"
     ]
    }
   ],
   "source": [
    "try : \n",
    "    data1=[]\n",
    "    for i in range(1,6):\n",
    "        data1.remove(1)\n",
    "        data1.append(i)\n",
    "    print('no error')\n",
    "except :\n",
    "    print('error')\n",
    "finally : \n",
    "    print(data1)\n",
    "    print('done')"
   ]
  },
  {
   "cell_type": "markdown",
   "id": "a5dd4c78-db1e-4d61-a92b-85f1b8210dea",
   "metadata": {},
   "source": [
    "미션풀이"
   ]
  },
  {
   "cell_type": "markdown",
   "id": "2114e3f4-9ba0-4717-908b-cf4f713b23a2",
   "metadata": {},
   "source": [
    "### 반복문 1~2번 문제"
   ]
  },
  {
   "cell_type": "code",
   "execution_count": 20,
   "id": "9da50228-3c08-428e-b915-30868637c5ae",
   "metadata": {},
   "outputs": [
    {
     "name": "stdin",
     "output_type": "stream",
     "text": [
      "숫자를 입력하시오 21\n"
     ]
    },
    {
     "data": {
      "text/plain": [
       "str"
      ]
     },
     "execution_count": 20,
     "metadata": {},
     "output_type": "execute_result"
    }
   ],
   "source": [
    "input1 = input('숫자를 입력하시오')\n",
    "type(input1)"
   ]
  },
  {
   "cell_type": "code",
   "execution_count": 21,
   "id": "82faf75b-5c21-4c18-a259-2cc16ebe4b8d",
   "metadata": {},
   "outputs": [
    {
     "name": "stdin",
     "output_type": "stream",
     "text": [
      "숫자를 입력하시오 12\n"
     ]
    },
    {
     "data": {
      "text/plain": [
       "int"
      ]
     },
     "execution_count": 21,
     "metadata": {},
     "output_type": "execute_result"
    }
   ],
   "source": [
    "input2 = int(input('숫자를 입력하시오'))\n",
    "type(input2)"
   ]
  },
  {
   "cell_type": "code",
   "execution_count": 22,
   "id": "5ff1230a-995f-4ef2-b8dc-fc304b73fdb8",
   "metadata": {},
   "outputs": [
    {
     "name": "stdin",
     "output_type": "stream",
     "text": [
      "숫자를 입력하시오. 띄어쓰기로 구분 231 1 2\n"
     ]
    },
    {
     "data": {
      "text/plain": [
       "['231', '1', '2']"
      ]
     },
     "execution_count": 22,
     "metadata": {},
     "output_type": "execute_result"
    }
   ],
   "source": [
    "input_number = input('숫자를 입력하시오. 띄어쓰기로 구분')\n",
    "input_list = input_number.split(' ')\n",
    "input_list"
   ]
  },
  {
   "cell_type": "code",
   "execution_count": 23,
   "id": "318e361b-744d-40f1-86b8-b2131841d62c",
   "metadata": {},
   "outputs": [
    {
     "data": {
      "text/plain": [
       "[231, 1, 2]"
      ]
     },
     "execution_count": 23,
     "metadata": {},
     "output_type": "execute_result"
    }
   ],
   "source": [
    "[int(x) for x in input_list]"
   ]
  },
  {
   "cell_type": "code",
   "execution_count": 24,
   "id": "263778bb-89bd-4880-b1ab-8c30b9b59eed",
   "metadata": {},
   "outputs": [
    {
     "name": "stdin",
     "output_type": "stream",
     "text": [
      "숫자를 입력하시오. 띄어쓰기로 구분 3 12 4\n"
     ]
    },
    {
     "name": "stdout",
     "output_type": "stream",
     "text": [
      "19\n"
     ]
    }
   ],
   "source": [
    "input_number = input('숫자를 입력하시오. 띄어쓰기로 구분')\n",
    "list1 = input_number.split(' ')\n",
    "list2 = [int(x) for x in list1]\n",
    "\n",
    "result1 = 0\n",
    "for i in list2:\n",
    "    result1 = result1 + i\n",
    "\n",
    "print(result1)"
   ]
  },
  {
   "cell_type": "code",
   "execution_count": 25,
   "id": "e362e411-c305-4797-b801-b6d6f27e7239",
   "metadata": {},
   "outputs": [
    {
     "data": {
      "text/plain": [
       "3.0"
      ]
     },
     "execution_count": 25,
     "metadata": {},
     "output_type": "execute_result"
    }
   ],
   "source": [
    "# 2번\n",
    "list1 = [x for x in range(1,6)]\n",
    "sum(list1)/ len(list1)"
   ]
  },
  {
   "cell_type": "code",
   "execution_count": 27,
   "id": "172f30e4-b51b-4e0f-a6fc-8026e713b34c",
   "metadata": {},
   "outputs": [
    {
     "name": "stdin",
     "output_type": "stream",
     "text": [
      "숫자를 입력하시오. 띄어쓰기로 구분 1 2 3 4\n"
     ]
    },
    {
     "name": "stdout",
     "output_type": "stream",
     "text": [
      "2.5\n"
     ]
    }
   ],
   "source": [
    "# 숙련자\n",
    "input_number = input('숫자를 입력하시오. 띄어쓰기로 구분')\n",
    "list1 = input_number.split(' ')\n",
    "list2 = [int(x) for x in list1]\n",
    "\n",
    "print(sum(list2)/len(list2))"
   ]
  },
  {
   "cell_type": "markdown",
   "id": "64fd09ee-ada9-4a3e-89b0-f7a3bf7e8c33",
   "metadata": {},
   "source": [
    "### 미션 반복문 3번 문제"
   ]
  },
  {
   "cell_type": "code",
   "execution_count": 29,
   "id": "ccc3534e-35ae-48d8-9bf6-8d22acff82d5",
   "metadata": {},
   "outputs": [
    {
     "name": "stdin",
     "output_type": "stream",
     "text": [
      "이름과 성적 5개를 입력하시오 띄어쓰기로 구분 홍길동 100 100 100 100 100\n"
     ]
    },
    {
     "data": {
      "text/plain": [
       "'홍길동 100 100 100 100 100'"
      ]
     },
     "execution_count": 29,
     "metadata": {},
     "output_type": "execute_result"
    }
   ],
   "source": [
    "input_data = input('이름과 성적 5개를 입력하시오 띄어쓰기로 구분')\n",
    "input_data"
   ]
  },
  {
   "cell_type": "code",
   "execution_count": 30,
   "id": "10a8f6a1-d796-4820-b1c9-52a20999c92c",
   "metadata": {},
   "outputs": [
    {
     "data": {
      "text/plain": [
       "['홍길동', '100', '100', '100', '100', '100']"
      ]
     },
     "execution_count": 30,
     "metadata": {},
     "output_type": "execute_result"
    }
   ],
   "source": [
    "list1 = input_data.split(' ')\n",
    "list1"
   ]
  },
  {
   "cell_type": "code",
   "execution_count": 31,
   "id": "5aff98b1-9773-4c95-a9b0-b21e05a7fb15",
   "metadata": {},
   "outputs": [],
   "source": [
    "name = list1[0]\n",
    "scores = list1[1:] # 1번 인덱스부터 끝까지 (2번째 순서)"
   ]
  },
  {
   "cell_type": "code",
   "execution_count": 32,
   "id": "0d465ffe-717b-4c00-9253-dee10ad39ff2",
   "metadata": {},
   "outputs": [
    {
     "data": {
      "text/plain": [
       "[100, 100, 100, 100, 100]"
      ]
     },
     "execution_count": 32,
     "metadata": {},
     "output_type": "execute_result"
    }
   ],
   "source": [
    "scores_2=[int(x) for x in scores]\n",
    "scores_2"
   ]
  },
  {
   "cell_type": "code",
   "execution_count": 33,
   "id": "2407ac46-95ff-4015-8e36-32d57d411f13",
   "metadata": {},
   "outputs": [
    {
     "name": "stdin",
     "output_type": "stream",
     "text": [
      "이름과 성적 5개를 입력하시오:  홍길동 1 2 3 4 5\n"
     ]
    },
    {
     "name": "stdout",
     "output_type": "stream",
     "text": [
      "홍길동 학생의 성적은 3.0이고, F 입니다.\n"
     ]
    }
   ],
   "source": [
    "input_data = input('이름과 성적 5개를 입력하시오: ')\n",
    "list1 = input_data.split(' ')\n",
    "name = list1[0]\n",
    "scores = [int(x) for x in list1[1:]]\n",
    "avg = sum(scores) / len(scores)\n",
    "\n",
    "if avg >= 90:\n",
    "    print(f'{name} 학생의 성적은 {avg}이고, A 입니다.')\n",
    "elif avg >= 80:\n",
    "    print(f'{name} 학생의 성적은 {avg}이고, B 입니다.')\n",
    "elif avg >= 70:\n",
    "    print(f'{name} 학생의 성적은 {avg}이고, C 입니다.')\n",
    "else:\n",
    "    print(f'{name} 학생의 성적은 {avg}이고, F 입니다.')\n"
   ]
  },
  {
   "cell_type": "code",
   "execution_count": 34,
   "id": "c3cac1eb-035a-4466-b592-3db54fd13c58",
   "metadata": {},
   "outputs": [
    {
     "name": "stdin",
     "output_type": "stream",
     "text": [
      "연도를 입력하시오 2024\n"
     ]
    },
    {
     "name": "stdout",
     "output_type": "stream",
     "text": [
      "2024는 윤년입니다\n"
     ]
    }
   ],
   "source": [
    "input_year = int(input('연도를 입력하시오'))\n",
    "if (input_year % 4 ==0) & (input_year % 100 !=0) | (input_year % 400 ==0):\n",
    "    print(f'{input_year}는 윤년입니다')\n",
    "else:\n",
    "    print(f'{input_year}는 평년입니다')"
   ]
  },
  {
   "cell_type": "code",
   "execution_count": 35,
   "id": "511c01c3-7995-42da-9971-9109087816d7",
   "metadata": {},
   "outputs": [
    {
     "name": "stdin",
     "output_type": "stream",
     "text": [
      "연도를 입력하시오 2024\n"
     ]
    },
    {
     "data": {
      "text/plain": [
       "'윤년입니다'"
      ]
     },
     "execution_count": 35,
     "metadata": {},
     "output_type": "execute_result"
    }
   ],
   "source": [
    "input_year = int(input('연도를 입력하시오'))\n",
    "dict1 = {True :'윤년입니다', False : '평년입니다'}\n",
    "cond1 = ((input_year % 4 ==0) & (input_year % 100 !=0) | (input_year % 400 ==0))\n",
    "dict1[cond1]"
   ]
  },
  {
   "cell_type": "markdown",
   "id": "ef133e1e-fa77-4d62-9486-99c2f9cc2193",
   "metadata": {},
   "source": [
    "# 데이터 분석 라이브러리\n",
    "\n",
    "- numpy : numeric + python : 연속형,수치형 자료 과학/수학/통계/ 연산을 수행하는 라이브러리. 딥러닝/ 비정형 데이터를 다루는데 많이 쓰임\n",
    "- pandas : panel1 + dataset : 정형데이터 (excel, csv , rdb , sql , ...) 를 다루는 라이브러리\n",
    "- matplot : matlab + plot : 연속형 데이터 그래프 시각화 라이브러리\n",
    "- seaborn : 정형데이터 통계분석 시각화 라이브러리\n",
    "- plotly : 정형데이터 동적 시각화 라이브러리\n",
    "- missingno : 결측치 패턴 , 수 , 시각화 라이브러리\n",
    "- scipy : science + python 응용통계 (가설검정/회귀분석/시계열/...) 라이브러리\n",
    "- scikit-learn :science + python + toolkit + learning : 정형 데이터를 이용한 데이터 마이닝 , 머신러닝 라이브러리\n",
    "- tensorflow : 비정형데이터 (이미지, 영상 , 자연어) 라이브러리\n",
    "- keras : tensorlow 기반 딥러닝 학습 라이브러리\n",
    "- pytorch : 비정형 데이터 관련 라이브러리\n",
    "- konlpy : Korean Natural Language Process python : 한국어 자연어 처리 라이브러리"
   ]
  },
  {
   "cell_type": "markdown",
   "id": "c6d970cf-e973-448d-aed7-0563a654af41",
   "metadata": {},
   "source": [
    "# Numpy\n",
    "- numeric + python\n",
    "- 정형데이터의 기본이 되는 형태\n",
    "- 초기 데이터 분석에 많이 쓰였지만 , 지금은 비정형 데이터에 주로 쓰인다"
   ]
  },
  {
   "cell_type": "code",
   "execution_count": 36,
   "id": "8c7db4bb-e54b-4357-bdbb-9d36b510f89e",
   "metadata": {},
   "outputs": [],
   "source": [
    "import numpy as np\n"
   ]
  },
  {
   "cell_type": "code",
   "execution_count": 37,
   "id": "0a96cee2-e39d-43d0-a7d1-2a7c252bec7b",
   "metadata": {},
   "outputs": [
    {
     "ename": "AttributeError",
     "evalue": "'list' object has no attribute 'mean'",
     "output_type": "error",
     "traceback": [
      "\u001b[1;31m---------------------------------------------------------------------------\u001b[0m",
      "\u001b[1;31mAttributeError\u001b[0m                            Traceback (most recent call last)",
      "Cell \u001b[1;32mIn[37], line 2\u001b[0m\n\u001b[0;32m      1\u001b[0m list1 \u001b[38;5;241m=\u001b[39m [\u001b[38;5;241m1\u001b[39m,\u001b[38;5;241m3\u001b[39m,\u001b[38;5;241m5\u001b[39m]\n\u001b[1;32m----> 2\u001b[0m list1\u001b[38;5;241m.\u001b[39mmean()\n",
      "\u001b[1;31mAttributeError\u001b[0m: 'list' object has no attribute 'mean'"
     ]
    }
   ],
   "source": [
    "list1 = [1,3,5]\n",
    "list1.mean()\n",
    "#에러"
   ]
  },
  {
   "cell_type": "code",
   "execution_count": 38,
   "id": "354c4f82-c063-4d46-a4a1-29cb7fe8af59",
   "metadata": {},
   "outputs": [
    {
     "data": {
      "text/plain": [
       "numpy.ndarray"
      ]
     },
     "execution_count": 38,
     "metadata": {},
     "output_type": "execute_result"
    }
   ],
   "source": [
    "data1 = np.array([1,2,3])\n",
    "type(data1) #nd array : n-dimensional"
   ]
  },
  {
   "cell_type": "code",
   "execution_count": 39,
   "id": "4049bf24-bd32-4b89-b88f-3bbb9964ede1",
   "metadata": {},
   "outputs": [
    {
     "data": {
      "text/plain": [
       "1"
      ]
     },
     "execution_count": 39,
     "metadata": {},
     "output_type": "execute_result"
    }
   ],
   "source": [
    "data1.ndim #배열의 축 수 "
   ]
  },
  {
   "cell_type": "code",
   "execution_count": 40,
   "id": "3d7afb07-098d-41ca-a874-62e7a0595ec5",
   "metadata": {},
   "outputs": [
    {
     "data": {
      "text/plain": [
       "2"
      ]
     },
     "execution_count": 40,
     "metadata": {},
     "output_type": "execute_result"
    }
   ],
   "source": [
    "# 0 scalar\n",
    "# 1 : vector\n",
    "# 2 : matricx\n",
    "# 3 : tensor\n",
    "np.array([[1,2],[2,3]]).ndim"
   ]
  },
  {
   "cell_type": "code",
   "execution_count": 41,
   "id": "3b51ba63-d064-46e3-95e7-9a7e0a36464d",
   "metadata": {},
   "outputs": [
    {
     "data": {
      "text/plain": [
       "2.0"
      ]
     },
     "execution_count": 41,
     "metadata": {},
     "output_type": "execute_result"
    }
   ],
   "source": [
    "data1.mean()"
   ]
  },
  {
   "cell_type": "code",
   "execution_count": 42,
   "id": "801a34d7-89d7-4ffa-8440-1460c0ee4213",
   "metadata": {},
   "outputs": [
    {
     "data": {
      "text/plain": [
       "3"
      ]
     },
     "execution_count": 42,
     "metadata": {},
     "output_type": "execute_result"
    }
   ],
   "source": [
    "data1.max() # 최대값"
   ]
  },
  {
   "cell_type": "code",
   "execution_count": 43,
   "id": "91705435-5b35-468d-881d-d7c9841c423a",
   "metadata": {},
   "outputs": [
    {
     "data": {
      "text/plain": [
       "[0, 1, 2, 3, 4, 5, 6, 7, 8, 9]"
      ]
     },
     "execution_count": 43,
     "metadata": {},
     "output_type": "execute_result"
    }
   ],
   "source": [
    "[x for x in range(0,10)]"
   ]
  },
  {
   "cell_type": "code",
   "execution_count": 44,
   "id": "3d96e61e-922e-4c08-940e-764eda699497",
   "metadata": {},
   "outputs": [
    {
     "data": {
      "text/plain": [
       "array([0, 1, 2, 3, 4, 5, 6, 7, 8, 9])"
      ]
     },
     "execution_count": 44,
     "metadata": {},
     "output_type": "execute_result"
    }
   ],
   "source": [
    "np.arange(10)"
   ]
  },
  {
   "cell_type": "code",
   "execution_count": 45,
   "id": "76a20185-a5fb-43e8-835c-c88a22f83a14",
   "metadata": {},
   "outputs": [
    {
     "data": {
      "text/plain": [
       "array([ 1,  4,  7, 10, 13, 16, 19])"
      ]
     },
     "execution_count": 45,
     "metadata": {},
     "output_type": "execute_result"
    }
   ],
   "source": [
    "np.arange(1,20,3)\n",
    "\n",
    "# 1부터 20까지 3의 간격으로 벡터 생성"
   ]
  },
  {
   "cell_type": "code",
   "execution_count": 46,
   "id": "7b73cf3c-15bb-4f42-9d3d-2b9acb13be22",
   "metadata": {},
   "outputs": [
    {
     "data": {
      "text/plain": [
       "array([ 1. ,  2.5,  4. ,  5.5,  7. ,  8.5, 10. ])"
      ]
     },
     "execution_count": 46,
     "metadata": {},
     "output_type": "execute_result"
    }
   ],
   "source": [
    "np.linspace(1,10,7)\n",
    "# 1에서 10까지를 7개로 쪼개서 반환"
   ]
  },
  {
   "cell_type": "markdown",
   "id": "e37427e9-b81f-461b-9d1e-084cc5923bd6",
   "metadata": {},
   "source": [
    "## 미션 풀이\n",
    "\n",
    "### 1. 하나의 리스트를 입력 받았을 때 , 중복값을 제거하고 출력하는 함수를 만드시오."
   ]
  },
  {
   "cell_type": "code",
   "execution_count": 47,
   "id": "e9bdf447-d087-4762-a53b-e4a21c8ced29",
   "metadata": {},
   "outputs": [
    {
     "data": {
      "text/plain": [
       "[1, 2, 3, 4, 5]"
      ]
     },
     "execution_count": 47,
     "metadata": {},
     "output_type": "execute_result"
    }
   ],
   "source": [
    "def func1(list1):\n",
    "    return list(set(list1))\n",
    "func1([1,1,1,2,3,3,4,5])"
   ]
  },
  {
   "cell_type": "code",
   "execution_count": 1,
   "id": "64653fac-882a-4ad6-a64e-6c8466d8ebb2",
   "metadata": {},
   "outputs": [
    {
     "data": {
      "text/plain": [
       "[-1, 1, 2, 3, 4]"
      ]
     },
     "execution_count": 1,
     "metadata": {},
     "output_type": "execute_result"
    }
   ],
   "source": [
    "# 2. 입력받은 튜플을 오름차순으로 정렬하는 함수를 만드시오\n",
    "\n",
    "def func2(tuple1) :\n",
    "    return sorted(tuple1)\n",
    "\n",
    "func2((1,3,-1,2,4))"
   ]
  },
  {
   "cell_type": "code",
   "execution_count": 49,
   "id": "fc8d8c25-827c-42e2-9581-857006c4d3b7",
   "metadata": {},
   "outputs": [],
   "source": [
    "# 3. 1부터 100까지의 숫자 중 6개의 숫자를 중복 없이 임의로 생성하는 함수를 만드시오.\n",
    "import random\n",
    "def func3():\n",
    "    result1 =[]\n",
    "    while len(result1) < 6:\n",
    "        num = random.randint(1,100)\n",
    "        if num in result1:\n",
    "            continue\n",
    "        else : \n",
    "            result1.append(num)\n",
    "    return result1"
   ]
  },
  {
   "cell_type": "code",
   "execution_count": 50,
   "id": "ead6a96b-9d0f-418a-9ad3-8a368bdb5677",
   "metadata": {},
   "outputs": [
    {
     "data": {
      "text/plain": [
       "[30, 19, 39, 11, 53, 37]"
      ]
     },
     "execution_count": 50,
     "metadata": {},
     "output_type": "execute_result"
    }
   ],
   "source": [
    "func3()\n",
    "        "
   ]
  },
  {
   "cell_type": "code",
   "execution_count": 51,
   "id": "c5a44798-d6fe-4083-9994-a7f59c7d4cba",
   "metadata": {},
   "outputs": [
    {
     "data": {
      "text/plain": [
       "[73, 69, 19, 95, 25, 52]"
      ]
     },
     "execution_count": 51,
     "metadata": {},
     "output_type": "execute_result"
    }
   ],
   "source": [
    "random.sample(range(101),6)"
   ]
  },
  {
   "cell_type": "code",
   "execution_count": 52,
   "id": "bdaabbf1-583b-44e9-88b0-434dd7de9076",
   "metadata": {},
   "outputs": [],
   "source": [
    "# 4. 숫자를 입력받아 짝/홀수를 판별하는 프로그램을 if문 없이 만드시오.\n",
    "def func4():\n",
    "    num = int(input('숫자를 입력하시오'))\n",
    "    cond1 = num % 2 ==0\n",
    "    # dict1 = {True : '짝수입니다.',False : '홀수입니다.'}\n",
    "    dict1 = {True : f'{num}는 짝수입니다.',False : '홀수입니다.'}\n",
    "    return dict1[cond1]"
   ]
  },
  {
   "cell_type": "code",
   "execution_count": 53,
   "id": "7a0a7bcd-72dd-4307-b407-23019d72fb24",
   "metadata": {},
   "outputs": [
    {
     "name": "stdin",
     "output_type": "stream",
     "text": [
      "숫자를 입력하시오 4\n"
     ]
    },
    {
     "data": {
      "text/plain": [
       "'4는 짝수입니다.'"
      ]
     },
     "execution_count": 53,
     "metadata": {},
     "output_type": "execute_result"
    }
   ],
   "source": [
    "func4()"
   ]
  },
  {
   "cell_type": "code",
   "execution_count": 54,
   "id": "fb3af79c-e7a9-457d-895d-fa416863afd7",
   "metadata": {},
   "outputs": [
    {
     "data": {
      "text/plain": [
       "[1, 3, 5, 7, 9, 11, 13, 15, 17, 19, 21, 23, 25, 27, 29]"
      ]
     },
     "execution_count": 54,
     "metadata": {},
     "output_type": "execute_result"
    }
   ],
   "source": [
    "# 5. 1부터 30의 숫자 중 홀수만 갖는 리스트를 만드시오\n",
    "[x for x in range(0,31) if x % 2 !=0]"
   ]
  },
  {
   "cell_type": "code",
   "execution_count": 55,
   "id": "eb0f21d4-1b6f-4384-ab65-e9c6a52e3e88",
   "metadata": {},
   "outputs": [
    {
     "data": {
      "text/plain": [
       "array([ 1,  3,  5,  7,  9, 11, 13, 15, 17, 19, 21, 23, 25, 27, 29])"
      ]
     },
     "execution_count": 55,
     "metadata": {},
     "output_type": "execute_result"
    }
   ],
   "source": [
    "import numpy as np\n",
    "np.arange(1,31,2)"
   ]
  },
  {
   "cell_type": "code",
   "execution_count": 56,
   "id": "d1a853d9-af96-49ec-a33b-4fe58e77f296",
   "metadata": {},
   "outputs": [
    {
     "data": {
      "text/plain": [
       "[1, 3, 5, 7, 9, 11, 13, 15, 17, 19, 21, 23, 25, 27, 29]"
      ]
     },
     "execution_count": 56,
     "metadata": {},
     "output_type": "execute_result"
    }
   ],
   "source": [
    "list1 = [x for x in range(0,31)]\n",
    "result1 = []\n",
    "for i in list1:\n",
    "    if i % 2 !=0:\n",
    "        result1.append(i)\n",
    "\n",
    "result1"
   ]
  },
  {
   "cell_type": "code",
   "execution_count": 57,
   "id": "0e8860f7-7b4c-40bc-8dd9-355ac0ba01b0",
   "metadata": {},
   "outputs": [
    {
     "data": {
      "text/plain": [
       "[3, 6, 9, 15, 18, 21, 27, 30]"
      ]
     },
     "execution_count": 57,
     "metadata": {},
     "output_type": "execute_result"
    }
   ],
   "source": [
    "# 6. 1부터 30의 숫자 중 3의 배수이지만 4의 배수는 아닌 숫자를 출력하시오\n",
    "[x for x in range(1,31) if (x%3 ==0) & (x%4 !=0)]"
   ]
  },
  {
   "cell_type": "markdown",
   "id": "3ea9223d-ee88-4612-bc79-8efc780c920d",
   "metadata": {},
   "source": [
    "## 7. 아래 두 리스트의 중복값을 제거한 후 오름차순으로 하나의 리스트로 출력하는 함수를 만드시오\n",
    "- list1 = [100,200,500,600,700]\n",
    "- list2 = [500,600,700,800,900]"
   ]
  },
  {
   "cell_type": "code",
   "execution_count": 58,
   "id": "fb2f5522-c152-4eea-a2ff-afbbb5cd57c2",
   "metadata": {},
   "outputs": [
    {
     "data": {
      "text/plain": [
       "[100, 200, 500, 600, 700, 500, 600, 700, 800, 900]"
      ]
     },
     "execution_count": 58,
     "metadata": {},
     "output_type": "execute_result"
    }
   ],
   "source": [
    "list1 = [100,200,500,600,700]\n",
    "list2 = [500,600,700,800,900]\n",
    "list3 = list1 + list2\n",
    "list3"
   ]
  },
  {
   "cell_type": "code",
   "execution_count": 59,
   "id": "e7341841-7e81-4731-96ee-676c748c882d",
   "metadata": {},
   "outputs": [],
   "source": [
    "def func7():\n",
    "    list1 = [100,200,500,600,700]\n",
    "    list2 = [500,600,700,800,900]\n",
    "    list3 = list1 + list2\n",
    "    return sorted(set(list3))"
   ]
  },
  {
   "cell_type": "code",
   "execution_count": 60,
   "id": "cb4d5d00-ad28-4ddb-8493-330291d6cb4f",
   "metadata": {},
   "outputs": [
    {
     "data": {
      "text/plain": [
       "[100, 200, 500, 600, 700, 800, 900]"
      ]
     },
     "execution_count": 60,
     "metadata": {},
     "output_type": "execute_result"
    }
   ],
   "source": [
    "func7()"
   ]
  },
  {
   "cell_type": "markdown",
   "id": "a3d2597d-d266-4d55-bb45-a4816fa79cf6",
   "metadata": {},
   "source": [
    "## 8. 1~50 사이의 숫자를 랜덤으로 생성한 후, 숫자를 맞출 때까지 값을 입력해서 맞추는 프로그램을 생성. (업다운 게임)\n",
    "\n",
    "- 숙련자 : 시도한 횟수도 표시"
   ]
  },
  {
   "cell_type": "code",
   "execution_count": 61,
   "id": "17845a0c-e655-418a-a87f-a3dd72e1b1ef",
   "metadata": {},
   "outputs": [
    {
     "data": {
      "text/plain": [
       "4"
      ]
     },
     "execution_count": 61,
     "metadata": {},
     "output_type": "execute_result"
    }
   ],
   "source": [
    "target = random.randint(0,5)\n",
    "target"
   ]
  },
  {
   "cell_type": "code",
   "execution_count": 62,
   "id": "76de26cf-5749-4e6d-8b06-b97d212f9115",
   "metadata": {},
   "outputs": [
    {
     "name": "stdin",
     "output_type": "stream",
     "text": [
      "숫자를 입력하시오 2\n"
     ]
    },
    {
     "data": {
      "text/plain": [
       "2"
      ]
     },
     "execution_count": 62,
     "metadata": {},
     "output_type": "execute_result"
    }
   ],
   "source": [
    "guess = int(input('숫자를 입력하시오'))\n",
    "guess"
   ]
  },
  {
   "cell_type": "code",
   "execution_count": 63,
   "id": "61e24558-9b9b-4079-b2b6-2ebd098aeb7f",
   "metadata": {},
   "outputs": [
    {
     "name": "stdout",
     "output_type": "stream",
     "text": [
      "업\n"
     ]
    }
   ],
   "source": [
    "if target == guess:\n",
    "    print('성공입니다')\n",
    "elif target > guess:\n",
    "    print('업')\n",
    "elif target < guess :\n",
    "    print('다운')"
   ]
  },
  {
   "cell_type": "code",
   "execution_count": 64,
   "id": "4c3e8ed8-4ebc-4f5f-a766-508c4e189887",
   "metadata": {},
   "outputs": [
    {
     "name": "stdin",
     "output_type": "stream",
     "text": [
      "숫자를 입력하시오 2\n"
     ]
    },
    {
     "name": "stdout",
     "output_type": "stream",
     "text": [
      "다운\n"
     ]
    },
    {
     "name": "stdin",
     "output_type": "stream",
     "text": [
      "숫자를 입력하시오 1\n"
     ]
    },
    {
     "name": "stdout",
     "output_type": "stream",
     "text": [
      "성공입니다\n"
     ]
    }
   ],
   "source": [
    "target = random.randint(0,5)\n",
    "\n",
    "while True:\n",
    "    guess = int(input('숫자를 입력하시오'))\n",
    "    if target == guess:\n",
    "        print('성공입니다')\n",
    "        break\n",
    "    elif target > guess:\n",
    "        print('업')\n",
    "    elif target < guess :\n",
    "        print('다운')"
   ]
  },
  {
   "cell_type": "code",
   "execution_count": null,
   "id": "cb93396c-5f5c-4d72-bb6f-f599b0121b77",
   "metadata": {},
   "outputs": [],
   "source": [
    "def func8():\n",
    "    target = random.randint(0,5)\n",
    "    count = 1\n",
    "    \n",
    "    while True:\n",
    "        guess = int(input('숫자를 입력하시오'))\n",
    "        if target == guess:\n",
    "            return f'성공입니다! 시도한 횟수는 {count} 입니다'\n",
    "            break\n",
    "        elif target > guess :\n",
    "            count = count + 1\n",
    "            print('업')\n",
    "        elif target < guess :\n",
    "            count = count + 1\n",
    "            print('다운')"
   ]
  },
  {
   "cell_type": "code",
   "execution_count": 3,
   "id": "9b77f38d-f2e5-4486-b9b1-3ec33d04dad8",
   "metadata": {},
   "outputs": [
    {
     "data": {
      "text/plain": [
       "[[0, 0, 1], [0, 1, 0], [1, 0, 0]]"
      ]
     },
     "execution_count": 3,
     "metadata": {},
     "output_type": "execute_result"
    }
   ],
   "source": [
    "# 행렬\n",
    "\n",
    "# 행 : 가로\n",
    "# 열 : 세로\n",
    "\n",
    "m1 = [[0,0,1],[0,1,0],[1,0,0]]\n",
    "m1"
   ]
  },
  {
   "cell_type": "code",
   "execution_count": 4,
   "id": "75ab3dc0-602d-4b49-9947-88e10a93eb1c",
   "metadata": {},
   "outputs": [
    {
     "data": {
      "text/plain": [
       "array([[0, 0, 1],\n",
       "       [0, 1, 0],\n",
       "       [1, 0, 0]])"
      ]
     },
     "execution_count": 4,
     "metadata": {},
     "output_type": "execute_result"
    }
   ],
   "source": [
    "import numpy as np\n",
    "data1 = np.array(m1)\n",
    "data1"
   ]
  },
  {
   "cell_type": "code",
   "execution_count": 5,
   "id": "301ae575-016a-496f-a68e-b6a61d910588",
   "metadata": {},
   "outputs": [
    {
     "data": {
      "text/plain": [
       "numpy.ndarray"
      ]
     },
     "execution_count": 5,
     "metadata": {},
     "output_type": "execute_result"
    }
   ],
   "source": [
    "type(data1)"
   ]
  },
  {
   "cell_type": "code",
   "execution_count": 6,
   "id": "1f4e4b31-c804-4ce8-9f97-5b2bacc12502",
   "metadata": {},
   "outputs": [
    {
     "data": {
      "text/plain": [
       "2"
      ]
     },
     "execution_count": 6,
     "metadata": {},
     "output_type": "execute_result"
    }
   ],
   "source": [
    "data1.ndim\n",
    "#2 : matrix"
   ]
  },
  {
   "cell_type": "code",
   "execution_count": 7,
   "id": "da482dea-e86b-4b10-a120-9fbdee39aea1",
   "metadata": {},
   "outputs": [
    {
     "data": {
      "text/plain": [
       "array([[ 2,  4],\n",
       "       [ 6,  8],\n",
       "       [10, 12]])"
      ]
     },
     "execution_count": 7,
     "metadata": {},
     "output_type": "execute_result"
    }
   ],
   "source": [
    "# 행렬의 연산\n",
    "\n",
    "data4 = np.array([[1,2],[3,4],[5,6]]) # 3x2\n",
    "data5 = np.array([[1,2],[3,4],[5,6]]) # 3x2\n",
    "\n",
    "data4 + data5"
   ]
  },
  {
   "cell_type": "code",
   "execution_count": 8,
   "id": "d743e5ba-e7d4-4da1-bde5-b834e8bedc80",
   "metadata": {},
   "outputs": [
    {
     "data": {
      "text/plain": [
       "array([[0, 0],\n",
       "       [0, 0],\n",
       "       [0, 0]])"
      ]
     },
     "execution_count": 8,
     "metadata": {},
     "output_type": "execute_result"
    }
   ],
   "source": [
    "data4 - data5"
   ]
  },
  {
   "cell_type": "code",
   "execution_count": 15,
   "id": "a2763bb9-164c-4e56-b184-2e609debcaa2",
   "metadata": {},
   "outputs": [
    {
     "data": {
      "text/plain": [
       "array([[ 9, 12, 15],\n",
       "       [19, 26, 33],\n",
       "       [29, 40, 51]])"
      ]
     },
     "execution_count": 15,
     "metadata": {},
     "output_type": "execute_result"
    }
   ],
   "source": [
    "# 행렬의 곱\n",
    "\n",
    "#앞의 행\n",
    "# 뒤의 열이 같아야 곱해진다\n",
    "data6 = np.array([[1,2],[3,4],[5,6]]) # 3x2\n",
    "data7 = np.array([[1,2,3],[4,5,6]]) # 2x3\n",
    "\n",
    "data6 @ data7"
   ]
  },
  {
   "cell_type": "code",
   "execution_count": 12,
   "id": "8366cabf-bc8d-4735-9e25-c628ffe454b0",
   "metadata": {},
   "outputs": [
    {
     "data": {
      "text/plain": [
       "array([['a', 'b', 'c'],\n",
       "       ['d', 'e', 'f'],\n",
       "       ['g', 'h', 'i']], dtype='<U1')"
      ]
     },
     "execution_count": 12,
     "metadata": {},
     "output_type": "execute_result"
    }
   ],
   "source": [
    "data5 = np.array([['a','b','c'],['d','e','f'],['g','h','i']])\n",
    "data5"
   ]
  },
  {
   "cell_type": "code",
   "execution_count": 13,
   "id": "f36a635a-9867-4f27-bec8-ea60f24f7779",
   "metadata": {},
   "outputs": [
    {
     "data": {
      "text/plain": [
       "array(['a', 'b', 'c'], dtype='<U1')"
      ]
     },
     "execution_count": 13,
     "metadata": {},
     "output_type": "execute_result"
    }
   ],
   "source": [
    "data5[0]"
   ]
  },
  {
   "cell_type": "code",
   "execution_count": 14,
   "id": "a1303d85-71de-4b83-97f4-07f28dae52dd",
   "metadata": {},
   "outputs": [
    {
     "data": {
      "text/plain": [
       "array([['z', 'b', 'c'],\n",
       "       ['d', 'e', 'f'],\n",
       "       ['g', 'h', 'i']], dtype='<U1')"
      ]
     },
     "execution_count": 14,
     "metadata": {},
     "output_type": "execute_result"
    }
   ],
   "source": [
    "data5[0,0] = 'z'\n",
    "data5"
   ]
  },
  {
   "cell_type": "code",
   "execution_count": 17,
   "id": "57bcd458-6cb1-40a0-8aa7-ed6989cd2cc7",
   "metadata": {},
   "outputs": [
    {
     "data": {
      "text/plain": [
       "array([['z', 'b', 'c'],\n",
       "       ['x', 'y', 'z'],\n",
       "       ['g', 'h', 'i']], dtype='<U1')"
      ]
     },
     "execution_count": 17,
     "metadata": {},
     "output_type": "execute_result"
    }
   ],
   "source": [
    "data5 [1] = ['x','y','z']\n",
    "data5"
   ]
  },
  {
   "cell_type": "code",
   "execution_count": 18,
   "id": "21fa4a9c-e843-4353-babd-23d026455cc1",
   "metadata": {},
   "outputs": [
    {
     "data": {
      "text/plain": [
       "array([['z', 'b', 'c'],\n",
       "       ['x', 'y', 'z'],\n",
       "       ['g', 'h', 'i']], dtype='<U2')"
      ]
     },
     "execution_count": 18,
     "metadata": {},
     "output_type": "execute_result"
    }
   ],
   "source": [
    "data6 = np.array(data5,dtype = '<U2')\n",
    "data6"
   ]
  },
  {
   "cell_type": "code",
   "execution_count": 19,
   "id": "40b84fb0-40bc-4a3e-9ed1-8be63234291f",
   "metadata": {},
   "outputs": [
    {
     "data": {
      "text/plain": [
       "array([['a1', 'b', 'c'],\n",
       "       ['x', 'y', 'z'],\n",
       "       ['g', 'h', 'i']], dtype='<U2')"
      ]
     },
     "execution_count": 19,
     "metadata": {},
     "output_type": "execute_result"
    }
   ],
   "source": [
    "data6[0,0] = 'a1'\n",
    "data6"
   ]
  },
  {
   "cell_type": "code",
   "execution_count": 20,
   "id": "1981a91d-ee9c-48c0-a351-f9fad9f3e1e9",
   "metadata": {},
   "outputs": [
    {
     "data": {
      "text/plain": [
       "array([[1, 2, 3],\n",
       "       [4, 5, 6],\n",
       "       [1, 2, 3]])"
      ]
     },
     "execution_count": 20,
     "metadata": {},
     "output_type": "execute_result"
    }
   ],
   "source": [
    "# vertical stack\n",
    "np.vstack([data7,[1,2,3]]) # 열 추가 , 수직"
   ]
  },
  {
   "cell_type": "code",
   "execution_count": 24,
   "id": "8a5a9b51-9d1f-4051-9cf4-e3fa3da820ca",
   "metadata": {},
   "outputs": [
    {
     "data": {
      "text/plain": [
       "array([[1, 2, 3, 1],\n",
       "       [4, 5, 6, 2]])"
      ]
     },
     "execution_count": 24,
     "metadata": {},
     "output_type": "execute_result"
    }
   ],
   "source": [
    "# horizontal stack\n",
    "np.hstack([data7, [[1],[2]]]) # 행 추가 , 수평"
   ]
  },
  {
   "cell_type": "code",
   "execution_count": 25,
   "id": "405f3e44-3815-48b1-8087-2ccec4cdaa86",
   "metadata": {},
   "outputs": [
    {
     "data": {
      "text/plain": [
       "array([ 1, 25, 25,  1])"
      ]
     },
     "execution_count": 25,
     "metadata": {},
     "output_type": "execute_result"
    }
   ],
   "source": [
    "# 재구조화\n",
    "data8 = np.array([1,25,25,1])\n",
    "data8"
   ]
  },
  {
   "cell_type": "code",
   "execution_count": 26,
   "id": "17c26595-9e75-4bb5-86c8-f50d378db6ad",
   "metadata": {},
   "outputs": [
    {
     "data": {
      "text/plain": [
       "array([[ 1, 25],\n",
       "       [25,  1]])"
      ]
     },
     "execution_count": 26,
     "metadata": {},
     "output_type": "execute_result"
    }
   ],
   "source": [
    "data8.reshape(2,2)"
   ]
  },
  {
   "cell_type": "code",
   "execution_count": 27,
   "id": "3a6c022e-c580-463b-bf19-c30fca003bbc",
   "metadata": {},
   "outputs": [
    {
     "data": {
      "text/plain": [
       "array([ 1.,  4.,  7., 10., 13., 16., 19., 22., 25.])"
      ]
     },
     "execution_count": 27,
     "metadata": {},
     "output_type": "execute_result"
    }
   ],
   "source": [
    "data9 =np.linspace(1,25,9) # 1부터 25까지의 9개의 일정한 간격으로 요소를 만듬\n",
    "data9"
   ]
  },
  {
   "cell_type": "code",
   "execution_count": 28,
   "id": "8dccd891-0128-4b00-8756-c86b7a5df9b1",
   "metadata": {},
   "outputs": [
    {
     "data": {
      "text/plain": [
       "array([[ 1.,  4.,  7.],\n",
       "       [10., 13., 16.],\n",
       "       [19., 22., 25.]])"
      ]
     },
     "execution_count": 28,
     "metadata": {},
     "output_type": "execute_result"
    }
   ],
   "source": [
    "data9.reshape(3,3)"
   ]
  },
  {
   "cell_type": "code",
   "execution_count": 29,
   "id": "e61cc214-4af8-45f3-8b2a-2c63202d6736",
   "metadata": {},
   "outputs": [
    {
     "data": {
      "text/plain": [
       "array([[0.84062165, 0.12194597, 0.70871862],\n",
       "       [0.2292811 , 0.63225486, 0.18145512]])"
      ]
     },
     "execution_count": 29,
     "metadata": {},
     "output_type": "execute_result"
    }
   ],
   "source": [
    "data11 = np.random.rand(2,3) \n",
    "data11"
   ]
  },
  {
   "cell_type": "code",
   "execution_count": 30,
   "id": "32daac45-a90c-46a6-a047-7d45872842bb",
   "metadata": {},
   "outputs": [
    {
     "data": {
      "text/plain": [
       "array([[0.84062165, 0.12194597, 0.70871862],\n",
       "       [0.2292811 , 0.63225486, 0.18145512]])"
      ]
     },
     "execution_count": 30,
     "metadata": {},
     "output_type": "execute_result"
    }
   ],
   "source": [
    "# 매트릭스 값 확인\n",
    "data11"
   ]
  },
  {
   "cell_type": "code",
   "execution_count": 32,
   "id": "16303c45-8416-4757-8e72-ea53df237e1d",
   "metadata": {},
   "outputs": [
    {
     "data": {
      "text/plain": [
       "2.7142773228706956"
      ]
     },
     "execution_count": 32,
     "metadata": {},
     "output_type": "execute_result"
    }
   ],
   "source": [
    "data11.sum()"
   ]
  },
  {
   "cell_type": "code",
   "execution_count": 33,
   "id": "631a633e-0ed6-47b3-8332-254ae20d0bf5",
   "metadata": {},
   "outputs": [
    {
     "data": {
      "text/plain": [
       "0.4523795538117826"
      ]
     },
     "execution_count": 33,
     "metadata": {},
     "output_type": "execute_result"
    }
   ],
   "source": [
    "data11.mean()"
   ]
  },
  {
   "cell_type": "code",
   "execution_count": 35,
   "id": "aa88f542-314e-4823-ba69-d70745e95558",
   "metadata": {},
   "outputs": [
    {
     "data": {
      "text/plain": [
       "array([1.06990276, 0.75420083, 0.89017374])"
      ]
     },
     "execution_count": 35,
     "metadata": {},
     "output_type": "execute_result"
    }
   ],
   "source": [
    "data11.sum(axis = 0) # axis = 0 은 열단위"
   ]
  },
  {
   "cell_type": "code",
   "execution_count": 37,
   "id": "223952a1-77b5-4b2d-ac6b-d3ce45ac0ad9",
   "metadata": {},
   "outputs": [
    {
     "data": {
      "text/plain": [
       "array([1.67128625, 1.04299108])"
      ]
     },
     "execution_count": 37,
     "metadata": {},
     "output_type": "execute_result"
    }
   ],
   "source": [
    "data11.sum(axis = 1) # axis = 1 은 행 단위"
   ]
  },
  {
   "cell_type": "code",
   "execution_count": 38,
   "id": "50d86e91-f3f9-4062-ad4f-a7a416ba589b",
   "metadata": {},
   "outputs": [
    {
     "data": {
      "text/plain": [
       "array([0.53495138, 0.37710041, 0.44508687])"
      ]
     },
     "execution_count": 38,
     "metadata": {},
     "output_type": "execute_result"
    }
   ],
   "source": [
    "data11.mean(axis = 0) # 열단위"
   ]
  },
  {
   "cell_type": "code",
   "execution_count": 39,
   "id": "ef60fe65-bd98-4380-9b4b-710468008daf",
   "metadata": {},
   "outputs": [
    {
     "data": {
      "text/plain": [
       "array([0.55709542, 0.34766369])"
      ]
     },
     "execution_count": 39,
     "metadata": {},
     "output_type": "execute_result"
    }
   ],
   "source": [
    "data11.mean(axis =1) # 행 단위"
   ]
  },
  {
   "cell_type": "code",
   "execution_count": 40,
   "id": "5f603078-56d1-4d9d-adf4-352401b5ba4d",
   "metadata": {},
   "outputs": [
    {
     "data": {
      "text/plain": [
       "0.8406216534592228"
      ]
     },
     "execution_count": 40,
     "metadata": {},
     "output_type": "execute_result"
    }
   ],
   "source": [
    "data11.max()"
   ]
  },
  {
   "cell_type": "code",
   "execution_count": 41,
   "id": "23f44dbf-485b-44aa-96a6-485f9435802f",
   "metadata": {},
   "outputs": [
    {
     "data": {
      "text/plain": [
       "array([0.84062165, 0.63225486])"
      ]
     },
     "execution_count": 41,
     "metadata": {},
     "output_type": "execute_result"
    }
   ],
   "source": [
    "data11.max(axis =1)"
   ]
  },
  {
   "cell_type": "code",
   "execution_count": 42,
   "id": "84cbcc83-ce40-4740-8bcc-30520bd30f15",
   "metadata": {},
   "outputs": [
    {
     "data": {
      "text/plain": [
       "0.12194596950722836"
      ]
     },
     "execution_count": 42,
     "metadata": {},
     "output_type": "execute_result"
    }
   ],
   "source": [
    "data11.min() # 최소값"
   ]
  },
  {
   "cell_type": "markdown",
   "id": "0b116e0a-85d1-4432-a448-97a18f1000c9",
   "metadata": {},
   "source": [
    "# pandas\n",
    "- panel + dataset\n",
    "- series : numpy array를 기반으로 만들어진 정형 데이터 분석 index -- value 형식의 자료구조"
   ]
  },
  {
   "cell_type": "code",
   "execution_count": 43,
   "id": "3f836ea0-550e-4907-87f5-89a65d7aefae",
   "metadata": {},
   "outputs": [],
   "source": [
    "import pandas as pd\n"
   ]
  },
  {
   "cell_type": "code",
   "execution_count": 46,
   "id": "41e6f890-33a2-40df-8d1f-8e78c59a132a",
   "metadata": {},
   "outputs": [
    {
     "data": {
      "text/plain": [
       "0    1\n",
       "1    2\n",
       "2    3\n",
       "dtype: int64"
      ]
     },
     "execution_count": 46,
     "metadata": {},
     "output_type": "execute_result"
    }
   ],
   "source": [
    "s1 = pd.Series([1,2,3])\n",
    "s1"
   ]
  },
  {
   "cell_type": "code",
   "execution_count": 49,
   "id": "8d343db4-3b75-4a66-a0d2-5c9726aad187",
   "metadata": {},
   "outputs": [
    {
     "data": {
      "text/plain": [
       "0    a\n",
       "1    b\n",
       "2    c\n",
       "3    4\n",
       "dtype: object"
      ]
     },
     "execution_count": 49,
     "metadata": {},
     "output_type": "execute_result"
    }
   ],
   "source": [
    "s2 = pd.Series(['a','b','c',4])\n",
    "s2\n",
    "\n",
    "# 시리즈는 하나의 데이터 타입만 올 수 있다"
   ]
  },
  {
   "cell_type": "code",
   "execution_count": 50,
   "id": "b57f8d91-1365-41c5-80aa-a5901afb94c7",
   "metadata": {},
   "outputs": [
    {
     "data": {
      "text/plain": [
       "RangeIndex(start=0, stop=4, step=1)"
      ]
     },
     "execution_count": 50,
     "metadata": {},
     "output_type": "execute_result"
    }
   ],
   "source": [
    "s2.index"
   ]
  },
  {
   "cell_type": "code",
   "execution_count": 52,
   "id": "8e372a6d-a4e0-4965-b170-d90e2cf651e0",
   "metadata": {},
   "outputs": [
    {
     "data": {
      "text/plain": [
       "array(['a', 'b', 'c', 4], dtype=object)"
      ]
     },
     "execution_count": 52,
     "metadata": {},
     "output_type": "execute_result"
    }
   ],
   "source": [
    "s2.values # 바로 불러오는 함수 values"
   ]
  },
  {
   "cell_type": "code",
   "execution_count": 53,
   "id": "ea0b1415-f22a-44c1-95fe-a04db19bdc99",
   "metadata": {},
   "outputs": [
    {
     "data": {
      "text/plain": [
       "pandas.core.series.Series"
      ]
     },
     "execution_count": 53,
     "metadata": {},
     "output_type": "execute_result"
    }
   ],
   "source": [
    "type(s2) # 데이터 타입을 자주 확인 해야 안에 도메인을 가져오기 좋다"
   ]
  },
  {
   "cell_type": "code",
   "execution_count": 55,
   "id": "8882db5f-e27e-4462-9b38-40ac68b27d9c",
   "metadata": {},
   "outputs": [
    {
     "data": {
      "text/plain": [
       "numpy.ndarray"
      ]
     },
     "execution_count": 55,
     "metadata": {},
     "output_type": "execute_result"
    }
   ],
   "source": [
    "type(s1.values) #numpy 라이브러리를 기반으로 만들어짐"
   ]
  },
  {
   "cell_type": "code",
   "execution_count": 56,
   "id": "bfccf76b-1ecf-46a8-bfc7-da15335ca282",
   "metadata": {},
   "outputs": [
    {
     "data": {
      "text/plain": [
       "0    a\n",
       "1    b\n",
       "2    c\n",
       "3    4\n",
       "dtype: object"
      ]
     },
     "execution_count": 56,
     "metadata": {},
     "output_type": "execute_result"
    }
   ],
   "source": [
    "# series indexing\n",
    "s2"
   ]
  },
  {
   "cell_type": "code",
   "execution_count": 57,
   "id": "5f13d352-fe7e-4b4b-8088-266a5ca59ca4",
   "metadata": {},
   "outputs": [
    {
     "data": {
      "text/plain": [
       "'a'"
      ]
     },
     "execution_count": 57,
     "metadata": {},
     "output_type": "execute_result"
    }
   ],
   "source": [
    "s2[0]"
   ]
  },
  {
   "cell_type": "code",
   "execution_count": 59,
   "id": "aad9d900-f8f0-454a-a672-1105f9f06e93",
   "metadata": {},
   "outputs": [
    {
     "data": {
      "text/plain": [
       "0    a\n",
       "1    b\n",
       "dtype: object"
      ]
     },
     "execution_count": 59,
     "metadata": {},
     "output_type": "execute_result"
    }
   ],
   "source": [
    "# series slicing\n",
    "s2[0:2]"
   ]
  },
  {
   "cell_type": "code",
   "execution_count": 60,
   "id": "abf7ce15-0156-4d8d-97eb-a3b8f2ee2176",
   "metadata": {},
   "outputs": [
    {
     "data": {
      "text/plain": [
       "0    99\n",
       "1     2\n",
       "2     3\n",
       "dtype: int64"
      ]
     },
     "execution_count": 60,
     "metadata": {},
     "output_type": "execute_result"
    }
   ],
   "source": [
    "# 값 대체\n",
    "s1[0] = 99\n",
    "s1"
   ]
  },
  {
   "cell_type": "code",
   "execution_count": 63,
   "id": "680f46d6-9c23-4ee7-9d28-4ecb096f67eb",
   "metadata": {},
   "outputs": [
    {
     "data": {
      "text/plain": [
       "1    2\n",
       "2    3\n",
       "dtype: int64"
      ]
     },
     "execution_count": 63,
     "metadata": {},
     "output_type": "execute_result"
    }
   ],
   "source": [
    "# 값 삭제\n",
    "s1.drop(0) # 원본 변수에 영향을 미치는 삭제 함수가 아니다"
   ]
  },
  {
   "cell_type": "code",
   "execution_count": 64,
   "id": "7f059521-112f-4dc9-9de7-ce830204f763",
   "metadata": {},
   "outputs": [
    {
     "data": {
      "text/plain": [
       "0    99\n",
       "1     2\n",
       "2     3\n",
       "dtype: int64"
      ]
     },
     "execution_count": 64,
     "metadata": {},
     "output_type": "execute_result"
    }
   ],
   "source": [
    "s1"
   ]
  },
  {
   "cell_type": "code",
   "execution_count": 65,
   "id": "169f6c8e-7443-43d7-a901-173ac1e84fa5",
   "metadata": {},
   "outputs": [
    {
     "data": {
      "text/plain": [
       "1    2\n",
       "2    3\n",
       "dtype: int64"
      ]
     },
     "execution_count": 65,
     "metadata": {},
     "output_type": "execute_result"
    }
   ],
   "source": [
    "s3 = s1.drop(0)\n",
    "s3"
   ]
  },
  {
   "cell_type": "code",
   "execution_count": 80,
   "id": "b7f9c8fa-62eb-439b-baad-f6d4fce3a7a9",
   "metadata": {},
   "outputs": [
    {
     "name": "stdout",
     "output_type": "stream",
     "text": [
      "인덱스 0는 Series에 존재하지 않습니다.\n"
     ]
    }
   ],
   "source": [
    "s1.drop(0, inplace= True) # inplace 옵션 사용 시 , 원본 변수에 수정을 가함\n",
    "s1"
   ]
  },
  {
   "cell_type": "code",
   "execution_count": 71,
   "id": "59109ec2-9b37-4def-8b59-fef10200bea7",
   "metadata": {},
   "outputs": [
    {
     "data": {
      "text/plain": [
       "a    1\n",
       "b    2\n",
       "c    3\n",
       "d    4\n",
       "e    5\n",
       "dtype: int64"
      ]
     },
     "execution_count": 71,
     "metadata": {},
     "output_type": "execute_result"
    }
   ],
   "source": [
    "# index 지정\n",
    "s4 = pd.Series ([1,2,3,4,5,] , index=['a','b','c','d','e'])\n",
    "s4"
   ]
  },
  {
   "cell_type": "code",
   "execution_count": 72,
   "id": "610233c0-f9a4-4bfb-a1f6-c1f7e4ad638f",
   "metadata": {},
   "outputs": [
    {
     "data": {
      "text/plain": [
       "1"
      ]
     },
     "execution_count": 72,
     "metadata": {},
     "output_type": "execute_result"
    }
   ],
   "source": [
    "# 인덱싱\n",
    "s4['a']"
   ]
  },
  {
   "cell_type": "code",
   "execution_count": 73,
   "id": "3d668619-d44a-4e61-8b3d-fed9d7b7fd7c",
   "metadata": {},
   "outputs": [
    {
     "data": {
      "text/plain": [
       "name    둘리\n",
       "age      5\n",
       "area    서울\n",
       "dtype: object"
      ]
     },
     "execution_count": 73,
     "metadata": {},
     "output_type": "execute_result"
    }
   ],
   "source": [
    "# 딕셔너리로 series 구성\n",
    "s5 = pd.Series({'name':'둘리','age':5,'area':'서울'})\n",
    "s5"
   ]
  },
  {
   "cell_type": "code",
   "execution_count": 81,
   "id": "8c6323f1-def4-4d19-be58-45fa4e30005f",
   "metadata": {},
   "outputs": [
    {
     "data": {
      "text/plain": [
       "이름       둘리\n",
       "age       5\n",
       "area     서울\n",
       "친구      희동이\n",
       "dtype: object"
      ]
     },
     "execution_count": 81,
     "metadata": {},
     "output_type": "execute_result"
    }
   ],
   "source": [
    "# 인덱스 이름 변경\n",
    "s6= s5.rename(index={'name':'이름'})\n",
    "s6"
   ]
  },
  {
   "cell_type": "code",
   "execution_count": null,
   "id": "e331273a-8bf5-419a-99af-2f3dc9a6761a",
   "metadata": {},
   "outputs": [],
   "source": [
    "s5.rename(index={'name','이름'} , inplace = True)"
   ]
  },
  {
   "cell_type": "code",
   "execution_count": 79,
   "id": "f57bcbac-d14f-4e2e-896c-e0f4e5bf0f56",
   "metadata": {},
   "outputs": [
    {
     "data": {
      "text/plain": [
       "name     둘리\n",
       "age       5\n",
       "area     서울\n",
       "친구      희동이\n",
       "dtype: object"
      ]
     },
     "execution_count": 79,
     "metadata": {},
     "output_type": "execute_result"
    }
   ],
   "source": [
    "#새로운 값 추가 \n",
    "s5['친구'] = '희동이'\n",
    "s5"
   ]
  },
  {
   "cell_type": "code",
   "execution_count": 83,
   "id": "fd5d04b6-4fdc-4869-abcf-087115841cbc",
   "metadata": {},
   "outputs": [
    {
     "data": {
      "text/html": [
       "<div>\n",
       "<style scoped>\n",
       "    .dataframe tbody tr th:only-of-type {\n",
       "        vertical-align: middle;\n",
       "    }\n",
       "\n",
       "    .dataframe tbody tr th {\n",
       "        vertical-align: top;\n",
       "    }\n",
       "\n",
       "    .dataframe thead th {\n",
       "        text-align: right;\n",
       "    }\n",
       "</style>\n",
       "<table border=\"1\" class=\"dataframe\">\n",
       "  <thead>\n",
       "    <tr style=\"text-align: right;\">\n",
       "      <th></th>\n",
       "      <th>0</th>\n",
       "    </tr>\n",
       "  </thead>\n",
       "  <tbody>\n",
       "    <tr>\n",
       "      <th>0</th>\n",
       "      <td>100</td>\n",
       "    </tr>\n",
       "    <tr>\n",
       "      <th>1</th>\n",
       "      <td>200</td>\n",
       "    </tr>\n",
       "    <tr>\n",
       "      <th>2</th>\n",
       "      <td>300</td>\n",
       "    </tr>\n",
       "    <tr>\n",
       "      <th>3</th>\n",
       "      <td>400</td>\n",
       "    </tr>\n",
       "  </tbody>\n",
       "</table>\n",
       "</div>"
      ],
      "text/plain": [
       "     0\n",
       "0  100\n",
       "1  200\n",
       "2  300\n",
       "3  400"
      ]
     },
     "execution_count": 83,
     "metadata": {},
     "output_type": "execute_result"
    }
   ],
   "source": [
    "df = pd.DataFrame([100,200,300,400])\n",
    "df"
   ]
  },
  {
   "cell_type": "code",
   "execution_count": 84,
   "id": "a5123cd7-9748-4ca9-a70d-50495f8bca44",
   "metadata": {},
   "outputs": [
    {
     "data": {
      "text/plain": [
       "RangeIndex(start=0, stop=4, step=1)"
      ]
     },
     "execution_count": 84,
     "metadata": {},
     "output_type": "execute_result"
    }
   ],
   "source": [
    "df.index"
   ]
  },
  {
   "cell_type": "code",
   "execution_count": 85,
   "id": "da1fba60-678a-4e18-9a99-f3d10e96ffaa",
   "metadata": {},
   "outputs": [
    {
     "data": {
      "text/plain": [
       "RangeIndex(start=0, stop=4, step=1)"
      ]
     },
     "execution_count": 85,
     "metadata": {},
     "output_type": "execute_result"
    }
   ],
   "source": [
    "df.index"
   ]
  },
  {
   "cell_type": "code",
   "execution_count": 86,
   "id": "2ce90ac1-c8d2-4752-b7bc-7afc0c85c57d",
   "metadata": {},
   "outputs": [
    {
     "data": {
      "text/plain": [
       "array([[100],\n",
       "       [200],\n",
       "       [300],\n",
       "       [400]], dtype=int64)"
      ]
     },
     "execution_count": 86,
     "metadata": {},
     "output_type": "execute_result"
    }
   ],
   "source": [
    "df.values"
   ]
  },
  {
   "cell_type": "code",
   "execution_count": 89,
   "id": "47adabf4-f719-4a48-8563-af3b4ee7a31a",
   "metadata": {},
   "outputs": [
    {
     "data": {
      "text/html": [
       "<div>\n",
       "<style scoped>\n",
       "    .dataframe tbody tr th:only-of-type {\n",
       "        vertical-align: middle;\n",
       "    }\n",
       "\n",
       "    .dataframe tbody tr th {\n",
       "        vertical-align: top;\n",
       "    }\n",
       "\n",
       "    .dataframe thead th {\n",
       "        text-align: right;\n",
       "    }\n",
       "</style>\n",
       "<table border=\"1\" class=\"dataframe\">\n",
       "  <thead>\n",
       "    <tr style=\"text-align: right;\">\n",
       "      <th></th>\n",
       "      <th>A</th>\n",
       "      <th>B</th>\n",
       "      <th>C</th>\n",
       "      <th>D</th>\n",
       "      <th>E</th>\n",
       "    </tr>\n",
       "  </thead>\n",
       "  <tbody>\n",
       "    <tr>\n",
       "      <th>0</th>\n",
       "      <td>100</td>\n",
       "      <td>200</td>\n",
       "      <td>300</td>\n",
       "      <td>400</td>\n",
       "      <td>500</td>\n",
       "    </tr>\n",
       "    <tr>\n",
       "      <th>1</th>\n",
       "      <td>40</td>\n",
       "      <td>200</td>\n",
       "      <td>22</td>\n",
       "      <td>22</td>\n",
       "      <td>23</td>\n",
       "    </tr>\n",
       "  </tbody>\n",
       "</table>\n",
       "</div>"
      ],
      "text/plain": [
       "     A    B    C    D    E\n",
       "0  100  200  300  400  500\n",
       "1   40  200   22   22   23"
      ]
     },
     "execution_count": 89,
     "metadata": {},
     "output_type": "execute_result"
    }
   ],
   "source": [
    "# column을 지정하여 데이터 프레임을 구성\n",
    "df1 = pd.DataFrame(data = [[100,200,300,400,500],\n",
    "                          [40,200,22,22,23]],\n",
    "                  columns = ['A','B','C','D','E'])\n",
    "df1"
   ]
  },
  {
   "cell_type": "code",
   "execution_count": 90,
   "id": "6835e8f3-65e7-4873-8450-a1ece4519086",
   "metadata": {},
   "outputs": [
    {
     "data": {
      "text/plain": [
       "RangeIndex(start=0, stop=2, step=1)"
      ]
     },
     "execution_count": 90,
     "metadata": {},
     "output_type": "execute_result"
    }
   ],
   "source": [
    "df1.index"
   ]
  },
  {
   "cell_type": "code",
   "execution_count": 91,
   "id": "59de9236-d044-44ba-95fc-9fe953a53ff9",
   "metadata": {},
   "outputs": [
    {
     "data": {
      "text/plain": [
       "0    100\n",
       "1     40\n",
       "Name: A, dtype: int64"
      ]
     },
     "execution_count": 91,
     "metadata": {},
     "output_type": "execute_result"
    }
   ],
   "source": [
    "df1['A']"
   ]
  },
  {
   "cell_type": "code",
   "execution_count": 93,
   "id": "1d94132e-926e-4e62-94cc-510f0bc55677",
   "metadata": {},
   "outputs": [
    {
     "data": {
      "text/plain": [
       "pandas.core.series.Series"
      ]
     },
     "execution_count": 93,
     "metadata": {},
     "output_type": "execute_result"
    }
   ],
   "source": [
    "type(df1['A'])"
   ]
  },
  {
   "cell_type": "code",
   "execution_count": 94,
   "id": "72e1fe02-3c33-4f9d-add9-c3f56539583e",
   "metadata": {},
   "outputs": [
    {
     "data": {
      "text/plain": [
       "array([100,  40], dtype=int64)"
      ]
     },
     "execution_count": 94,
     "metadata": {},
     "output_type": "execute_result"
    }
   ],
   "source": [
    "df1['A'].values"
   ]
  },
  {
   "cell_type": "code",
   "execution_count": 95,
   "id": "abf5f16c-c508-4afb-81f0-07757f32fb7b",
   "metadata": {},
   "outputs": [
    {
     "data": {
      "text/html": [
       "<div>\n",
       "<style scoped>\n",
       "    .dataframe tbody tr th:only-of-type {\n",
       "        vertical-align: middle;\n",
       "    }\n",
       "\n",
       "    .dataframe tbody tr th {\n",
       "        vertical-align: top;\n",
       "    }\n",
       "\n",
       "    .dataframe thead th {\n",
       "        text-align: right;\n",
       "    }\n",
       "</style>\n",
       "<table border=\"1\" class=\"dataframe\">\n",
       "  <thead>\n",
       "    <tr style=\"text-align: right;\">\n",
       "      <th></th>\n",
       "      <th>A</th>\n",
       "      <th>B</th>\n",
       "    </tr>\n",
       "  </thead>\n",
       "  <tbody>\n",
       "    <tr>\n",
       "      <th>0</th>\n",
       "      <td>100</td>\n",
       "      <td>200</td>\n",
       "    </tr>\n",
       "    <tr>\n",
       "      <th>1</th>\n",
       "      <td>40</td>\n",
       "      <td>200</td>\n",
       "    </tr>\n",
       "  </tbody>\n",
       "</table>\n",
       "</div>"
      ],
      "text/plain": [
       "     A    B\n",
       "0  100  200\n",
       "1   40  200"
      ]
     },
     "execution_count": 95,
     "metadata": {},
     "output_type": "execute_result"
    }
   ],
   "source": [
    "df1[['A','B']]"
   ]
  },
  {
   "cell_type": "code",
   "execution_count": 96,
   "id": "39ed8d28-6474-4905-bafc-90baec68a90f",
   "metadata": {},
   "outputs": [
    {
     "data": {
      "text/html": [
       "<div>\n",
       "<style scoped>\n",
       "    .dataframe tbody tr th:only-of-type {\n",
       "        vertical-align: middle;\n",
       "    }\n",
       "\n",
       "    .dataframe tbody tr th {\n",
       "        vertical-align: top;\n",
       "    }\n",
       "\n",
       "    .dataframe thead th {\n",
       "        text-align: right;\n",
       "    }\n",
       "</style>\n",
       "<table border=\"1\" class=\"dataframe\">\n",
       "  <thead>\n",
       "    <tr style=\"text-align: right;\">\n",
       "      <th></th>\n",
       "      <th>A</th>\n",
       "    </tr>\n",
       "  </thead>\n",
       "  <tbody>\n",
       "    <tr>\n",
       "      <th>0</th>\n",
       "      <td>100</td>\n",
       "    </tr>\n",
       "    <tr>\n",
       "      <th>1</th>\n",
       "      <td>40</td>\n",
       "    </tr>\n",
       "  </tbody>\n",
       "</table>\n",
       "</div>"
      ],
      "text/plain": [
       "     A\n",
       "0  100\n",
       "1   40"
      ]
     },
     "execution_count": 96,
     "metadata": {},
     "output_type": "execute_result"
    }
   ],
   "source": [
    "df1[['A']] #이중리스트로 하나의 컬럼을 호출하는 경우\n",
    "# 데이터 프레임 형태로"
   ]
  },
  {
   "cell_type": "code",
   "execution_count": 4,
   "id": "bc753607-cf0b-4e9e-8dca-7b80ece6cdda",
   "metadata": {},
   "outputs": [
    {
     "data": {
      "text/html": [
       "<div>\n",
       "<style scoped>\n",
       "    .dataframe tbody tr th:only-of-type {\n",
       "        vertical-align: middle;\n",
       "    }\n",
       "\n",
       "    .dataframe tbody tr th {\n",
       "        vertical-align: top;\n",
       "    }\n",
       "\n",
       "    .dataframe thead th {\n",
       "        text-align: right;\n",
       "    }\n",
       "</style>\n",
       "<table border=\"1\" class=\"dataframe\">\n",
       "  <thead>\n",
       "    <tr style=\"text-align: right;\">\n",
       "      <th></th>\n",
       "      <th>이름</th>\n",
       "      <th>국어</th>\n",
       "      <th>수학</th>\n",
       "      <th>체육</th>\n",
       "    </tr>\n",
       "  </thead>\n",
       "  <tbody>\n",
       "    <tr>\n",
       "      <th>0</th>\n",
       "      <td>오덕이</td>\n",
       "      <td>100</td>\n",
       "      <td>80</td>\n",
       "      <td>70</td>\n",
       "    </tr>\n",
       "    <tr>\n",
       "      <th>1</th>\n",
       "      <td>이기영</td>\n",
       "      <td>70</td>\n",
       "      <td>60</td>\n",
       "      <td>70</td>\n",
       "    </tr>\n",
       "    <tr>\n",
       "      <th>2</th>\n",
       "      <td>이기철</td>\n",
       "      <td>60</td>\n",
       "      <td>70</td>\n",
       "      <td>80</td>\n",
       "    </tr>\n",
       "  </tbody>\n",
       "</table>\n",
       "</div>"
      ],
      "text/plain": [
       "    이름   국어  수학  체육\n",
       "0  오덕이  100  80  70\n",
       "1  이기영   70  60  70\n",
       "2  이기철   60  70  80"
      ]
     },
     "execution_count": 4,
     "metadata": {},
     "output_type": "execute_result"
    }
   ],
   "source": [
    "import pandas as pd\n",
    "# column을 지정하여 데이터 프레임을 구성\n",
    "df2 = pd.DataFrame(data = [['오덕이',100,80,70],\n",
    "                          ['이기영',70,60,70],\n",
    "                          ['이기철',60,70,80]],\n",
    "                  columns = ['이름','국어','수학','체육'])\n",
    "df2"
   ]
  },
  {
   "cell_type": "code",
   "execution_count": 99,
   "id": "cdb42874-b100-439d-8093-3a342f9379ea",
   "metadata": {},
   "outputs": [
    {
     "data": {
      "text/plain": [
       "RangeIndex(start=0, stop=3, step=1)"
      ]
     },
     "execution_count": 99,
     "metadata": {},
     "output_type": "execute_result"
    }
   ],
   "source": [
    "df2.index"
   ]
  },
  {
   "cell_type": "code",
   "execution_count": 100,
   "id": "4e95c031-fac2-417e-9bfe-6181cba6e66e",
   "metadata": {},
   "outputs": [
    {
     "data": {
      "text/plain": [
       "array([['오덕이', 100, 80, 70],\n",
       "       ['이기영', 70, 60, 70],\n",
       "       ['이기철', 60, 70, 80]], dtype=object)"
      ]
     },
     "execution_count": 100,
     "metadata": {},
     "output_type": "execute_result"
    }
   ],
   "source": [
    "df2.values"
   ]
  },
  {
   "cell_type": "code",
   "execution_count": 101,
   "id": "a9780ee8-4dec-4ea6-baa4-66f1c72698a5",
   "metadata": {},
   "outputs": [
    {
     "data": {
      "text/plain": [
       "Index(['이름', '국어', '수학', '체육'], dtype='object')"
      ]
     },
     "execution_count": 101,
     "metadata": {},
     "output_type": "execute_result"
    }
   ],
   "source": [
    "df2.columns"
   ]
  },
  {
   "cell_type": "code",
   "execution_count": 102,
   "id": "0be09da0-46ec-4d05-9485-82545e436918",
   "metadata": {},
   "outputs": [
    {
     "data": {
      "text/plain": [
       "0    오덕이\n",
       "1    이기영\n",
       "2    이기철\n",
       "Name: 이름, dtype: object"
      ]
     },
     "execution_count": 102,
     "metadata": {},
     "output_type": "execute_result"
    }
   ],
   "source": [
    "df2['이름']"
   ]
  },
  {
   "cell_type": "code",
   "execution_count": 103,
   "id": "73265404-75ef-4092-aeba-6714d025f50c",
   "metadata": {},
   "outputs": [
    {
     "data": {
      "text/plain": [
       "이름    오덕이\n",
       "국어    100\n",
       "수학     80\n",
       "체육     70\n",
       "Name: 0, dtype: object"
      ]
     },
     "execution_count": 103,
     "metadata": {},
     "output_type": "execute_result"
    }
   ],
   "source": [
    "df2.iloc[0] # index location , \n",
    "# df2.iloc[행 인덱스 , 열 인덱스] 컴퓨터가 읽기 좋은 방법, \n",
    "#loc는 칼럼명을 직접 적거나 특정 조건식을 써줌으로써 사람이 읽기 쉽다"
   ]
  },
  {
   "cell_type": "code",
   "execution_count": 104,
   "id": "3ef24ca0-eab7-42bf-a7ba-843e28886f5e",
   "metadata": {},
   "outputs": [
    {
     "data": {
      "text/html": [
       "<div>\n",
       "<style scoped>\n",
       "    .dataframe tbody tr th:only-of-type {\n",
       "        vertical-align: middle;\n",
       "    }\n",
       "\n",
       "    .dataframe tbody tr th {\n",
       "        vertical-align: top;\n",
       "    }\n",
       "\n",
       "    .dataframe thead th {\n",
       "        text-align: right;\n",
       "    }\n",
       "</style>\n",
       "<table border=\"1\" class=\"dataframe\">\n",
       "  <thead>\n",
       "    <tr style=\"text-align: right;\">\n",
       "      <th></th>\n",
       "      <th>이름</th>\n",
       "      <th>국어</th>\n",
       "      <th>수학</th>\n",
       "      <th>체육</th>\n",
       "    </tr>\n",
       "  </thead>\n",
       "  <tbody>\n",
       "    <tr>\n",
       "      <th>0</th>\n",
       "      <td>오덕이</td>\n",
       "      <td>100</td>\n",
       "      <td>80</td>\n",
       "      <td>70</td>\n",
       "    </tr>\n",
       "    <tr>\n",
       "      <th>1</th>\n",
       "      <td>이기영</td>\n",
       "      <td>70</td>\n",
       "      <td>60</td>\n",
       "      <td>70</td>\n",
       "    </tr>\n",
       "    <tr>\n",
       "      <th>2</th>\n",
       "      <td>이기철</td>\n",
       "      <td>60</td>\n",
       "      <td>70</td>\n",
       "      <td>80</td>\n",
       "    </tr>\n",
       "  </tbody>\n",
       "</table>\n",
       "</div>"
      ],
      "text/plain": [
       "    이름   국어  수학  체육\n",
       "0  오덕이  100  80  70\n",
       "1  이기영   70  60  70\n",
       "2  이기철   60  70  80"
      ]
     },
     "execution_count": 104,
     "metadata": {},
     "output_type": "execute_result"
    }
   ],
   "source": [
    "df2"
   ]
  },
  {
   "cell_type": "code",
   "execution_count": 8,
   "id": "55cb5832-8f80-4aa4-9556-d8ee779acdcf",
   "metadata": {},
   "outputs": [
    {
     "data": {
      "text/plain": [
       "이름    오덕이\n",
       "국어    100\n",
       "수학     80\n",
       "체육     70\n",
       "Name: 0, dtype: object"
      ]
     },
     "execution_count": 8,
     "metadata": {},
     "output_type": "execute_result"
    }
   ],
   "source": [
    "df2.iloc[0]"
   ]
  },
  {
   "cell_type": "code",
   "execution_count": 107,
   "id": "cc280a32-81a2-480a-982f-0ce4c6706969",
   "metadata": {},
   "outputs": [
    {
     "data": {
      "text/plain": [
       "array(['오덕이', 100, 80, 70], dtype=object)"
      ]
     },
     "execution_count": 107,
     "metadata": {},
     "output_type": "execute_result"
    }
   ],
   "source": [
    "df2.iloc[0].values\n"
   ]
  },
  {
   "cell_type": "code",
   "execution_count": 110,
   "id": "3a73faea-9778-4ea5-9846-c81065f7e573",
   "metadata": {},
   "outputs": [],
   "source": [
    "df2.set_index('이름',inplace = True) #set_index 열을 인덱스로 설정"
   ]
  },
  {
   "cell_type": "code",
   "execution_count": 111,
   "id": "48cec95e-34bb-4850-a3bb-20d231f7babe",
   "metadata": {},
   "outputs": [
    {
     "data": {
      "text/html": [
       "<div>\n",
       "<style scoped>\n",
       "    .dataframe tbody tr th:only-of-type {\n",
       "        vertical-align: middle;\n",
       "    }\n",
       "\n",
       "    .dataframe tbody tr th {\n",
       "        vertical-align: top;\n",
       "    }\n",
       "\n",
       "    .dataframe thead th {\n",
       "        text-align: right;\n",
       "    }\n",
       "</style>\n",
       "<table border=\"1\" class=\"dataframe\">\n",
       "  <thead>\n",
       "    <tr style=\"text-align: right;\">\n",
       "      <th></th>\n",
       "      <th>국어</th>\n",
       "      <th>수학</th>\n",
       "      <th>체육</th>\n",
       "    </tr>\n",
       "    <tr>\n",
       "      <th>이름</th>\n",
       "      <th></th>\n",
       "      <th></th>\n",
       "      <th></th>\n",
       "    </tr>\n",
       "  </thead>\n",
       "  <tbody>\n",
       "    <tr>\n",
       "      <th>오덕이</th>\n",
       "      <td>100</td>\n",
       "      <td>80</td>\n",
       "      <td>70</td>\n",
       "    </tr>\n",
       "    <tr>\n",
       "      <th>이기영</th>\n",
       "      <td>70</td>\n",
       "      <td>60</td>\n",
       "      <td>70</td>\n",
       "    </tr>\n",
       "    <tr>\n",
       "      <th>이기철</th>\n",
       "      <td>60</td>\n",
       "      <td>70</td>\n",
       "      <td>80</td>\n",
       "    </tr>\n",
       "  </tbody>\n",
       "</table>\n",
       "</div>"
      ],
      "text/plain": [
       "      국어  수학  체육\n",
       "이름              \n",
       "오덕이  100  80  70\n",
       "이기영   70  60  70\n",
       "이기철   60  70  80"
      ]
     },
     "execution_count": 111,
     "metadata": {},
     "output_type": "execute_result"
    }
   ],
   "source": [
    "df2"
   ]
  },
  {
   "cell_type": "code",
   "execution_count": 112,
   "id": "4692ee37-017e-4735-ad3a-38f113217008",
   "metadata": {},
   "outputs": [
    {
     "data": {
      "text/plain": [
       "국어    100\n",
       "수학     80\n",
       "체육     70\n",
       "Name: 오덕이, dtype: int64"
      ]
     },
     "execution_count": 112,
     "metadata": {},
     "output_type": "execute_result"
    }
   ],
   "source": [
    "df2.iloc[0] #iloc : 숫자만 입력 가능"
   ]
  },
  {
   "cell_type": "code",
   "execution_count": 114,
   "id": "05e1bc86-eca1-49f8-bfb1-23650e5ac13b",
   "metadata": {},
   "outputs": [
    {
     "data": {
      "text/plain": [
       "국어    100\n",
       "수학     80\n",
       "체육     70\n",
       "Name: 오덕이, dtype: int64"
      ]
     },
     "execution_count": 114,
     "metadata": {},
     "output_type": "execute_result"
    }
   ],
   "source": [
    "df2.loc['오덕이'] #loc : 문자도 입력 가능"
   ]
  },
  {
   "cell_type": "code",
   "execution_count": 118,
   "id": "bd6cf2fc-732c-4bf9-b8aa-2bca10f94f61",
   "metadata": {},
   "outputs": [],
   "source": [
    "# 딕셔너리를 통해 DataFrame 생성\n",
    "# 키값이 컬럼명으로 들어가고\n",
    "# value 값은 컬럼의 값들로 채워진다.\n",
    "\n",
    "\n",
    "df3 = pd.DataFrame( data = {'장르':['팝','록'],\n",
    "                           '아티스트':['마이클잭슨','비틀즈'],\n",
    "                           '곡':['rock with you','julia']})"
   ]
  },
  {
   "cell_type": "code",
   "execution_count": 119,
   "id": "ee93f43f-06c1-4e3d-bbd5-ec0d2b42b1ab",
   "metadata": {},
   "outputs": [
    {
     "data": {
      "text/html": [
       "<div>\n",
       "<style scoped>\n",
       "    .dataframe tbody tr th:only-of-type {\n",
       "        vertical-align: middle;\n",
       "    }\n",
       "\n",
       "    .dataframe tbody tr th {\n",
       "        vertical-align: top;\n",
       "    }\n",
       "\n",
       "    .dataframe thead th {\n",
       "        text-align: right;\n",
       "    }\n",
       "</style>\n",
       "<table border=\"1\" class=\"dataframe\">\n",
       "  <thead>\n",
       "    <tr style=\"text-align: right;\">\n",
       "      <th></th>\n",
       "      <th>장르</th>\n",
       "      <th>아티스트</th>\n",
       "      <th>곡</th>\n",
       "    </tr>\n",
       "  </thead>\n",
       "  <tbody>\n",
       "    <tr>\n",
       "      <th>0</th>\n",
       "      <td>팝</td>\n",
       "      <td>마이클잭슨</td>\n",
       "      <td>rock with you</td>\n",
       "    </tr>\n",
       "    <tr>\n",
       "      <th>1</th>\n",
       "      <td>록</td>\n",
       "      <td>비틀즈</td>\n",
       "      <td>julia</td>\n",
       "    </tr>\n",
       "  </tbody>\n",
       "</table>\n",
       "</div>"
      ],
      "text/plain": [
       "  장르   아티스트              곡\n",
       "0  팝  마이클잭슨  rock with you\n",
       "1  록    비틀즈          julia"
      ]
     },
     "execution_count": 119,
     "metadata": {},
     "output_type": "execute_result"
    }
   ],
   "source": [
    "df3"
   ]
  },
  {
   "cell_type": "markdown",
   "id": "c9f494d3-6651-4ab3-a822-2cbe2129a819",
   "metadata": {},
   "source": [
    "### DDA\n",
    "- Descriptive Data Analysis\n",
    "- 기술적 데이터 분석\n",
    "- 비즈니스 목표에 부합하는 변수 확인\n",
    "- 목표변수 Y (target,label,output, ...)\n",
    "- 설명변수 X(feature,input, . . .)\n",
    "- 기술통계량 확인(평군 / 중위수 / 분산/ . . .)"
   ]
  },
  {
   "cell_type": "markdown",
   "id": "587e8059-9941-461c-a76b-5822d2903cd3",
   "metadata": {},
   "source": [
    "# 01_Data.csv\n",
    "- 사무용품을 렌탈해주는 업체의 고객 데이터\n"
   ]
  },
  {
   "cell_type": "code",
   "execution_count": 10,
   "id": "923fce83-b053-4189-84ba-818aaed80a8a",
   "metadata": {},
   "outputs": [],
   "source": [
    "df1 = pd.read_csv('01_Data.csv')"
   ]
  },
  {
   "cell_type": "code",
   "execution_count": 11,
   "id": "8fe6513b-b02e-4aa6-b541-72a84df6f833",
   "metadata": {
    "scrolled": true
   },
   "outputs": [
    {
     "data": {
      "text/html": [
       "<div>\n",
       "<style scoped>\n",
       "    .dataframe tbody tr th:only-of-type {\n",
       "        vertical-align: middle;\n",
       "    }\n",
       "\n",
       "    .dataframe tbody tr th {\n",
       "        vertical-align: top;\n",
       "    }\n",
       "\n",
       "    .dataframe thead th {\n",
       "        text-align: right;\n",
       "    }\n",
       "</style>\n",
       "<table border=\"1\" class=\"dataframe\">\n",
       "  <thead>\n",
       "    <tr style=\"text-align: right;\">\n",
       "      <th></th>\n",
       "      <th>Index</th>\n",
       "      <th>Member_ID</th>\n",
       "      <th>Sales_Type</th>\n",
       "      <th>Contract_Type</th>\n",
       "      <th>Channel</th>\n",
       "      <th>Datetime</th>\n",
       "      <th>Term</th>\n",
       "      <th>Payment_Type</th>\n",
       "      <th>Product_Type</th>\n",
       "      <th>Amount_Month</th>\n",
       "      <th>Customer_Type</th>\n",
       "      <th>Age</th>\n",
       "      <th>Address1</th>\n",
       "      <th>Address2</th>\n",
       "      <th>State</th>\n",
       "      <th>Overdue_count</th>\n",
       "      <th>Overdue_Type</th>\n",
       "      <th>Gender</th>\n",
       "      <th>Credit_Rank</th>\n",
       "      <th>Bank</th>\n",
       "    </tr>\n",
       "  </thead>\n",
       "  <tbody>\n",
       "    <tr>\n",
       "      <th>0</th>\n",
       "      <td>1</td>\n",
       "      <td>66758234</td>\n",
       "      <td>렌탈</td>\n",
       "      <td>일반계약</td>\n",
       "      <td>영업방판</td>\n",
       "      <td>2022-05-05</td>\n",
       "      <td>60</td>\n",
       "      <td>CMS</td>\n",
       "      <td>DES-1</td>\n",
       "      <td>96900</td>\n",
       "      <td>개인</td>\n",
       "      <td>42.0</td>\n",
       "      <td>경기도</td>\n",
       "      <td>경기도</td>\n",
       "      <td>계약확정</td>\n",
       "      <td>0</td>\n",
       "      <td>없음</td>\n",
       "      <td>여자</td>\n",
       "      <td>9.0</td>\n",
       "      <td>새마을금고</td>\n",
       "    </tr>\n",
       "    <tr>\n",
       "      <th>1</th>\n",
       "      <td>2</td>\n",
       "      <td>66755948</td>\n",
       "      <td>렌탈</td>\n",
       "      <td>교체계약</td>\n",
       "      <td>영업방판</td>\n",
       "      <td>2023-02-19</td>\n",
       "      <td>60</td>\n",
       "      <td>카드이체</td>\n",
       "      <td>DES-1</td>\n",
       "      <td>102900</td>\n",
       "      <td>개인</td>\n",
       "      <td>39.0</td>\n",
       "      <td>경기도</td>\n",
       "      <td>경기도</td>\n",
       "      <td>계약확정</td>\n",
       "      <td>0</td>\n",
       "      <td>없음</td>\n",
       "      <td>남자</td>\n",
       "      <td>2.0</td>\n",
       "      <td>현대카드</td>\n",
       "    </tr>\n",
       "    <tr>\n",
       "      <th>2</th>\n",
       "      <td>3</td>\n",
       "      <td>66756657</td>\n",
       "      <td>렌탈</td>\n",
       "      <td>일반계약</td>\n",
       "      <td>홈쇼핑/방송</td>\n",
       "      <td>2022-02-27</td>\n",
       "      <td>60</td>\n",
       "      <td>CMS</td>\n",
       "      <td>DES-1</td>\n",
       "      <td>96900</td>\n",
       "      <td>개인</td>\n",
       "      <td>48.0</td>\n",
       "      <td>경기도</td>\n",
       "      <td>경기도</td>\n",
       "      <td>계약확정</td>\n",
       "      <td>0</td>\n",
       "      <td>없음</td>\n",
       "      <td>여자</td>\n",
       "      <td>8.0</td>\n",
       "      <td>우리은행</td>\n",
       "    </tr>\n",
       "    <tr>\n",
       "      <th>3</th>\n",
       "      <td>4</td>\n",
       "      <td>66423450</td>\n",
       "      <td>멤버십</td>\n",
       "      <td>멤버십3유형</td>\n",
       "      <td>재계약</td>\n",
       "      <td>2022-05-12</td>\n",
       "      <td>12</td>\n",
       "      <td>CMS</td>\n",
       "      <td>DES-1</td>\n",
       "      <td>66900</td>\n",
       "      <td>개인</td>\n",
       "      <td>39.0</td>\n",
       "      <td>경기도</td>\n",
       "      <td>경기도</td>\n",
       "      <td>계약확정</td>\n",
       "      <td>0</td>\n",
       "      <td>없음</td>\n",
       "      <td>남자</td>\n",
       "      <td>5.0</td>\n",
       "      <td>농협회원조합</td>\n",
       "    </tr>\n",
       "    <tr>\n",
       "      <th>4</th>\n",
       "      <td>5</td>\n",
       "      <td>66423204</td>\n",
       "      <td>멤버십</td>\n",
       "      <td>멤버십3유형</td>\n",
       "      <td>재계약</td>\n",
       "      <td>2022-05-09</td>\n",
       "      <td>12</td>\n",
       "      <td>CMS</td>\n",
       "      <td>DES-1</td>\n",
       "      <td>66900</td>\n",
       "      <td>개인</td>\n",
       "      <td>60.0</td>\n",
       "      <td>경기도</td>\n",
       "      <td>경기도</td>\n",
       "      <td>기간만료</td>\n",
       "      <td>12</td>\n",
       "      <td>있음</td>\n",
       "      <td>남자</td>\n",
       "      <td>8.0</td>\n",
       "      <td>농협회원조합</td>\n",
       "    </tr>\n",
       "    <tr>\n",
       "      <th>...</th>\n",
       "      <td>...</td>\n",
       "      <td>...</td>\n",
       "      <td>...</td>\n",
       "      <td>...</td>\n",
       "      <td>...</td>\n",
       "      <td>...</td>\n",
       "      <td>...</td>\n",
       "      <td>...</td>\n",
       "      <td>...</td>\n",
       "      <td>...</td>\n",
       "      <td>...</td>\n",
       "      <td>...</td>\n",
       "      <td>...</td>\n",
       "      <td>...</td>\n",
       "      <td>...</td>\n",
       "      <td>...</td>\n",
       "      <td>...</td>\n",
       "      <td>...</td>\n",
       "      <td>...</td>\n",
       "      <td>...</td>\n",
       "    </tr>\n",
       "    <tr>\n",
       "      <th>51296</th>\n",
       "      <td>51298</td>\n",
       "      <td>66579515</td>\n",
       "      <td>렌탈</td>\n",
       "      <td>프로모션계약</td>\n",
       "      <td>대형마트A</td>\n",
       "      <td>2022-02-28</td>\n",
       "      <td>60</td>\n",
       "      <td>CMS</td>\n",
       "      <td>DES-3A</td>\n",
       "      <td>96900</td>\n",
       "      <td>개인</td>\n",
       "      <td>47.0</td>\n",
       "      <td>경기도</td>\n",
       "      <td>경기도</td>\n",
       "      <td>계약확정</td>\n",
       "      <td>0</td>\n",
       "      <td>없음</td>\n",
       "      <td>남자</td>\n",
       "      <td>NaN</td>\n",
       "      <td>기업은행</td>\n",
       "    </tr>\n",
       "    <tr>\n",
       "      <th>51297</th>\n",
       "      <td>51299</td>\n",
       "      <td>66799558</td>\n",
       "      <td>렌탈</td>\n",
       "      <td>일반계약</td>\n",
       "      <td>대형마트A</td>\n",
       "      <td>2022-03-31</td>\n",
       "      <td>60</td>\n",
       "      <td>CMS</td>\n",
       "      <td>DES-1</td>\n",
       "      <td>96900</td>\n",
       "      <td>개인</td>\n",
       "      <td>42.0</td>\n",
       "      <td>경기도</td>\n",
       "      <td>경기도</td>\n",
       "      <td>계약확정</td>\n",
       "      <td>0</td>\n",
       "      <td>없음</td>\n",
       "      <td>여자</td>\n",
       "      <td>8.0</td>\n",
       "      <td>새마을금고</td>\n",
       "    </tr>\n",
       "    <tr>\n",
       "      <th>51298</th>\n",
       "      <td>51300</td>\n",
       "      <td>66799197</td>\n",
       "      <td>렌탈</td>\n",
       "      <td>프로모션계약</td>\n",
       "      <td>영업방판</td>\n",
       "      <td>2022-03-31</td>\n",
       "      <td>39</td>\n",
       "      <td>카드이체</td>\n",
       "      <td>ERA</td>\n",
       "      <td>120900</td>\n",
       "      <td>개인</td>\n",
       "      <td>65.0</td>\n",
       "      <td>서울특별시</td>\n",
       "      <td>서울특별시</td>\n",
       "      <td>계약확정</td>\n",
       "      <td>0</td>\n",
       "      <td>없음</td>\n",
       "      <td>여자</td>\n",
       "      <td>1.0</td>\n",
       "      <td>롯데카드</td>\n",
       "    </tr>\n",
       "    <tr>\n",
       "      <th>51299</th>\n",
       "      <td>51301</td>\n",
       "      <td>66792778</td>\n",
       "      <td>렌탈</td>\n",
       "      <td>일반계약</td>\n",
       "      <td>홈쇼핑/방송</td>\n",
       "      <td>2023-02-05</td>\n",
       "      <td>60</td>\n",
       "      <td>카드이체</td>\n",
       "      <td>DES-1</td>\n",
       "      <td>96900</td>\n",
       "      <td>개인</td>\n",
       "      <td>54.0</td>\n",
       "      <td>서울특별시</td>\n",
       "      <td>서울특별시</td>\n",
       "      <td>계약확정</td>\n",
       "      <td>0</td>\n",
       "      <td>없음</td>\n",
       "      <td>여자</td>\n",
       "      <td>2.0</td>\n",
       "      <td>롯데카드</td>\n",
       "    </tr>\n",
       "    <tr>\n",
       "      <th>51300</th>\n",
       "      <td>51302</td>\n",
       "      <td>66799607</td>\n",
       "      <td>렌탈</td>\n",
       "      <td>일반계약</td>\n",
       "      <td>홈쇼핑/방송</td>\n",
       "      <td>2022-04-23</td>\n",
       "      <td>60</td>\n",
       "      <td>CMS</td>\n",
       "      <td>DES-1</td>\n",
       "      <td>96900</td>\n",
       "      <td>개인</td>\n",
       "      <td>53.0</td>\n",
       "      <td>서울특별시</td>\n",
       "      <td>서울특별시</td>\n",
       "      <td>계약확정</td>\n",
       "      <td>0</td>\n",
       "      <td>없음</td>\n",
       "      <td>여자</td>\n",
       "      <td>8.0</td>\n",
       "      <td>신한은행</td>\n",
       "    </tr>\n",
       "  </tbody>\n",
       "</table>\n",
       "<p>51301 rows × 20 columns</p>\n",
       "</div>"
      ],
      "text/plain": [
       "       Index  Member_ID Sales_Type Contract_Type Channel    Datetime  Term  \\\n",
       "0          1   66758234         렌탈          일반계약    영업방판  2022-05-05    60   \n",
       "1          2   66755948         렌탈          교체계약    영업방판  2023-02-19    60   \n",
       "2          3   66756657         렌탈          일반계약  홈쇼핑/방송  2022-02-27    60   \n",
       "3          4   66423450        멤버십        멤버십3유형     재계약  2022-05-12    12   \n",
       "4          5   66423204        멤버십        멤버십3유형     재계약  2022-05-09    12   \n",
       "...      ...        ...        ...           ...     ...         ...   ...   \n",
       "51296  51298   66579515         렌탈        프로모션계약   대형마트A  2022-02-28    60   \n",
       "51297  51299   66799558         렌탈          일반계약   대형마트A  2022-03-31    60   \n",
       "51298  51300   66799197         렌탈        프로모션계약    영업방판  2022-03-31    39   \n",
       "51299  51301   66792778         렌탈          일반계약  홈쇼핑/방송  2023-02-05    60   \n",
       "51300  51302   66799607         렌탈          일반계약  홈쇼핑/방송  2022-04-23    60   \n",
       "\n",
       "      Payment_Type Product_Type  Amount_Month Customer_Type   Age Address1  \\\n",
       "0              CMS        DES-1         96900            개인  42.0      경기도   \n",
       "1             카드이체        DES-1        102900            개인  39.0      경기도   \n",
       "2              CMS        DES-1         96900            개인  48.0      경기도   \n",
       "3              CMS        DES-1         66900            개인  39.0      경기도   \n",
       "4              CMS        DES-1         66900            개인  60.0      경기도   \n",
       "...            ...          ...           ...           ...   ...      ...   \n",
       "51296          CMS       DES-3A         96900            개인  47.0      경기도   \n",
       "51297          CMS        DES-1         96900            개인  42.0      경기도   \n",
       "51298         카드이체          ERA        120900            개인  65.0    서울특별시   \n",
       "51299         카드이체        DES-1         96900            개인  54.0    서울특별시   \n",
       "51300          CMS        DES-1         96900            개인  53.0    서울특별시   \n",
       "\n",
       "      Address2 State  Overdue_count Overdue_Type Gender  Credit_Rank    Bank  \n",
       "0          경기도  계약확정              0           없음     여자          9.0   새마을금고  \n",
       "1          경기도  계약확정              0           없음     남자          2.0    현대카드  \n",
       "2          경기도  계약확정              0           없음     여자          8.0    우리은행  \n",
       "3          경기도  계약확정              0           없음     남자          5.0  농협회원조합  \n",
       "4          경기도  기간만료             12           있음     남자          8.0  농협회원조합  \n",
       "...        ...   ...            ...          ...    ...          ...     ...  \n",
       "51296      경기도  계약확정              0           없음     남자          NaN    기업은행  \n",
       "51297      경기도  계약확정              0           없음     여자          8.0   새마을금고  \n",
       "51298    서울특별시  계약확정              0           없음     여자          1.0    롯데카드  \n",
       "51299    서울특별시  계약확정              0           없음     여자          2.0    롯데카드  \n",
       "51300    서울특별시  계약확정              0           없음     여자          8.0    신한은행  \n",
       "\n",
       "[51301 rows x 20 columns]"
      ]
     },
     "execution_count": 11,
     "metadata": {},
     "output_type": "execute_result"
    }
   ],
   "source": [
    "pd.read_csv('01_Data.csv')"
   ]
  },
  {
   "cell_type": "code",
   "execution_count": 12,
   "id": "e451969f-eacf-41f1-8802-45f1797d8cd2",
   "metadata": {},
   "outputs": [
    {
     "data": {
      "text/plain": [
       "Customer_Type\n",
       " 개인     46263\n",
       " 사업자     5036\n",
       "Name: count, dtype: int64"
      ]
     },
     "execution_count": 12,
     "metadata": {},
     "output_type": "execute_result"
    }
   ],
   "source": [
    "df1['Customer_Type'].value_counts()"
   ]
  },
  {
   "cell_type": "markdown",
   "id": "8ffacac2-366a-4ea9-9f92-5593899dfe11",
   "metadata": {},
   "source": [
    "# 데이터의 구조와 타입을 확인\n",
    "- index -- column -- value를 확인\n",
    "- index :  데이터의 개수를 확인\n",
    "  - 데이터의 개수에 따라 분석 방법이 달라짐\n",
    "- column : 데이터의 열 / 데이터의 항목\n",
    "  - 각 항목별(열) 데이터 타입을 확인\n",
    "    - 연속형 : int/ float\n",
    "    - 범주형 :: object\n",
    "    - 순서형 : 날짜 / 시간데이터 (datetime)\n",
    "- value : 값\n",
    "  - 데이터의 형식 (format) 확인\n",
    "  - 원시자료설명서 / DB 설계서 / 변수정의서\n",
    "  - 결측값 (missin value) : 데이터 수집 중 오류나 누락으로 인해 비어있는 값 : None / NaN (Not a Number) / Na( Not Available) / Null / inf /. . ."
   ]
  },
  {
   "cell_type": "code",
   "execution_count": 123,
   "id": "686740db-44fd-4743-915f-6dc56431fb99",
   "metadata": {},
   "outputs": [
    {
     "data": {
      "text/plain": [
       "RangeIndex(start=0, stop=51301, step=1)"
      ]
     },
     "execution_count": 123,
     "metadata": {},
     "output_type": "execute_result"
    }
   ],
   "source": [
    "# 인덱스 확인\n",
    "df1.index"
   ]
  },
  {
   "cell_type": "code",
   "execution_count": 125,
   "id": "fa3aafa5-b360-4ec4-9f1c-1a7e4b958e72",
   "metadata": {},
   "outputs": [
    {
     "data": {
      "text/plain": [
       "(51301, 20)"
      ]
     },
     "execution_count": 125,
     "metadata": {},
     "output_type": "execute_result"
    }
   ],
   "source": [
    "# 행렬 확인\n",
    "df1.shape  # (531301-> 행렬)"
   ]
  },
  {
   "cell_type": "code",
   "execution_count": 126,
   "id": "7af122d6-3535-4b34-bacc-98c3a146098b",
   "metadata": {},
   "outputs": [
    {
     "data": {
      "text/plain": [
       "Index(['Index', 'Member_ID', 'Sales_Type', 'Contract_Type', 'Channel',\n",
       "       'Datetime', 'Term', 'Payment_Type', 'Product_Type', 'Amount_Month',\n",
       "       'Customer_Type', 'Age', 'Address1', 'Address2', 'State',\n",
       "       'Overdue_count', 'Overdue_Type', 'Gender', 'Credit_Rank', 'Bank'],\n",
       "      dtype='object')"
      ]
     },
     "execution_count": 126,
     "metadata": {},
     "output_type": "execute_result"
    }
   ],
   "source": [
    "df1.columns #항목확인"
   ]
  },
  {
   "cell_type": "code",
   "execution_count": 127,
   "id": "11463be7-e8a9-454f-8a79-d560ec633976",
   "metadata": {},
   "outputs": [
    {
     "data": {
      "text/plain": [
       "51301"
      ]
     },
     "execution_count": 127,
     "metadata": {},
     "output_type": "execute_result"
    }
   ],
   "source": [
    "len(df1) #index 확인 가능"
   ]
  },
  {
   "cell_type": "markdown",
   "id": "cea44fbc-6f23-460c-aa14-57823fc71206",
   "metadata": {},
   "source": [
    "### info를 사용하면 데이터의 구조를 다 볼 수 있다."
   ]
  },
  {
   "cell_type": "code",
   "execution_count": 129,
   "id": "bfa2bd79-ec57-4bc4-998d-433092c45816",
   "metadata": {},
   "outputs": [
    {
     "name": "stdout",
     "output_type": "stream",
     "text": [
      "<class 'pandas.core.frame.DataFrame'>\n",
      "RangeIndex: 51301 entries, 0 to 51300\n",
      "Data columns (total 20 columns):\n",
      " #   Column         Non-Null Count  Dtype  \n",
      "---  ------         --------------  -----  \n",
      " 0   Index          51301 non-null  int64  \n",
      " 1   Member_ID      51301 non-null  int64  \n",
      " 2   Sales_Type     51301 non-null  object \n",
      " 3   Contract_Type  51301 non-null  object \n",
      " 4   Channel        51301 non-null  object \n",
      " 5   Datetime       51301 non-null  object \n",
      " 6   Term           51301 non-null  int64  \n",
      " 7   Payment_Type   51301 non-null  object \n",
      " 8   Product_Type   51301 non-null  object \n",
      " 9   Amount_Month   51301 non-null  int64  \n",
      " 10  Customer_Type  51299 non-null  object \n",
      " 11  Age            44329 non-null  float64\n",
      " 12  Address1       51299 non-null  object \n",
      " 13  Address2       51299 non-null  object \n",
      " 14  State          51301 non-null  object \n",
      " 15  Overdue_count  51301 non-null  int64  \n",
      " 16  Overdue_Type   51301 non-null  object \n",
      " 17  Gender         51301 non-null  object \n",
      " 18  Credit_Rank    42520 non-null  float64\n",
      " 19  Bank           48542 non-null  object \n",
      "dtypes: float64(2), int64(5), object(13)\n",
      "memory usage: 7.8+ MB\n"
     ]
    }
   ],
   "source": [
    "df1.info() # info를 사용하면 데이터의 구조를 다 볼 수 있다."
   ]
  },
  {
   "cell_type": "code",
   "execution_count": 14,
   "id": "f47cbdd1-7d5d-45c1-adf1-d00f2a403aca",
   "metadata": {},
   "outputs": [
    {
     "data": {
      "text/plain": [
       "Index               0\n",
       "Member_ID           0\n",
       "Sales_Type          0\n",
       "Contract_Type       0\n",
       "Channel             0\n",
       "Datetime            0\n",
       "Term                0\n",
       "Payment_Type        0\n",
       "Product_Type        0\n",
       "Amount_Month        0\n",
       "Customer_Type       2\n",
       "Age              6972\n",
       "Address1            2\n",
       "Address2            2\n",
       "State               0\n",
       "Overdue_count       0\n",
       "Overdue_Type        0\n",
       "Gender              0\n",
       "Credit_Rank      8781\n",
       "Bank             2759\n",
       "dtype: int64"
      ]
     },
     "execution_count": 14,
     "metadata": {},
     "output_type": "execute_result"
    }
   ],
   "source": [
    "# 결측치 확인\n",
    "df1.isnull().sum()  #결측치의 개수를 구해줌 sum까지 하면()"
   ]
  },
  {
   "cell_type": "code",
   "execution_count": 132,
   "id": "6b99f629-ae25-4246-b52c-0a53e0dee951",
   "metadata": {
    "scrolled": true
   },
   "outputs": [
    {
     "data": {
      "text/html": [
       "<div>\n",
       "<style scoped>\n",
       "    .dataframe tbody tr th:only-of-type {\n",
       "        vertical-align: middle;\n",
       "    }\n",
       "\n",
       "    .dataframe tbody tr th {\n",
       "        vertical-align: top;\n",
       "    }\n",
       "\n",
       "    .dataframe thead th {\n",
       "        text-align: right;\n",
       "    }\n",
       "</style>\n",
       "<table border=\"1\" class=\"dataframe\">\n",
       "  <thead>\n",
       "    <tr style=\"text-align: right;\">\n",
       "      <th></th>\n",
       "      <th>Index</th>\n",
       "      <th>Member_ID</th>\n",
       "      <th>Sales_Type</th>\n",
       "      <th>Contract_Type</th>\n",
       "      <th>Channel</th>\n",
       "      <th>Datetime</th>\n",
       "      <th>Term</th>\n",
       "      <th>Payment_Type</th>\n",
       "      <th>Product_Type</th>\n",
       "      <th>Amount_Month</th>\n",
       "      <th>Customer_Type</th>\n",
       "      <th>Age</th>\n",
       "      <th>Address1</th>\n",
       "      <th>Address2</th>\n",
       "      <th>State</th>\n",
       "      <th>Overdue_count</th>\n",
       "      <th>Overdue_Type</th>\n",
       "      <th>Gender</th>\n",
       "      <th>Credit_Rank</th>\n",
       "      <th>Bank</th>\n",
       "    </tr>\n",
       "  </thead>\n",
       "  <tbody>\n",
       "    <tr>\n",
       "      <th>0</th>\n",
       "      <td>1</td>\n",
       "      <td>66758234</td>\n",
       "      <td>렌탈</td>\n",
       "      <td>일반계약</td>\n",
       "      <td>영업방판</td>\n",
       "      <td>2022-05-05</td>\n",
       "      <td>60</td>\n",
       "      <td>CMS</td>\n",
       "      <td>DES-1</td>\n",
       "      <td>96900</td>\n",
       "      <td>개인</td>\n",
       "      <td>42.0</td>\n",
       "      <td>경기도</td>\n",
       "      <td>경기도</td>\n",
       "      <td>계약확정</td>\n",
       "      <td>0</td>\n",
       "      <td>없음</td>\n",
       "      <td>여자</td>\n",
       "      <td>9.0</td>\n",
       "      <td>새마을금고</td>\n",
       "    </tr>\n",
       "    <tr>\n",
       "      <th>1</th>\n",
       "      <td>2</td>\n",
       "      <td>66755948</td>\n",
       "      <td>렌탈</td>\n",
       "      <td>교체계약</td>\n",
       "      <td>영업방판</td>\n",
       "      <td>2023-02-19</td>\n",
       "      <td>60</td>\n",
       "      <td>카드이체</td>\n",
       "      <td>DES-1</td>\n",
       "      <td>102900</td>\n",
       "      <td>개인</td>\n",
       "      <td>39.0</td>\n",
       "      <td>경기도</td>\n",
       "      <td>경기도</td>\n",
       "      <td>계약확정</td>\n",
       "      <td>0</td>\n",
       "      <td>없음</td>\n",
       "      <td>남자</td>\n",
       "      <td>2.0</td>\n",
       "      <td>현대카드</td>\n",
       "    </tr>\n",
       "    <tr>\n",
       "      <th>2</th>\n",
       "      <td>3</td>\n",
       "      <td>66756657</td>\n",
       "      <td>렌탈</td>\n",
       "      <td>일반계약</td>\n",
       "      <td>홈쇼핑/방송</td>\n",
       "      <td>2022-02-27</td>\n",
       "      <td>60</td>\n",
       "      <td>CMS</td>\n",
       "      <td>DES-1</td>\n",
       "      <td>96900</td>\n",
       "      <td>개인</td>\n",
       "      <td>48.0</td>\n",
       "      <td>경기도</td>\n",
       "      <td>경기도</td>\n",
       "      <td>계약확정</td>\n",
       "      <td>0</td>\n",
       "      <td>없음</td>\n",
       "      <td>여자</td>\n",
       "      <td>8.0</td>\n",
       "      <td>우리은행</td>\n",
       "    </tr>\n",
       "    <tr>\n",
       "      <th>3</th>\n",
       "      <td>4</td>\n",
       "      <td>66423450</td>\n",
       "      <td>멤버십</td>\n",
       "      <td>멤버십3유형</td>\n",
       "      <td>재계약</td>\n",
       "      <td>2022-05-12</td>\n",
       "      <td>12</td>\n",
       "      <td>CMS</td>\n",
       "      <td>DES-1</td>\n",
       "      <td>66900</td>\n",
       "      <td>개인</td>\n",
       "      <td>39.0</td>\n",
       "      <td>경기도</td>\n",
       "      <td>경기도</td>\n",
       "      <td>계약확정</td>\n",
       "      <td>0</td>\n",
       "      <td>없음</td>\n",
       "      <td>남자</td>\n",
       "      <td>5.0</td>\n",
       "      <td>농협회원조합</td>\n",
       "    </tr>\n",
       "    <tr>\n",
       "      <th>4</th>\n",
       "      <td>5</td>\n",
       "      <td>66423204</td>\n",
       "      <td>멤버십</td>\n",
       "      <td>멤버십3유형</td>\n",
       "      <td>재계약</td>\n",
       "      <td>2022-05-09</td>\n",
       "      <td>12</td>\n",
       "      <td>CMS</td>\n",
       "      <td>DES-1</td>\n",
       "      <td>66900</td>\n",
       "      <td>개인</td>\n",
       "      <td>60.0</td>\n",
       "      <td>경기도</td>\n",
       "      <td>경기도</td>\n",
       "      <td>기간만료</td>\n",
       "      <td>12</td>\n",
       "      <td>있음</td>\n",
       "      <td>남자</td>\n",
       "      <td>8.0</td>\n",
       "      <td>농협회원조합</td>\n",
       "    </tr>\n",
       "  </tbody>\n",
       "</table>\n",
       "</div>"
      ],
      "text/plain": [
       "   Index  Member_ID Sales_Type Contract_Type Channel    Datetime  Term  \\\n",
       "0      1   66758234         렌탈          일반계약    영업방판  2022-05-05    60   \n",
       "1      2   66755948         렌탈          교체계약    영업방판  2023-02-19    60   \n",
       "2      3   66756657         렌탈          일반계약  홈쇼핑/방송  2022-02-27    60   \n",
       "3      4   66423450        멤버십        멤버십3유형     재계약  2022-05-12    12   \n",
       "4      5   66423204        멤버십        멤버십3유형     재계약  2022-05-09    12   \n",
       "\n",
       "  Payment_Type Product_Type  Amount_Month Customer_Type   Age Address1  \\\n",
       "0          CMS        DES-1         96900            개인  42.0      경기도   \n",
       "1         카드이체        DES-1        102900            개인  39.0      경기도   \n",
       "2          CMS        DES-1         96900            개인  48.0      경기도   \n",
       "3          CMS        DES-1         66900            개인  39.0      경기도   \n",
       "4          CMS        DES-1         66900            개인  60.0      경기도   \n",
       "\n",
       "  Address2 State  Overdue_count Overdue_Type Gender  Credit_Rank    Bank  \n",
       "0      경기도  계약확정              0           없음     여자          9.0   새마을금고  \n",
       "1      경기도  계약확정              0           없음     남자          2.0    현대카드  \n",
       "2      경기도  계약확정              0           없음     여자          8.0    우리은행  \n",
       "3      경기도  계약확정              0           없음     남자          5.0  농협회원조합  \n",
       "4      경기도  기간만료             12           있음     남자          8.0  농협회원조합  "
      ]
     },
     "execution_count": 132,
     "metadata": {},
     "output_type": "execute_result"
    }
   ],
   "source": [
    "# 데이터 추출(행 단위)\n",
    "\n",
    "df1.head() #위에 입력된 개수 만큼 확인 , head() : 디폴트로 5 줄만 보여줌"
   ]
  },
  {
   "cell_type": "code",
   "execution_count": 133,
   "id": "43993fd5-8b6d-4d86-a291-0edd4e4b8c83",
   "metadata": {
    "scrolled": true
   },
   "outputs": [
    {
     "data": {
      "text/html": [
       "<div>\n",
       "<style scoped>\n",
       "    .dataframe tbody tr th:only-of-type {\n",
       "        vertical-align: middle;\n",
       "    }\n",
       "\n",
       "    .dataframe tbody tr th {\n",
       "        vertical-align: top;\n",
       "    }\n",
       "\n",
       "    .dataframe thead th {\n",
       "        text-align: right;\n",
       "    }\n",
       "</style>\n",
       "<table border=\"1\" class=\"dataframe\">\n",
       "  <thead>\n",
       "    <tr style=\"text-align: right;\">\n",
       "      <th></th>\n",
       "      <th>Index</th>\n",
       "      <th>Member_ID</th>\n",
       "      <th>Sales_Type</th>\n",
       "      <th>Contract_Type</th>\n",
       "      <th>Channel</th>\n",
       "      <th>Datetime</th>\n",
       "      <th>Term</th>\n",
       "      <th>Payment_Type</th>\n",
       "      <th>Product_Type</th>\n",
       "      <th>Amount_Month</th>\n",
       "      <th>Customer_Type</th>\n",
       "      <th>Age</th>\n",
       "      <th>Address1</th>\n",
       "      <th>Address2</th>\n",
       "      <th>State</th>\n",
       "      <th>Overdue_count</th>\n",
       "      <th>Overdue_Type</th>\n",
       "      <th>Gender</th>\n",
       "      <th>Credit_Rank</th>\n",
       "      <th>Bank</th>\n",
       "    </tr>\n",
       "  </thead>\n",
       "  <tbody>\n",
       "    <tr>\n",
       "      <th>0</th>\n",
       "      <td>1</td>\n",
       "      <td>66758234</td>\n",
       "      <td>렌탈</td>\n",
       "      <td>일반계약</td>\n",
       "      <td>영업방판</td>\n",
       "      <td>2022-05-05</td>\n",
       "      <td>60</td>\n",
       "      <td>CMS</td>\n",
       "      <td>DES-1</td>\n",
       "      <td>96900</td>\n",
       "      <td>개인</td>\n",
       "      <td>42.0</td>\n",
       "      <td>경기도</td>\n",
       "      <td>경기도</td>\n",
       "      <td>계약확정</td>\n",
       "      <td>0</td>\n",
       "      <td>없음</td>\n",
       "      <td>여자</td>\n",
       "      <td>9.0</td>\n",
       "      <td>새마을금고</td>\n",
       "    </tr>\n",
       "    <tr>\n",
       "      <th>1</th>\n",
       "      <td>2</td>\n",
       "      <td>66755948</td>\n",
       "      <td>렌탈</td>\n",
       "      <td>교체계약</td>\n",
       "      <td>영업방판</td>\n",
       "      <td>2023-02-19</td>\n",
       "      <td>60</td>\n",
       "      <td>카드이체</td>\n",
       "      <td>DES-1</td>\n",
       "      <td>102900</td>\n",
       "      <td>개인</td>\n",
       "      <td>39.0</td>\n",
       "      <td>경기도</td>\n",
       "      <td>경기도</td>\n",
       "      <td>계약확정</td>\n",
       "      <td>0</td>\n",
       "      <td>없음</td>\n",
       "      <td>남자</td>\n",
       "      <td>2.0</td>\n",
       "      <td>현대카드</td>\n",
       "    </tr>\n",
       "    <tr>\n",
       "      <th>2</th>\n",
       "      <td>3</td>\n",
       "      <td>66756657</td>\n",
       "      <td>렌탈</td>\n",
       "      <td>일반계약</td>\n",
       "      <td>홈쇼핑/방송</td>\n",
       "      <td>2022-02-27</td>\n",
       "      <td>60</td>\n",
       "      <td>CMS</td>\n",
       "      <td>DES-1</td>\n",
       "      <td>96900</td>\n",
       "      <td>개인</td>\n",
       "      <td>48.0</td>\n",
       "      <td>경기도</td>\n",
       "      <td>경기도</td>\n",
       "      <td>계약확정</td>\n",
       "      <td>0</td>\n",
       "      <td>없음</td>\n",
       "      <td>여자</td>\n",
       "      <td>8.0</td>\n",
       "      <td>우리은행</td>\n",
       "    </tr>\n",
       "    <tr>\n",
       "      <th>3</th>\n",
       "      <td>4</td>\n",
       "      <td>66423450</td>\n",
       "      <td>멤버십</td>\n",
       "      <td>멤버십3유형</td>\n",
       "      <td>재계약</td>\n",
       "      <td>2022-05-12</td>\n",
       "      <td>12</td>\n",
       "      <td>CMS</td>\n",
       "      <td>DES-1</td>\n",
       "      <td>66900</td>\n",
       "      <td>개인</td>\n",
       "      <td>39.0</td>\n",
       "      <td>경기도</td>\n",
       "      <td>경기도</td>\n",
       "      <td>계약확정</td>\n",
       "      <td>0</td>\n",
       "      <td>없음</td>\n",
       "      <td>남자</td>\n",
       "      <td>5.0</td>\n",
       "      <td>농협회원조합</td>\n",
       "    </tr>\n",
       "    <tr>\n",
       "      <th>4</th>\n",
       "      <td>5</td>\n",
       "      <td>66423204</td>\n",
       "      <td>멤버십</td>\n",
       "      <td>멤버십3유형</td>\n",
       "      <td>재계약</td>\n",
       "      <td>2022-05-09</td>\n",
       "      <td>12</td>\n",
       "      <td>CMS</td>\n",
       "      <td>DES-1</td>\n",
       "      <td>66900</td>\n",
       "      <td>개인</td>\n",
       "      <td>60.0</td>\n",
       "      <td>경기도</td>\n",
       "      <td>경기도</td>\n",
       "      <td>기간만료</td>\n",
       "      <td>12</td>\n",
       "      <td>있음</td>\n",
       "      <td>남자</td>\n",
       "      <td>8.0</td>\n",
       "      <td>농협회원조합</td>\n",
       "    </tr>\n",
       "    <tr>\n",
       "      <th>5</th>\n",
       "      <td>6</td>\n",
       "      <td>66165241</td>\n",
       "      <td>렌탈</td>\n",
       "      <td>프로모션계약</td>\n",
       "      <td>영업방판</td>\n",
       "      <td>2022-07-28</td>\n",
       "      <td>60</td>\n",
       "      <td>CMS</td>\n",
       "      <td>DES-3A</td>\n",
       "      <td>90900</td>\n",
       "      <td>개인</td>\n",
       "      <td>53.0</td>\n",
       "      <td>경상도</td>\n",
       "      <td>경상도</td>\n",
       "      <td>계약확정</td>\n",
       "      <td>0</td>\n",
       "      <td>없음</td>\n",
       "      <td>여자</td>\n",
       "      <td>5.0</td>\n",
       "      <td>농협중앙회</td>\n",
       "    </tr>\n",
       "    <tr>\n",
       "      <th>6</th>\n",
       "      <td>7</td>\n",
       "      <td>66751017</td>\n",
       "      <td>렌탈</td>\n",
       "      <td>패키지계약</td>\n",
       "      <td>홈쇼핑/방송</td>\n",
       "      <td>2022-01-29</td>\n",
       "      <td>60</td>\n",
       "      <td>카드이체</td>\n",
       "      <td>DES-1</td>\n",
       "      <td>98400</td>\n",
       "      <td>개인</td>\n",
       "      <td>66.0</td>\n",
       "      <td>경상도</td>\n",
       "      <td>경상도</td>\n",
       "      <td>계약확정</td>\n",
       "      <td>0</td>\n",
       "      <td>없음</td>\n",
       "      <td>남자</td>\n",
       "      <td>1.0</td>\n",
       "      <td>롯데카드</td>\n",
       "    </tr>\n",
       "    <tr>\n",
       "      <th>7</th>\n",
       "      <td>8</td>\n",
       "      <td>66751017</td>\n",
       "      <td>렌탈</td>\n",
       "      <td>패키지계약</td>\n",
       "      <td>홈쇼핑/방송</td>\n",
       "      <td>2022-01-16</td>\n",
       "      <td>60</td>\n",
       "      <td>카드이체</td>\n",
       "      <td>DES-2</td>\n",
       "      <td>80400</td>\n",
       "      <td>개인</td>\n",
       "      <td>66.0</td>\n",
       "      <td>경상도</td>\n",
       "      <td>경상도</td>\n",
       "      <td>계약확정</td>\n",
       "      <td>0</td>\n",
       "      <td>없음</td>\n",
       "      <td>남자</td>\n",
       "      <td>1.0</td>\n",
       "      <td>롯데카드</td>\n",
       "    </tr>\n",
       "  </tbody>\n",
       "</table>\n",
       "</div>"
      ],
      "text/plain": [
       "   Index  Member_ID Sales_Type Contract_Type Channel    Datetime  Term  \\\n",
       "0      1   66758234         렌탈          일반계약    영업방판  2022-05-05    60   \n",
       "1      2   66755948         렌탈          교체계약    영업방판  2023-02-19    60   \n",
       "2      3   66756657         렌탈          일반계약  홈쇼핑/방송  2022-02-27    60   \n",
       "3      4   66423450        멤버십        멤버십3유형     재계약  2022-05-12    12   \n",
       "4      5   66423204        멤버십        멤버십3유형     재계약  2022-05-09    12   \n",
       "5      6   66165241         렌탈        프로모션계약    영업방판  2022-07-28    60   \n",
       "6      7   66751017         렌탈         패키지계약  홈쇼핑/방송  2022-01-29    60   \n",
       "7      8   66751017         렌탈         패키지계약  홈쇼핑/방송  2022-01-16    60   \n",
       "\n",
       "  Payment_Type Product_Type  Amount_Month Customer_Type   Age Address1  \\\n",
       "0          CMS        DES-1         96900            개인  42.0      경기도   \n",
       "1         카드이체        DES-1        102900            개인  39.0      경기도   \n",
       "2          CMS        DES-1         96900            개인  48.0      경기도   \n",
       "3          CMS        DES-1         66900            개인  39.0      경기도   \n",
       "4          CMS        DES-1         66900            개인  60.0      경기도   \n",
       "5          CMS       DES-3A         90900            개인  53.0      경상도   \n",
       "6         카드이체        DES-1         98400            개인  66.0      경상도   \n",
       "7         카드이체        DES-2         80400            개인  66.0      경상도   \n",
       "\n",
       "  Address2 State  Overdue_count Overdue_Type Gender  Credit_Rank    Bank  \n",
       "0      경기도  계약확정              0           없음     여자          9.0   새마을금고  \n",
       "1      경기도  계약확정              0           없음     남자          2.0    현대카드  \n",
       "2      경기도  계약확정              0           없음     여자          8.0    우리은행  \n",
       "3      경기도  계약확정              0           없음     남자          5.0  농협회원조합  \n",
       "4      경기도  기간만료             12           있음     남자          8.0  농협회원조합  \n",
       "5      경상도  계약확정              0           없음     여자          5.0   농협중앙회  \n",
       "6      경상도  계약확정              0           없음     남자          1.0    롯데카드  \n",
       "7      경상도  계약확정              0           없음     남자          1.0    롯데카드  "
      ]
     },
     "execution_count": 133,
     "metadata": {},
     "output_type": "execute_result"
    }
   ],
   "source": [
    "df1.head(8) "
   ]
  },
  {
   "cell_type": "code",
   "execution_count": 134,
   "id": "557885e4-b8e7-4fef-9964-7efac04b4b15",
   "metadata": {},
   "outputs": [
    {
     "data": {
      "text/html": [
       "<div>\n",
       "<style scoped>\n",
       "    .dataframe tbody tr th:only-of-type {\n",
       "        vertical-align: middle;\n",
       "    }\n",
       "\n",
       "    .dataframe tbody tr th {\n",
       "        vertical-align: top;\n",
       "    }\n",
       "\n",
       "    .dataframe thead th {\n",
       "        text-align: right;\n",
       "    }\n",
       "</style>\n",
       "<table border=\"1\" class=\"dataframe\">\n",
       "  <thead>\n",
       "    <tr style=\"text-align: right;\">\n",
       "      <th></th>\n",
       "      <th>Index</th>\n",
       "      <th>Member_ID</th>\n",
       "      <th>Sales_Type</th>\n",
       "      <th>Contract_Type</th>\n",
       "      <th>Channel</th>\n",
       "      <th>Datetime</th>\n",
       "      <th>Term</th>\n",
       "      <th>Payment_Type</th>\n",
       "      <th>Product_Type</th>\n",
       "      <th>Amount_Month</th>\n",
       "      <th>Customer_Type</th>\n",
       "      <th>Age</th>\n",
       "      <th>Address1</th>\n",
       "      <th>Address2</th>\n",
       "      <th>State</th>\n",
       "      <th>Overdue_count</th>\n",
       "      <th>Overdue_Type</th>\n",
       "      <th>Gender</th>\n",
       "      <th>Credit_Rank</th>\n",
       "      <th>Bank</th>\n",
       "    </tr>\n",
       "  </thead>\n",
       "  <tbody>\n",
       "    <tr>\n",
       "      <th>51296</th>\n",
       "      <td>51298</td>\n",
       "      <td>66579515</td>\n",
       "      <td>렌탈</td>\n",
       "      <td>프로모션계약</td>\n",
       "      <td>대형마트A</td>\n",
       "      <td>2022-02-28</td>\n",
       "      <td>60</td>\n",
       "      <td>CMS</td>\n",
       "      <td>DES-3A</td>\n",
       "      <td>96900</td>\n",
       "      <td>개인</td>\n",
       "      <td>47.0</td>\n",
       "      <td>경기도</td>\n",
       "      <td>경기도</td>\n",
       "      <td>계약확정</td>\n",
       "      <td>0</td>\n",
       "      <td>없음</td>\n",
       "      <td>남자</td>\n",
       "      <td>NaN</td>\n",
       "      <td>기업은행</td>\n",
       "    </tr>\n",
       "    <tr>\n",
       "      <th>51297</th>\n",
       "      <td>51299</td>\n",
       "      <td>66799558</td>\n",
       "      <td>렌탈</td>\n",
       "      <td>일반계약</td>\n",
       "      <td>대형마트A</td>\n",
       "      <td>2022-03-31</td>\n",
       "      <td>60</td>\n",
       "      <td>CMS</td>\n",
       "      <td>DES-1</td>\n",
       "      <td>96900</td>\n",
       "      <td>개인</td>\n",
       "      <td>42.0</td>\n",
       "      <td>경기도</td>\n",
       "      <td>경기도</td>\n",
       "      <td>계약확정</td>\n",
       "      <td>0</td>\n",
       "      <td>없음</td>\n",
       "      <td>여자</td>\n",
       "      <td>8.0</td>\n",
       "      <td>새마을금고</td>\n",
       "    </tr>\n",
       "    <tr>\n",
       "      <th>51298</th>\n",
       "      <td>51300</td>\n",
       "      <td>66799197</td>\n",
       "      <td>렌탈</td>\n",
       "      <td>프로모션계약</td>\n",
       "      <td>영업방판</td>\n",
       "      <td>2022-03-31</td>\n",
       "      <td>39</td>\n",
       "      <td>카드이체</td>\n",
       "      <td>ERA</td>\n",
       "      <td>120900</td>\n",
       "      <td>개인</td>\n",
       "      <td>65.0</td>\n",
       "      <td>서울특별시</td>\n",
       "      <td>서울특별시</td>\n",
       "      <td>계약확정</td>\n",
       "      <td>0</td>\n",
       "      <td>없음</td>\n",
       "      <td>여자</td>\n",
       "      <td>1.0</td>\n",
       "      <td>롯데카드</td>\n",
       "    </tr>\n",
       "    <tr>\n",
       "      <th>51299</th>\n",
       "      <td>51301</td>\n",
       "      <td>66792778</td>\n",
       "      <td>렌탈</td>\n",
       "      <td>일반계약</td>\n",
       "      <td>홈쇼핑/방송</td>\n",
       "      <td>2023-02-05</td>\n",
       "      <td>60</td>\n",
       "      <td>카드이체</td>\n",
       "      <td>DES-1</td>\n",
       "      <td>96900</td>\n",
       "      <td>개인</td>\n",
       "      <td>54.0</td>\n",
       "      <td>서울특별시</td>\n",
       "      <td>서울특별시</td>\n",
       "      <td>계약확정</td>\n",
       "      <td>0</td>\n",
       "      <td>없음</td>\n",
       "      <td>여자</td>\n",
       "      <td>2.0</td>\n",
       "      <td>롯데카드</td>\n",
       "    </tr>\n",
       "    <tr>\n",
       "      <th>51300</th>\n",
       "      <td>51302</td>\n",
       "      <td>66799607</td>\n",
       "      <td>렌탈</td>\n",
       "      <td>일반계약</td>\n",
       "      <td>홈쇼핑/방송</td>\n",
       "      <td>2022-04-23</td>\n",
       "      <td>60</td>\n",
       "      <td>CMS</td>\n",
       "      <td>DES-1</td>\n",
       "      <td>96900</td>\n",
       "      <td>개인</td>\n",
       "      <td>53.0</td>\n",
       "      <td>서울특별시</td>\n",
       "      <td>서울특별시</td>\n",
       "      <td>계약확정</td>\n",
       "      <td>0</td>\n",
       "      <td>없음</td>\n",
       "      <td>여자</td>\n",
       "      <td>8.0</td>\n",
       "      <td>신한은행</td>\n",
       "    </tr>\n",
       "  </tbody>\n",
       "</table>\n",
       "</div>"
      ],
      "text/plain": [
       "       Index  Member_ID Sales_Type Contract_Type Channel    Datetime  Term  \\\n",
       "51296  51298   66579515         렌탈        프로모션계약   대형마트A  2022-02-28    60   \n",
       "51297  51299   66799558         렌탈          일반계약   대형마트A  2022-03-31    60   \n",
       "51298  51300   66799197         렌탈        프로모션계약    영업방판  2022-03-31    39   \n",
       "51299  51301   66792778         렌탈          일반계약  홈쇼핑/방송  2023-02-05    60   \n",
       "51300  51302   66799607         렌탈          일반계약  홈쇼핑/방송  2022-04-23    60   \n",
       "\n",
       "      Payment_Type Product_Type  Amount_Month Customer_Type   Age Address1  \\\n",
       "51296          CMS       DES-3A         96900            개인  47.0      경기도   \n",
       "51297          CMS        DES-1         96900            개인  42.0      경기도   \n",
       "51298         카드이체          ERA        120900            개인  65.0    서울특별시   \n",
       "51299         카드이체        DES-1         96900            개인  54.0    서울특별시   \n",
       "51300          CMS        DES-1         96900            개인  53.0    서울특별시   \n",
       "\n",
       "      Address2 State  Overdue_count Overdue_Type Gender  Credit_Rank   Bank  \n",
       "51296      경기도  계약확정              0           없음     남자          NaN   기업은행  \n",
       "51297      경기도  계약확정              0           없음     여자          8.0  새마을금고  \n",
       "51298    서울특별시  계약확정              0           없음     여자          1.0   롯데카드  \n",
       "51299    서울특별시  계약확정              0           없음     여자          2.0   롯데카드  \n",
       "51300    서울특별시  계약확정              0           없음     여자          8.0   신한은행  "
      ]
     },
     "execution_count": 134,
     "metadata": {},
     "output_type": "execute_result"
    }
   ],
   "source": [
    "# 뒤에서부터 확인\n",
    "df1.tail()"
   ]
  },
  {
   "cell_type": "code",
   "execution_count": 135,
   "id": "fb5f460b-940e-4683-ba84-c38cfb5068a5",
   "metadata": {
    "scrolled": true
   },
   "outputs": [
    {
     "data": {
      "text/html": [
       "<div>\n",
       "<style scoped>\n",
       "    .dataframe tbody tr th:only-of-type {\n",
       "        vertical-align: middle;\n",
       "    }\n",
       "\n",
       "    .dataframe tbody tr th {\n",
       "        vertical-align: top;\n",
       "    }\n",
       "\n",
       "    .dataframe thead th {\n",
       "        text-align: right;\n",
       "    }\n",
       "</style>\n",
       "<table border=\"1\" class=\"dataframe\">\n",
       "  <thead>\n",
       "    <tr style=\"text-align: right;\">\n",
       "      <th></th>\n",
       "      <th>Index</th>\n",
       "      <th>Member_ID</th>\n",
       "      <th>Sales_Type</th>\n",
       "      <th>Contract_Type</th>\n",
       "      <th>Channel</th>\n",
       "      <th>Datetime</th>\n",
       "      <th>Term</th>\n",
       "      <th>Payment_Type</th>\n",
       "      <th>Product_Type</th>\n",
       "      <th>Amount_Month</th>\n",
       "      <th>Customer_Type</th>\n",
       "      <th>Age</th>\n",
       "      <th>Address1</th>\n",
       "      <th>Address2</th>\n",
       "      <th>State</th>\n",
       "      <th>Overdue_count</th>\n",
       "      <th>Overdue_Type</th>\n",
       "      <th>Gender</th>\n",
       "      <th>Credit_Rank</th>\n",
       "      <th>Bank</th>\n",
       "    </tr>\n",
       "  </thead>\n",
       "  <tbody>\n",
       "    <tr>\n",
       "      <th>50</th>\n",
       "      <td>51</td>\n",
       "      <td>66758548</td>\n",
       "      <td>렌탈</td>\n",
       "      <td>일반계약</td>\n",
       "      <td>영업방판</td>\n",
       "      <td>2022-03-30</td>\n",
       "      <td>60</td>\n",
       "      <td>CMS</td>\n",
       "      <td>DES-1</td>\n",
       "      <td>96900</td>\n",
       "      <td>개인</td>\n",
       "      <td>57.0</td>\n",
       "      <td>서울특별시</td>\n",
       "      <td>서울특별시</td>\n",
       "      <td>계약확정</td>\n",
       "      <td>0</td>\n",
       "      <td>없음</td>\n",
       "      <td>남자</td>\n",
       "      <td>4.0</td>\n",
       "      <td>국민은행</td>\n",
       "    </tr>\n",
       "    <tr>\n",
       "      <th>51</th>\n",
       "      <td>52</td>\n",
       "      <td>66758162</td>\n",
       "      <td>렌탈</td>\n",
       "      <td>패키지계약</td>\n",
       "      <td>홈쇼핑/방송</td>\n",
       "      <td>2022-10-02</td>\n",
       "      <td>60</td>\n",
       "      <td>카드이체</td>\n",
       "      <td>DES-1</td>\n",
       "      <td>98400</td>\n",
       "      <td>개인</td>\n",
       "      <td>50.0</td>\n",
       "      <td>서울특별시</td>\n",
       "      <td>서울특별시</td>\n",
       "      <td>계약확정</td>\n",
       "      <td>0</td>\n",
       "      <td>없음</td>\n",
       "      <td>남자</td>\n",
       "      <td>5.0</td>\n",
       "      <td>국민카드</td>\n",
       "    </tr>\n",
       "    <tr>\n",
       "      <th>52</th>\n",
       "      <td>53</td>\n",
       "      <td>66758162</td>\n",
       "      <td>렌탈</td>\n",
       "      <td>패키지계약</td>\n",
       "      <td>홈쇼핑/방송</td>\n",
       "      <td>2022-05-03</td>\n",
       "      <td>60</td>\n",
       "      <td>카드이체</td>\n",
       "      <td>DES-2</td>\n",
       "      <td>80400</td>\n",
       "      <td>개인</td>\n",
       "      <td>50.0</td>\n",
       "      <td>서울특별시</td>\n",
       "      <td>서울특별시</td>\n",
       "      <td>계약확정</td>\n",
       "      <td>0</td>\n",
       "      <td>없음</td>\n",
       "      <td>남자</td>\n",
       "      <td>5.0</td>\n",
       "      <td>국민카드</td>\n",
       "    </tr>\n",
       "    <tr>\n",
       "      <th>53</th>\n",
       "      <td>54</td>\n",
       "      <td>66590304</td>\n",
       "      <td>렌탈</td>\n",
       "      <td>프로모션계약</td>\n",
       "      <td>영업방판</td>\n",
       "      <td>2021-12-31</td>\n",
       "      <td>60</td>\n",
       "      <td>CMS</td>\n",
       "      <td>DES-2</td>\n",
       "      <td>90900</td>\n",
       "      <td>개인</td>\n",
       "      <td>43.0</td>\n",
       "      <td>서울특별시</td>\n",
       "      <td>서울특별시</td>\n",
       "      <td>계약확정</td>\n",
       "      <td>0</td>\n",
       "      <td>없음</td>\n",
       "      <td>남자</td>\n",
       "      <td>4.0</td>\n",
       "      <td>신한은행</td>\n",
       "    </tr>\n",
       "    <tr>\n",
       "      <th>54</th>\n",
       "      <td>55</td>\n",
       "      <td>66670488</td>\n",
       "      <td>렌탈</td>\n",
       "      <td>프로모션계약</td>\n",
       "      <td>영업방판</td>\n",
       "      <td>2022-04-02</td>\n",
       "      <td>60</td>\n",
       "      <td>CMS</td>\n",
       "      <td>DES-1</td>\n",
       "      <td>96900</td>\n",
       "      <td>개인</td>\n",
       "      <td>34.0</td>\n",
       "      <td>서울특별시</td>\n",
       "      <td>서울특별시</td>\n",
       "      <td>계약확정</td>\n",
       "      <td>0</td>\n",
       "      <td>없음</td>\n",
       "      <td>여자</td>\n",
       "      <td>4.0</td>\n",
       "      <td>우리은행</td>\n",
       "    </tr>\n",
       "    <tr>\n",
       "      <th>55</th>\n",
       "      <td>56</td>\n",
       "      <td>25856039</td>\n",
       "      <td>렌탈</td>\n",
       "      <td>교체계약</td>\n",
       "      <td>영업방판</td>\n",
       "      <td>2022-04-30</td>\n",
       "      <td>60</td>\n",
       "      <td>CMS</td>\n",
       "      <td>DES-1</td>\n",
       "      <td>96900</td>\n",
       "      <td>사업자</td>\n",
       "      <td>NaN</td>\n",
       "      <td>경상도</td>\n",
       "      <td>부산광역시</td>\n",
       "      <td>계약확정</td>\n",
       "      <td>0</td>\n",
       "      <td>없음</td>\n",
       "      <td>여자</td>\n",
       "      <td>NaN</td>\n",
       "      <td>농협중앙회</td>\n",
       "    </tr>\n",
       "    <tr>\n",
       "      <th>56</th>\n",
       "      <td>57</td>\n",
       "      <td>25869517</td>\n",
       "      <td>렌탈</td>\n",
       "      <td>프로모션계약</td>\n",
       "      <td>영업방판</td>\n",
       "      <td>2022-07-21</td>\n",
       "      <td>60</td>\n",
       "      <td>가상계좌</td>\n",
       "      <td>DES-1</td>\n",
       "      <td>96900</td>\n",
       "      <td>사업자</td>\n",
       "      <td>NaN</td>\n",
       "      <td>경상도</td>\n",
       "      <td>부산광역시</td>\n",
       "      <td>계약확정</td>\n",
       "      <td>0</td>\n",
       "      <td>없음</td>\n",
       "      <td>여자</td>\n",
       "      <td>NaN</td>\n",
       "      <td>NaN</td>\n",
       "    </tr>\n",
       "    <tr>\n",
       "      <th>57</th>\n",
       "      <td>58</td>\n",
       "      <td>66757967</td>\n",
       "      <td>렌탈</td>\n",
       "      <td>프로모션계약</td>\n",
       "      <td>영업방판</td>\n",
       "      <td>2022-08-20</td>\n",
       "      <td>60</td>\n",
       "      <td>카드이체</td>\n",
       "      <td>DES-1</td>\n",
       "      <td>105900</td>\n",
       "      <td>개인</td>\n",
       "      <td>37.0</td>\n",
       "      <td>경상도</td>\n",
       "      <td>경상도</td>\n",
       "      <td>계약확정</td>\n",
       "      <td>0</td>\n",
       "      <td>없음</td>\n",
       "      <td>여자</td>\n",
       "      <td>5.0</td>\n",
       "      <td>롯데카드</td>\n",
       "    </tr>\n",
       "    <tr>\n",
       "      <th>58</th>\n",
       "      <td>59</td>\n",
       "      <td>66260467</td>\n",
       "      <td>렌탈</td>\n",
       "      <td>교체계약</td>\n",
       "      <td>영업방판</td>\n",
       "      <td>2022-02-15</td>\n",
       "      <td>60</td>\n",
       "      <td>CMS</td>\n",
       "      <td>DES-1</td>\n",
       "      <td>96900</td>\n",
       "      <td>개인</td>\n",
       "      <td>42.0</td>\n",
       "      <td>경상도</td>\n",
       "      <td>경상도</td>\n",
       "      <td>계약확정</td>\n",
       "      <td>0</td>\n",
       "      <td>없음</td>\n",
       "      <td>여자</td>\n",
       "      <td>1.0</td>\n",
       "      <td>우리은행</td>\n",
       "    </tr>\n",
       "    <tr>\n",
       "      <th>59</th>\n",
       "      <td>60</td>\n",
       "      <td>66758899</td>\n",
       "      <td>렌탈</td>\n",
       "      <td>패키지계약</td>\n",
       "      <td>전문매장H</td>\n",
       "      <td>2022-07-29</td>\n",
       "      <td>60</td>\n",
       "      <td>CMS</td>\n",
       "      <td>DES-1</td>\n",
       "      <td>81900</td>\n",
       "      <td>개인</td>\n",
       "      <td>67.0</td>\n",
       "      <td>경상도</td>\n",
       "      <td>경상도</td>\n",
       "      <td>계약확정</td>\n",
       "      <td>0</td>\n",
       "      <td>없음</td>\n",
       "      <td>남자</td>\n",
       "      <td>2.0</td>\n",
       "      <td>대구은행</td>\n",
       "    </tr>\n",
       "  </tbody>\n",
       "</table>\n",
       "</div>"
      ],
      "text/plain": [
       "    Index  Member_ID Sales_Type Contract_Type Channel    Datetime  Term  \\\n",
       "50     51   66758548         렌탈          일반계약    영업방판  2022-03-30    60   \n",
       "51     52   66758162         렌탈         패키지계약  홈쇼핑/방송  2022-10-02    60   \n",
       "52     53   66758162         렌탈         패키지계약  홈쇼핑/방송  2022-05-03    60   \n",
       "53     54   66590304         렌탈        프로모션계약    영업방판  2021-12-31    60   \n",
       "54     55   66670488         렌탈        프로모션계약    영업방판  2022-04-02    60   \n",
       "55     56   25856039         렌탈          교체계약    영업방판  2022-04-30    60   \n",
       "56     57   25869517         렌탈        프로모션계약    영업방판  2022-07-21    60   \n",
       "57     58   66757967         렌탈        프로모션계약    영업방판  2022-08-20    60   \n",
       "58     59   66260467         렌탈          교체계약    영업방판  2022-02-15    60   \n",
       "59     60   66758899         렌탈         패키지계약   전문매장H  2022-07-29    60   \n",
       "\n",
       "   Payment_Type Product_Type  Amount_Month Customer_Type   Age Address1  \\\n",
       "50          CMS        DES-1         96900            개인  57.0    서울특별시   \n",
       "51         카드이체        DES-1         98400            개인  50.0    서울특별시   \n",
       "52         카드이체        DES-2         80400            개인  50.0    서울특별시   \n",
       "53          CMS        DES-2         90900            개인  43.0    서울특별시   \n",
       "54          CMS        DES-1         96900            개인  34.0    서울특별시   \n",
       "55          CMS        DES-1         96900           사업자   NaN      경상도   \n",
       "56         가상계좌        DES-1         96900           사업자   NaN      경상도   \n",
       "57         카드이체        DES-1        105900            개인  37.0      경상도   \n",
       "58          CMS        DES-1         96900            개인  42.0      경상도   \n",
       "59          CMS        DES-1         81900            개인  67.0      경상도   \n",
       "\n",
       "   Address2 State  Overdue_count Overdue_Type Gender  Credit_Rank   Bank  \n",
       "50    서울특별시  계약확정              0           없음     남자          4.0   국민은행  \n",
       "51    서울특별시  계약확정              0           없음     남자          5.0   국민카드  \n",
       "52    서울특별시  계약확정              0           없음     남자          5.0   국민카드  \n",
       "53    서울특별시  계약확정              0           없음     남자          4.0   신한은행  \n",
       "54    서울특별시  계약확정              0           없음     여자          4.0   우리은행  \n",
       "55    부산광역시  계약확정              0           없음     여자          NaN  농협중앙회  \n",
       "56    부산광역시  계약확정              0           없음     여자          NaN    NaN  \n",
       "57      경상도  계약확정              0           없음     여자          5.0   롯데카드  \n",
       "58      경상도  계약확정              0           없음     여자          1.0   우리은행  \n",
       "59      경상도  계약확정              0           없음     남자          2.0   대구은행  "
      ]
     },
     "execution_count": 135,
     "metadata": {},
     "output_type": "execute_result"
    }
   ],
   "source": [
    "# iloc 함수 : 중간에 있는 데이터 확인\n",
    "df1.iloc[50:60]"
   ]
  },
  {
   "cell_type": "code",
   "execution_count": 137,
   "id": "d9a13562-099b-4449-b73c-0d3e49e4106b",
   "metadata": {
    "scrolled": true
   },
   "outputs": [],
   "source": [
    "# 엑셀로 저장\n",
    "df1.iloc[50:60].to_excel('result1.xlsx')"
   ]
  },
  {
   "cell_type": "code",
   "execution_count": 138,
   "id": "b08ab28a-d00d-45ac-ae24-b723c42f9c5c",
   "metadata": {},
   "outputs": [],
   "source": [
    "df1.iloc[50:61].to_csv('result1.csv')"
   ]
  },
  {
   "cell_type": "code",
   "execution_count": 139,
   "id": "6b09cdfa-b2e6-45c6-b282-2bb3b95d0408",
   "metadata": {},
   "outputs": [
    {
     "data": {
      "text/plain": [
       "0         96900\n",
       "1        102900\n",
       "2         96900\n",
       "3         66900\n",
       "4         66900\n",
       "          ...  \n",
       "51296     96900\n",
       "51297     96900\n",
       "51298    120900\n",
       "51299     96900\n",
       "51300     96900\n",
       "Name: Amount_Month, Length: 51301, dtype: int64"
      ]
     },
     "execution_count": 139,
     "metadata": {},
     "output_type": "execute_result"
    }
   ],
   "source": [
    "# 열 단위 추출\n",
    "df1['Amount_Month']"
   ]
  },
  {
   "cell_type": "code",
   "execution_count": 140,
   "id": "0276e84a-8d8d-4e4f-89cb-d50880a96e30",
   "metadata": {
    "scrolled": true
   },
   "outputs": [
    {
     "data": {
      "text/html": [
       "<div>\n",
       "<style scoped>\n",
       "    .dataframe tbody tr th:only-of-type {\n",
       "        vertical-align: middle;\n",
       "    }\n",
       "\n",
       "    .dataframe tbody tr th {\n",
       "        vertical-align: top;\n",
       "    }\n",
       "\n",
       "    .dataframe thead th {\n",
       "        text-align: right;\n",
       "    }\n",
       "</style>\n",
       "<table border=\"1\" class=\"dataframe\">\n",
       "  <thead>\n",
       "    <tr style=\"text-align: right;\">\n",
       "      <th></th>\n",
       "      <th>Amount_Month</th>\n",
       "    </tr>\n",
       "  </thead>\n",
       "  <tbody>\n",
       "    <tr>\n",
       "      <th>0</th>\n",
       "      <td>96900</td>\n",
       "    </tr>\n",
       "    <tr>\n",
       "      <th>1</th>\n",
       "      <td>102900</td>\n",
       "    </tr>\n",
       "    <tr>\n",
       "      <th>2</th>\n",
       "      <td>96900</td>\n",
       "    </tr>\n",
       "    <tr>\n",
       "      <th>3</th>\n",
       "      <td>66900</td>\n",
       "    </tr>\n",
       "    <tr>\n",
       "      <th>4</th>\n",
       "      <td>66900</td>\n",
       "    </tr>\n",
       "    <tr>\n",
       "      <th>...</th>\n",
       "      <td>...</td>\n",
       "    </tr>\n",
       "    <tr>\n",
       "      <th>51296</th>\n",
       "      <td>96900</td>\n",
       "    </tr>\n",
       "    <tr>\n",
       "      <th>51297</th>\n",
       "      <td>96900</td>\n",
       "    </tr>\n",
       "    <tr>\n",
       "      <th>51298</th>\n",
       "      <td>120900</td>\n",
       "    </tr>\n",
       "    <tr>\n",
       "      <th>51299</th>\n",
       "      <td>96900</td>\n",
       "    </tr>\n",
       "    <tr>\n",
       "      <th>51300</th>\n",
       "      <td>96900</td>\n",
       "    </tr>\n",
       "  </tbody>\n",
       "</table>\n",
       "<p>51301 rows × 1 columns</p>\n",
       "</div>"
      ],
      "text/plain": [
       "       Amount_Month\n",
       "0             96900\n",
       "1            102900\n",
       "2             96900\n",
       "3             66900\n",
       "4             66900\n",
       "...             ...\n",
       "51296         96900\n",
       "51297         96900\n",
       "51298        120900\n",
       "51299         96900\n",
       "51300         96900\n",
       "\n",
       "[51301 rows x 1 columns]"
      ]
     },
     "execution_count": 140,
     "metadata": {},
     "output_type": "execute_result"
    }
   ],
   "source": [
    "# 이중리스트 사용 시 데이터 프레임 형태로 출력\n",
    "df1[['Amount_Month']]"
   ]
  },
  {
   "cell_type": "code",
   "execution_count": 141,
   "id": "5fd75b0a-2dff-490e-a6ac-4d79f00b0b2f",
   "metadata": {
    "scrolled": true
   },
   "outputs": [
    {
     "data": {
      "text/html": [
       "<div>\n",
       "<style scoped>\n",
       "    .dataframe tbody tr th:only-of-type {\n",
       "        vertical-align: middle;\n",
       "    }\n",
       "\n",
       "    .dataframe tbody tr th {\n",
       "        vertical-align: top;\n",
       "    }\n",
       "\n",
       "    .dataframe thead th {\n",
       "        text-align: right;\n",
       "    }\n",
       "</style>\n",
       "<table border=\"1\" class=\"dataframe\">\n",
       "  <thead>\n",
       "    <tr style=\"text-align: right;\">\n",
       "      <th></th>\n",
       "      <th>Age</th>\n",
       "      <th>Amount_Month</th>\n",
       "    </tr>\n",
       "  </thead>\n",
       "  <tbody>\n",
       "    <tr>\n",
       "      <th>0</th>\n",
       "      <td>42.0</td>\n",
       "      <td>96900</td>\n",
       "    </tr>\n",
       "    <tr>\n",
       "      <th>1</th>\n",
       "      <td>39.0</td>\n",
       "      <td>102900</td>\n",
       "    </tr>\n",
       "    <tr>\n",
       "      <th>2</th>\n",
       "      <td>48.0</td>\n",
       "      <td>96900</td>\n",
       "    </tr>\n",
       "    <tr>\n",
       "      <th>3</th>\n",
       "      <td>39.0</td>\n",
       "      <td>66900</td>\n",
       "    </tr>\n",
       "    <tr>\n",
       "      <th>4</th>\n",
       "      <td>60.0</td>\n",
       "      <td>66900</td>\n",
       "    </tr>\n",
       "    <tr>\n",
       "      <th>...</th>\n",
       "      <td>...</td>\n",
       "      <td>...</td>\n",
       "    </tr>\n",
       "    <tr>\n",
       "      <th>51296</th>\n",
       "      <td>47.0</td>\n",
       "      <td>96900</td>\n",
       "    </tr>\n",
       "    <tr>\n",
       "      <th>51297</th>\n",
       "      <td>42.0</td>\n",
       "      <td>96900</td>\n",
       "    </tr>\n",
       "    <tr>\n",
       "      <th>51298</th>\n",
       "      <td>65.0</td>\n",
       "      <td>120900</td>\n",
       "    </tr>\n",
       "    <tr>\n",
       "      <th>51299</th>\n",
       "      <td>54.0</td>\n",
       "      <td>96900</td>\n",
       "    </tr>\n",
       "    <tr>\n",
       "      <th>51300</th>\n",
       "      <td>53.0</td>\n",
       "      <td>96900</td>\n",
       "    </tr>\n",
       "  </tbody>\n",
       "</table>\n",
       "<p>51301 rows × 2 columns</p>\n",
       "</div>"
      ],
      "text/plain": [
       "        Age  Amount_Month\n",
       "0      42.0         96900\n",
       "1      39.0        102900\n",
       "2      48.0         96900\n",
       "3      39.0         66900\n",
       "4      60.0         66900\n",
       "...     ...           ...\n",
       "51296  47.0         96900\n",
       "51297  42.0         96900\n",
       "51298  65.0        120900\n",
       "51299  54.0         96900\n",
       "51300  53.0         96900\n",
       "\n",
       "[51301 rows x 2 columns]"
      ]
     },
     "execution_count": 141,
     "metadata": {},
     "output_type": "execute_result"
    }
   ],
   "source": [
    "# 여러 컬럼을 출력하는 경우에도 이중 리스트를 사용\n",
    "df1[['Age','Amount_Month']]"
   ]
  },
  {
   "cell_type": "code",
   "execution_count": 143,
   "id": "3e309559-ad9e-4979-804f-e83193b1d409",
   "metadata": {
    "scrolled": true
   },
   "outputs": [],
   "source": [
    "# 열단위 추출 후 csv 파일로 저장\n",
    "df1[['Age','Amount_Month']].head(100).to_csv('age100.csv')"
   ]
  },
  {
   "cell_type": "markdown",
   "id": "d688132e-33de-434f-8f7e-7d536b4d7b5f",
   "metadata": {},
   "source": [
    "# 데이터 정렬\n",
    "- .sort_values(by =)\n",
    "- (,asending = False)"
   ]
  },
  {
   "cell_type": "code",
   "execution_count": 144,
   "id": "c019a9cd-d8f0-4e13-9270-130e48e5cbb9",
   "metadata": {
    "collapsed": true,
    "jupyter": {
     "outputs_hidden": true
    },
    "scrolled": true
   },
   "outputs": [
    {
     "data": {
      "text/html": [
       "<div>\n",
       "<style scoped>\n",
       "    .dataframe tbody tr th:only-of-type {\n",
       "        vertical-align: middle;\n",
       "    }\n",
       "\n",
       "    .dataframe tbody tr th {\n",
       "        vertical-align: top;\n",
       "    }\n",
       "\n",
       "    .dataframe thead th {\n",
       "        text-align: right;\n",
       "    }\n",
       "</style>\n",
       "<table border=\"1\" class=\"dataframe\">\n",
       "  <thead>\n",
       "    <tr style=\"text-align: right;\">\n",
       "      <th></th>\n",
       "      <th>Index</th>\n",
       "      <th>Member_ID</th>\n",
       "      <th>Sales_Type</th>\n",
       "      <th>Contract_Type</th>\n",
       "      <th>Channel</th>\n",
       "      <th>Datetime</th>\n",
       "      <th>Term</th>\n",
       "      <th>Payment_Type</th>\n",
       "      <th>Product_Type</th>\n",
       "      <th>Amount_Month</th>\n",
       "      <th>Customer_Type</th>\n",
       "      <th>Age</th>\n",
       "      <th>Address1</th>\n",
       "      <th>Address2</th>\n",
       "      <th>State</th>\n",
       "      <th>Overdue_count</th>\n",
       "      <th>Overdue_Type</th>\n",
       "      <th>Gender</th>\n",
       "      <th>Credit_Rank</th>\n",
       "      <th>Bank</th>\n",
       "    </tr>\n",
       "  </thead>\n",
       "  <tbody>\n",
       "    <tr>\n",
       "      <th>35768</th>\n",
       "      <td>35770</td>\n",
       "      <td>66784964</td>\n",
       "      <td>멤버십</td>\n",
       "      <td>멤버십2유형</td>\n",
       "      <td>전문매장H</td>\n",
       "      <td>2022-02-06</td>\n",
       "      <td>36</td>\n",
       "      <td>무통장</td>\n",
       "      <td>DES-1</td>\n",
       "      <td>54603</td>\n",
       "      <td>개인</td>\n",
       "      <td>NaN</td>\n",
       "      <td>경기도</td>\n",
       "      <td>경기도</td>\n",
       "      <td>계약확정</td>\n",
       "      <td>0</td>\n",
       "      <td>없음</td>\n",
       "      <td>여자</td>\n",
       "      <td>NaN</td>\n",
       "      <td>NaN</td>\n",
       "    </tr>\n",
       "    <tr>\n",
       "      <th>43022</th>\n",
       "      <td>43024</td>\n",
       "      <td>66792946</td>\n",
       "      <td>멤버십</td>\n",
       "      <td>멤버십2유형</td>\n",
       "      <td>전문매장H</td>\n",
       "      <td>2023-06-30</td>\n",
       "      <td>36</td>\n",
       "      <td>무통장</td>\n",
       "      <td>DES-1</td>\n",
       "      <td>54603</td>\n",
       "      <td>개인</td>\n",
       "      <td>NaN</td>\n",
       "      <td>전라도</td>\n",
       "      <td>광주광역시</td>\n",
       "      <td>계약확정</td>\n",
       "      <td>0</td>\n",
       "      <td>없음</td>\n",
       "      <td>여자</td>\n",
       "      <td>NaN</td>\n",
       "      <td>NaN</td>\n",
       "    </tr>\n",
       "    <tr>\n",
       "      <th>49993</th>\n",
       "      <td>49995</td>\n",
       "      <td>66796388</td>\n",
       "      <td>멤버십</td>\n",
       "      <td>멤버십2유형</td>\n",
       "      <td>전문매장H</td>\n",
       "      <td>2023-03-25</td>\n",
       "      <td>36</td>\n",
       "      <td>무통장</td>\n",
       "      <td>DES-1</td>\n",
       "      <td>54603</td>\n",
       "      <td>개인</td>\n",
       "      <td>NaN</td>\n",
       "      <td>서울특별시</td>\n",
       "      <td>서울특별시</td>\n",
       "      <td>계약확정</td>\n",
       "      <td>0</td>\n",
       "      <td>없음</td>\n",
       "      <td>여자</td>\n",
       "      <td>NaN</td>\n",
       "      <td>NaN</td>\n",
       "    </tr>\n",
       "    <tr>\n",
       "      <th>33803</th>\n",
       "      <td>33805</td>\n",
       "      <td>66783630</td>\n",
       "      <td>멤버십</td>\n",
       "      <td>멤버십2유형</td>\n",
       "      <td>전문매장H</td>\n",
       "      <td>2023-07-28</td>\n",
       "      <td>36</td>\n",
       "      <td>무통장</td>\n",
       "      <td>DES-1</td>\n",
       "      <td>54603</td>\n",
       "      <td>개인</td>\n",
       "      <td>NaN</td>\n",
       "      <td>경기도</td>\n",
       "      <td>인천광역시</td>\n",
       "      <td>계약확정</td>\n",
       "      <td>0</td>\n",
       "      <td>없음</td>\n",
       "      <td>여자</td>\n",
       "      <td>NaN</td>\n",
       "      <td>NaN</td>\n",
       "    </tr>\n",
       "    <tr>\n",
       "      <th>45246</th>\n",
       "      <td>45248</td>\n",
       "      <td>66793779</td>\n",
       "      <td>멤버십</td>\n",
       "      <td>멤버십2유형</td>\n",
       "      <td>전문매장H</td>\n",
       "      <td>2022-07-15</td>\n",
       "      <td>36</td>\n",
       "      <td>무통장</td>\n",
       "      <td>DES-1</td>\n",
       "      <td>54603</td>\n",
       "      <td>개인</td>\n",
       "      <td>NaN</td>\n",
       "      <td>서울특별시</td>\n",
       "      <td>서울특별시</td>\n",
       "      <td>계약확정</td>\n",
       "      <td>0</td>\n",
       "      <td>없음</td>\n",
       "      <td>여자</td>\n",
       "      <td>NaN</td>\n",
       "      <td>NaN</td>\n",
       "    </tr>\n",
       "    <tr>\n",
       "      <th>...</th>\n",
       "      <td>...</td>\n",
       "      <td>...</td>\n",
       "      <td>...</td>\n",
       "      <td>...</td>\n",
       "      <td>...</td>\n",
       "      <td>...</td>\n",
       "      <td>...</td>\n",
       "      <td>...</td>\n",
       "      <td>...</td>\n",
       "      <td>...</td>\n",
       "      <td>...</td>\n",
       "      <td>...</td>\n",
       "      <td>...</td>\n",
       "      <td>...</td>\n",
       "      <td>...</td>\n",
       "      <td>...</td>\n",
       "      <td>...</td>\n",
       "      <td>...</td>\n",
       "      <td>...</td>\n",
       "      <td>...</td>\n",
       "    </tr>\n",
       "    <tr>\n",
       "      <th>5399</th>\n",
       "      <td>5400</td>\n",
       "      <td>25742182</td>\n",
       "      <td>렌탈</td>\n",
       "      <td>프로모션계약</td>\n",
       "      <td>영업방판</td>\n",
       "      <td>2022-05-17</td>\n",
       "      <td>39</td>\n",
       "      <td>CMS</td>\n",
       "      <td>MMC</td>\n",
       "      <td>215700</td>\n",
       "      <td>사업자</td>\n",
       "      <td>NaN</td>\n",
       "      <td>경기도</td>\n",
       "      <td>경기도</td>\n",
       "      <td>계약확정</td>\n",
       "      <td>1</td>\n",
       "      <td>있음</td>\n",
       "      <td>여자</td>\n",
       "      <td>NaN</td>\n",
       "      <td>신한은행</td>\n",
       "    </tr>\n",
       "    <tr>\n",
       "      <th>49896</th>\n",
       "      <td>49898</td>\n",
       "      <td>25731710</td>\n",
       "      <td>렌탈</td>\n",
       "      <td>프로모션계약</td>\n",
       "      <td>영업방판</td>\n",
       "      <td>2022-09-29</td>\n",
       "      <td>39</td>\n",
       "      <td>가상계좌</td>\n",
       "      <td>MMC</td>\n",
       "      <td>215700</td>\n",
       "      <td>사업자</td>\n",
       "      <td>NaN</td>\n",
       "      <td>경기도</td>\n",
       "      <td>경기도</td>\n",
       "      <td>계약확정</td>\n",
       "      <td>0</td>\n",
       "      <td>없음</td>\n",
       "      <td>여자</td>\n",
       "      <td>NaN</td>\n",
       "      <td>NaN</td>\n",
       "    </tr>\n",
       "    <tr>\n",
       "      <th>49897</th>\n",
       "      <td>49899</td>\n",
       "      <td>25731710</td>\n",
       "      <td>렌탈</td>\n",
       "      <td>프로모션계약</td>\n",
       "      <td>영업방판</td>\n",
       "      <td>2022-12-05</td>\n",
       "      <td>39</td>\n",
       "      <td>가상계좌</td>\n",
       "      <td>MMC</td>\n",
       "      <td>215700</td>\n",
       "      <td>사업자</td>\n",
       "      <td>NaN</td>\n",
       "      <td>경기도</td>\n",
       "      <td>경기도</td>\n",
       "      <td>계약확정</td>\n",
       "      <td>0</td>\n",
       "      <td>없음</td>\n",
       "      <td>여자</td>\n",
       "      <td>NaN</td>\n",
       "      <td>NaN</td>\n",
       "    </tr>\n",
       "    <tr>\n",
       "      <th>28147</th>\n",
       "      <td>28149</td>\n",
       "      <td>25704137</td>\n",
       "      <td>렌탈</td>\n",
       "      <td>프로모션계약</td>\n",
       "      <td>전단홍보</td>\n",
       "      <td>2022-07-24</td>\n",
       "      <td>39</td>\n",
       "      <td>CMS</td>\n",
       "      <td>MMC</td>\n",
       "      <td>215700</td>\n",
       "      <td>사업자</td>\n",
       "      <td>NaN</td>\n",
       "      <td>경상도</td>\n",
       "      <td>경상도</td>\n",
       "      <td>계약확정</td>\n",
       "      <td>0</td>\n",
       "      <td>없음</td>\n",
       "      <td>여자</td>\n",
       "      <td>NaN</td>\n",
       "      <td>국민은행</td>\n",
       "    </tr>\n",
       "    <tr>\n",
       "      <th>38497</th>\n",
       "      <td>38499</td>\n",
       "      <td>25734005</td>\n",
       "      <td>렌탈</td>\n",
       "      <td>프로모션계약</td>\n",
       "      <td>영업방판</td>\n",
       "      <td>2022-06-04</td>\n",
       "      <td>39</td>\n",
       "      <td>CMS</td>\n",
       "      <td>MMC</td>\n",
       "      <td>215700</td>\n",
       "      <td>사업자</td>\n",
       "      <td>58.0</td>\n",
       "      <td>전라도</td>\n",
       "      <td>전라도</td>\n",
       "      <td>계약확정</td>\n",
       "      <td>0</td>\n",
       "      <td>없음</td>\n",
       "      <td>남자</td>\n",
       "      <td>1.0</td>\n",
       "      <td>농협중앙회</td>\n",
       "    </tr>\n",
       "  </tbody>\n",
       "</table>\n",
       "<p>51301 rows × 20 columns</p>\n",
       "</div>"
      ],
      "text/plain": [
       "       Index  Member_ID Sales_Type Contract_Type Channel    Datetime  Term  \\\n",
       "35768  35770   66784964        멤버십        멤버십2유형   전문매장H  2022-02-06    36   \n",
       "43022  43024   66792946        멤버십        멤버십2유형   전문매장H  2023-06-30    36   \n",
       "49993  49995   66796388        멤버십        멤버십2유형   전문매장H  2023-03-25    36   \n",
       "33803  33805   66783630        멤버십        멤버십2유형   전문매장H  2023-07-28    36   \n",
       "45246  45248   66793779        멤버십        멤버십2유형   전문매장H  2022-07-15    36   \n",
       "...      ...        ...        ...           ...     ...         ...   ...   \n",
       "5399    5400   25742182         렌탈        프로모션계약    영업방판  2022-05-17    39   \n",
       "49896  49898   25731710         렌탈        프로모션계약    영업방판  2022-09-29    39   \n",
       "49897  49899   25731710         렌탈        프로모션계약    영업방판  2022-12-05    39   \n",
       "28147  28149   25704137         렌탈        프로모션계약    전단홍보  2022-07-24    39   \n",
       "38497  38499   25734005         렌탈        프로모션계약    영업방판  2022-06-04    39   \n",
       "\n",
       "      Payment_Type Product_Type  Amount_Month Customer_Type   Age Address1  \\\n",
       "35768          무통장        DES-1         54603            개인   NaN      경기도   \n",
       "43022          무통장        DES-1         54603            개인   NaN      전라도   \n",
       "49993          무통장        DES-1         54603            개인   NaN    서울특별시   \n",
       "33803          무통장        DES-1         54603            개인   NaN      경기도   \n",
       "45246          무통장        DES-1         54603            개인   NaN    서울특별시   \n",
       "...            ...          ...           ...           ...   ...      ...   \n",
       "5399           CMS          MMC        215700           사업자   NaN      경기도   \n",
       "49896         가상계좌          MMC        215700           사업자   NaN      경기도   \n",
       "49897         가상계좌          MMC        215700           사업자   NaN      경기도   \n",
       "28147          CMS          MMC        215700           사업자   NaN      경상도   \n",
       "38497          CMS          MMC        215700           사업자  58.0      전라도   \n",
       "\n",
       "      Address2 State  Overdue_count Overdue_Type Gender  Credit_Rank   Bank  \n",
       "35768      경기도  계약확정              0           없음     여자          NaN    NaN  \n",
       "43022    광주광역시  계약확정              0           없음     여자          NaN    NaN  \n",
       "49993    서울특별시  계약확정              0           없음     여자          NaN    NaN  \n",
       "33803    인천광역시  계약확정              0           없음     여자          NaN    NaN  \n",
       "45246    서울특별시  계약확정              0           없음     여자          NaN    NaN  \n",
       "...        ...   ...            ...          ...    ...          ...    ...  \n",
       "5399       경기도  계약확정              1           있음     여자          NaN   신한은행  \n",
       "49896      경기도  계약확정              0           없음     여자          NaN    NaN  \n",
       "49897      경기도  계약확정              0           없음     여자          NaN    NaN  \n",
       "28147      경상도  계약확정              0           없음     여자          NaN   국민은행  \n",
       "38497      전라도  계약확정              0           없음     남자          1.0  농협중앙회  \n",
       "\n",
       "[51301 rows x 20 columns]"
      ]
     },
     "execution_count": 144,
     "metadata": {},
     "output_type": "execute_result"
    }
   ],
   "source": [
    "# 디폴트는 오름차순으로 보여준다\n",
    "df1.sort_values(by = 'Amount_Month')"
   ]
  },
  {
   "cell_type": "code",
   "execution_count": 147,
   "id": "bf002b02-098d-4c51-9b7b-589cbb76e31b",
   "metadata": {
    "scrolled": true
   },
   "outputs": [
    {
     "data": {
      "text/html": [
       "<div>\n",
       "<style scoped>\n",
       "    .dataframe tbody tr th:only-of-type {\n",
       "        vertical-align: middle;\n",
       "    }\n",
       "\n",
       "    .dataframe tbody tr th {\n",
       "        vertical-align: top;\n",
       "    }\n",
       "\n",
       "    .dataframe thead th {\n",
       "        text-align: right;\n",
       "    }\n",
       "</style>\n",
       "<table border=\"1\" class=\"dataframe\">\n",
       "  <thead>\n",
       "    <tr style=\"text-align: right;\">\n",
       "      <th></th>\n",
       "      <th>Index</th>\n",
       "      <th>Member_ID</th>\n",
       "      <th>Sales_Type</th>\n",
       "      <th>Contract_Type</th>\n",
       "      <th>Channel</th>\n",
       "      <th>Datetime</th>\n",
       "      <th>Term</th>\n",
       "      <th>Payment_Type</th>\n",
       "      <th>Product_Type</th>\n",
       "      <th>Amount_Month</th>\n",
       "      <th>Customer_Type</th>\n",
       "      <th>Age</th>\n",
       "      <th>Address1</th>\n",
       "      <th>Address2</th>\n",
       "      <th>State</th>\n",
       "      <th>Overdue_count</th>\n",
       "      <th>Overdue_Type</th>\n",
       "      <th>Gender</th>\n",
       "      <th>Credit_Rank</th>\n",
       "      <th>Bank</th>\n",
       "    </tr>\n",
       "  </thead>\n",
       "  <tbody>\n",
       "    <tr>\n",
       "      <th>19773</th>\n",
       "      <td>19775</td>\n",
       "      <td>25740247</td>\n",
       "      <td>렌탈</td>\n",
       "      <td>프로모션계약</td>\n",
       "      <td>전단홍보</td>\n",
       "      <td>2022-11-13</td>\n",
       "      <td>39</td>\n",
       "      <td>가상계좌</td>\n",
       "      <td>MMC</td>\n",
       "      <td>215700</td>\n",
       "      <td>사업자</td>\n",
       "      <td>NaN</td>\n",
       "      <td>경상도</td>\n",
       "      <td>경상도</td>\n",
       "      <td>계약확정</td>\n",
       "      <td>0</td>\n",
       "      <td>없음</td>\n",
       "      <td>여자</td>\n",
       "      <td>NaN</td>\n",
       "      <td>NaN</td>\n",
       "    </tr>\n",
       "    <tr>\n",
       "      <th>28147</th>\n",
       "      <td>28149</td>\n",
       "      <td>25704137</td>\n",
       "      <td>렌탈</td>\n",
       "      <td>프로모션계약</td>\n",
       "      <td>전단홍보</td>\n",
       "      <td>2022-07-24</td>\n",
       "      <td>39</td>\n",
       "      <td>CMS</td>\n",
       "      <td>MMC</td>\n",
       "      <td>215700</td>\n",
       "      <td>사업자</td>\n",
       "      <td>NaN</td>\n",
       "      <td>경상도</td>\n",
       "      <td>경상도</td>\n",
       "      <td>계약확정</td>\n",
       "      <td>0</td>\n",
       "      <td>없음</td>\n",
       "      <td>여자</td>\n",
       "      <td>NaN</td>\n",
       "      <td>국민은행</td>\n",
       "    </tr>\n",
       "    <tr>\n",
       "      <th>19413</th>\n",
       "      <td>19415</td>\n",
       "      <td>25710320</td>\n",
       "      <td>렌탈</td>\n",
       "      <td>프로모션계약</td>\n",
       "      <td>영업방판</td>\n",
       "      <td>2023-01-28</td>\n",
       "      <td>39</td>\n",
       "      <td>CMS</td>\n",
       "      <td>MMC</td>\n",
       "      <td>215700</td>\n",
       "      <td>사업자</td>\n",
       "      <td>NaN</td>\n",
       "      <td>경기도</td>\n",
       "      <td>경기도</td>\n",
       "      <td>계약확정</td>\n",
       "      <td>0</td>\n",
       "      <td>없음</td>\n",
       "      <td>여자</td>\n",
       "      <td>NaN</td>\n",
       "      <td>기업은행</td>\n",
       "    </tr>\n",
       "    <tr>\n",
       "      <th>19412</th>\n",
       "      <td>19414</td>\n",
       "      <td>25710321</td>\n",
       "      <td>렌탈</td>\n",
       "      <td>프로모션계약</td>\n",
       "      <td>영업방판</td>\n",
       "      <td>2022-09-14</td>\n",
       "      <td>39</td>\n",
       "      <td>CMS</td>\n",
       "      <td>MMC</td>\n",
       "      <td>215700</td>\n",
       "      <td>사업자</td>\n",
       "      <td>NaN</td>\n",
       "      <td>경기도</td>\n",
       "      <td>경기도</td>\n",
       "      <td>계약확정</td>\n",
       "      <td>0</td>\n",
       "      <td>없음</td>\n",
       "      <td>여자</td>\n",
       "      <td>NaN</td>\n",
       "      <td>기업은행</td>\n",
       "    </tr>\n",
       "    <tr>\n",
       "      <th>37522</th>\n",
       "      <td>37524</td>\n",
       "      <td>25733781</td>\n",
       "      <td>렌탈</td>\n",
       "      <td>프로모션계약</td>\n",
       "      <td>영업방판</td>\n",
       "      <td>2023-07-02</td>\n",
       "      <td>39</td>\n",
       "      <td>CMS</td>\n",
       "      <td>MMC</td>\n",
       "      <td>215700</td>\n",
       "      <td>사업자</td>\n",
       "      <td>NaN</td>\n",
       "      <td>경기도</td>\n",
       "      <td>경기도</td>\n",
       "      <td>계약확정</td>\n",
       "      <td>0</td>\n",
       "      <td>없음</td>\n",
       "      <td>여자</td>\n",
       "      <td>NaN</td>\n",
       "      <td>기업은행</td>\n",
       "    </tr>\n",
       "    <tr>\n",
       "      <th>...</th>\n",
       "      <td>...</td>\n",
       "      <td>...</td>\n",
       "      <td>...</td>\n",
       "      <td>...</td>\n",
       "      <td>...</td>\n",
       "      <td>...</td>\n",
       "      <td>...</td>\n",
       "      <td>...</td>\n",
       "      <td>...</td>\n",
       "      <td>...</td>\n",
       "      <td>...</td>\n",
       "      <td>...</td>\n",
       "      <td>...</td>\n",
       "      <td>...</td>\n",
       "      <td>...</td>\n",
       "      <td>...</td>\n",
       "      <td>...</td>\n",
       "      <td>...</td>\n",
       "      <td>...</td>\n",
       "      <td>...</td>\n",
       "    </tr>\n",
       "    <tr>\n",
       "      <th>45304</th>\n",
       "      <td>45306</td>\n",
       "      <td>66793756</td>\n",
       "      <td>멤버십</td>\n",
       "      <td>멤버십2유형</td>\n",
       "      <td>전문매장H</td>\n",
       "      <td>2022-10-06</td>\n",
       "      <td>36</td>\n",
       "      <td>무통장</td>\n",
       "      <td>DES-1</td>\n",
       "      <td>54603</td>\n",
       "      <td>개인</td>\n",
       "      <td>NaN</td>\n",
       "      <td>충청도</td>\n",
       "      <td>충청도</td>\n",
       "      <td>계약확정</td>\n",
       "      <td>0</td>\n",
       "      <td>없음</td>\n",
       "      <td>여자</td>\n",
       "      <td>NaN</td>\n",
       "      <td>NaN</td>\n",
       "    </tr>\n",
       "    <tr>\n",
       "      <th>50428</th>\n",
       "      <td>50430</td>\n",
       "      <td>66797402</td>\n",
       "      <td>멤버십</td>\n",
       "      <td>멤버십2유형</td>\n",
       "      <td>전문매장H</td>\n",
       "      <td>2022-12-26</td>\n",
       "      <td>36</td>\n",
       "      <td>무통장</td>\n",
       "      <td>DES-1</td>\n",
       "      <td>54603</td>\n",
       "      <td>개인</td>\n",
       "      <td>NaN</td>\n",
       "      <td>경기도</td>\n",
       "      <td>경기도</td>\n",
       "      <td>계약확정</td>\n",
       "      <td>0</td>\n",
       "      <td>없음</td>\n",
       "      <td>여자</td>\n",
       "      <td>NaN</td>\n",
       "      <td>NaN</td>\n",
       "    </tr>\n",
       "    <tr>\n",
       "      <th>45302</th>\n",
       "      <td>45304</td>\n",
       "      <td>66793342</td>\n",
       "      <td>멤버십</td>\n",
       "      <td>멤버십2유형</td>\n",
       "      <td>전문매장H</td>\n",
       "      <td>2022-04-02</td>\n",
       "      <td>36</td>\n",
       "      <td>무통장</td>\n",
       "      <td>DES-1</td>\n",
       "      <td>54603</td>\n",
       "      <td>개인</td>\n",
       "      <td>NaN</td>\n",
       "      <td>강원도</td>\n",
       "      <td>강원도</td>\n",
       "      <td>계약확정</td>\n",
       "      <td>0</td>\n",
       "      <td>없음</td>\n",
       "      <td>여자</td>\n",
       "      <td>NaN</td>\n",
       "      <td>NaN</td>\n",
       "    </tr>\n",
       "    <tr>\n",
       "      <th>41153</th>\n",
       "      <td>41155</td>\n",
       "      <td>66790864</td>\n",
       "      <td>멤버십</td>\n",
       "      <td>멤버십2유형</td>\n",
       "      <td>전문매장H</td>\n",
       "      <td>2022-02-15</td>\n",
       "      <td>36</td>\n",
       "      <td>무통장</td>\n",
       "      <td>DES-1</td>\n",
       "      <td>54603</td>\n",
       "      <td>개인</td>\n",
       "      <td>NaN</td>\n",
       "      <td>경기도</td>\n",
       "      <td>경기도</td>\n",
       "      <td>계약확정</td>\n",
       "      <td>0</td>\n",
       "      <td>없음</td>\n",
       "      <td>여자</td>\n",
       "      <td>NaN</td>\n",
       "      <td>NaN</td>\n",
       "    </tr>\n",
       "    <tr>\n",
       "      <th>39373</th>\n",
       "      <td>39375</td>\n",
       "      <td>66788207</td>\n",
       "      <td>멤버십</td>\n",
       "      <td>멤버십2유형</td>\n",
       "      <td>전문매장H</td>\n",
       "      <td>2023-05-11</td>\n",
       "      <td>36</td>\n",
       "      <td>무통장</td>\n",
       "      <td>DES-1</td>\n",
       "      <td>54603</td>\n",
       "      <td>개인</td>\n",
       "      <td>NaN</td>\n",
       "      <td>제주도</td>\n",
       "      <td>제주도</td>\n",
       "      <td>계약확정</td>\n",
       "      <td>0</td>\n",
       "      <td>없음</td>\n",
       "      <td>여자</td>\n",
       "      <td>NaN</td>\n",
       "      <td>NaN</td>\n",
       "    </tr>\n",
       "  </tbody>\n",
       "</table>\n",
       "<p>51301 rows × 20 columns</p>\n",
       "</div>"
      ],
      "text/plain": [
       "       Index  Member_ID Sales_Type Contract_Type Channel    Datetime  Term  \\\n",
       "19773  19775   25740247         렌탈        프로모션계약    전단홍보  2022-11-13    39   \n",
       "28147  28149   25704137         렌탈        프로모션계약    전단홍보  2022-07-24    39   \n",
       "19413  19415   25710320         렌탈        프로모션계약    영업방판  2023-01-28    39   \n",
       "19412  19414   25710321         렌탈        프로모션계약    영업방판  2022-09-14    39   \n",
       "37522  37524   25733781         렌탈        프로모션계약    영업방판  2023-07-02    39   \n",
       "...      ...        ...        ...           ...     ...         ...   ...   \n",
       "45304  45306   66793756        멤버십        멤버십2유형   전문매장H  2022-10-06    36   \n",
       "50428  50430   66797402        멤버십        멤버십2유형   전문매장H  2022-12-26    36   \n",
       "45302  45304   66793342        멤버십        멤버십2유형   전문매장H  2022-04-02    36   \n",
       "41153  41155   66790864        멤버십        멤버십2유형   전문매장H  2022-02-15    36   \n",
       "39373  39375   66788207        멤버십        멤버십2유형   전문매장H  2023-05-11    36   \n",
       "\n",
       "      Payment_Type Product_Type  Amount_Month Customer_Type  Age Address1  \\\n",
       "19773         가상계좌          MMC        215700           사업자  NaN      경상도   \n",
       "28147          CMS          MMC        215700           사업자  NaN      경상도   \n",
       "19413          CMS          MMC        215700           사업자  NaN      경기도   \n",
       "19412          CMS          MMC        215700           사업자  NaN      경기도   \n",
       "37522          CMS          MMC        215700           사업자  NaN      경기도   \n",
       "...            ...          ...           ...           ...  ...      ...   \n",
       "45304          무통장        DES-1         54603            개인  NaN      충청도   \n",
       "50428          무통장        DES-1         54603            개인  NaN      경기도   \n",
       "45302          무통장        DES-1         54603            개인  NaN      강원도   \n",
       "41153          무통장        DES-1         54603            개인  NaN      경기도   \n",
       "39373          무통장        DES-1         54603            개인  NaN      제주도   \n",
       "\n",
       "      Address2 State  Overdue_count Overdue_Type Gender  Credit_Rank  Bank  \n",
       "19773      경상도  계약확정              0           없음     여자          NaN   NaN  \n",
       "28147      경상도  계약확정              0           없음     여자          NaN  국민은행  \n",
       "19413      경기도  계약확정              0           없음     여자          NaN  기업은행  \n",
       "19412      경기도  계약확정              0           없음     여자          NaN  기업은행  \n",
       "37522      경기도  계약확정              0           없음     여자          NaN  기업은행  \n",
       "...        ...   ...            ...          ...    ...          ...   ...  \n",
       "45304      충청도  계약확정              0           없음     여자          NaN   NaN  \n",
       "50428      경기도  계약확정              0           없음     여자          NaN   NaN  \n",
       "45302      강원도  계약확정              0           없음     여자          NaN   NaN  \n",
       "41153      경기도  계약확정              0           없음     여자          NaN   NaN  \n",
       "39373      제주도  계약확정              0           없음     여자          NaN   NaN  \n",
       "\n",
       "[51301 rows x 20 columns]"
      ]
     },
     "execution_count": 147,
     "metadata": {},
     "output_type": "execute_result"
    }
   ],
   "source": [
    "# 내림차순\n",
    "# ascending = False\n",
    "df1.sort_values(by='Amount_Month', ascending = False)"
   ]
  },
  {
   "cell_type": "code",
   "execution_count": 151,
   "id": "12e35a9e-4f74-4d78-a4aa-08b36639a9aa",
   "metadata": {
    "scrolled": true
   },
   "outputs": [
    {
     "data": {
      "text/html": [
       "<div>\n",
       "<style scoped>\n",
       "    .dataframe tbody tr th:only-of-type {\n",
       "        vertical-align: middle;\n",
       "    }\n",
       "\n",
       "    .dataframe tbody tr th {\n",
       "        vertical-align: top;\n",
       "    }\n",
       "\n",
       "    .dataframe thead th {\n",
       "        text-align: right;\n",
       "    }\n",
       "</style>\n",
       "<table border=\"1\" class=\"dataframe\">\n",
       "  <thead>\n",
       "    <tr style=\"text-align: right;\">\n",
       "      <th></th>\n",
       "      <th>Amount_Month</th>\n",
       "      <th>Overdue_count</th>\n",
       "    </tr>\n",
       "  </thead>\n",
       "  <tbody>\n",
       "    <tr>\n",
       "      <th>19412</th>\n",
       "      <td>215700</td>\n",
       "      <td>0</td>\n",
       "    </tr>\n",
       "    <tr>\n",
       "      <th>19413</th>\n",
       "      <td>215700</td>\n",
       "      <td>0</td>\n",
       "    </tr>\n",
       "    <tr>\n",
       "      <th>19773</th>\n",
       "      <td>215700</td>\n",
       "      <td>0</td>\n",
       "    </tr>\n",
       "    <tr>\n",
       "      <th>19774</th>\n",
       "      <td>215700</td>\n",
       "      <td>0</td>\n",
       "    </tr>\n",
       "    <tr>\n",
       "      <th>28147</th>\n",
       "      <td>215700</td>\n",
       "      <td>0</td>\n",
       "    </tr>\n",
       "    <tr>\n",
       "      <th>...</th>\n",
       "      <td>...</td>\n",
       "      <td>...</td>\n",
       "    </tr>\n",
       "    <tr>\n",
       "      <th>51277</th>\n",
       "      <td>54603</td>\n",
       "      <td>0</td>\n",
       "    </tr>\n",
       "    <tr>\n",
       "      <th>51280</th>\n",
       "      <td>54603</td>\n",
       "      <td>0</td>\n",
       "    </tr>\n",
       "    <tr>\n",
       "      <th>51284</th>\n",
       "      <td>54603</td>\n",
       "      <td>0</td>\n",
       "    </tr>\n",
       "    <tr>\n",
       "      <th>51290</th>\n",
       "      <td>54603</td>\n",
       "      <td>0</td>\n",
       "    </tr>\n",
       "    <tr>\n",
       "      <th>42145</th>\n",
       "      <td>54603</td>\n",
       "      <td>1</td>\n",
       "    </tr>\n",
       "  </tbody>\n",
       "</table>\n",
       "<p>51301 rows × 2 columns</p>\n",
       "</div>"
      ],
      "text/plain": [
       "       Amount_Month  Overdue_count\n",
       "19412        215700              0\n",
       "19413        215700              0\n",
       "19773        215700              0\n",
       "19774        215700              0\n",
       "28147        215700              0\n",
       "...             ...            ...\n",
       "51277         54603              0\n",
       "51280         54603              0\n",
       "51284         54603              0\n",
       "51290         54603              0\n",
       "42145         54603              1\n",
       "\n",
       "[51301 rows x 2 columns]"
      ]
     },
     "execution_count": 151,
     "metadata": {},
     "output_type": "execute_result"
    }
   ],
   "source": [
    "# 여러 컬럼을 정렬 할 때\n",
    "# amount_month : 월 구매 금액 \n",
    "#overdue_count : 연체횟수\n",
    "# 월 구매금액이 높으면서 , 연체 횟수가 낮은 고객들을 출력\n",
    "df2=df1.sort_values( by=['Amount_Month','Overdue_count'],\n",
    "               ascending= [False , True])\n",
    "df2[['Amount_Month','Overdue_count']]"
   ]
  }
 ],
 "metadata": {
  "kernelspec": {
   "display_name": "Python 3 (ipykernel)",
   "language": "python",
   "name": "python3"
  },
  "language_info": {
   "codemirror_mode": {
    "name": "ipython",
    "version": 3
   },
   "file_extension": ".py",
   "mimetype": "text/x-python",
   "name": "python",
   "nbconvert_exporter": "python",
   "pygments_lexer": "ipython3",
   "version": "3.11.7"
  }
 },
 "nbformat": 4,
 "nbformat_minor": 5
}
