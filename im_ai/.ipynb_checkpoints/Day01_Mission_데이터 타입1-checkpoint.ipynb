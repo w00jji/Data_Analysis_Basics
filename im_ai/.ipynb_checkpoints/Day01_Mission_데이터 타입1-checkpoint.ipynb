{
 "cells": [
  {
   "cell_type": "markdown",
   "id": "54f20eb1-537a-4082-b4f5-530fa063600a",
   "metadata": {},
   "source": [
    "# 미션"
   ]
  },
  {
   "cell_type": "markdown",
   "id": "2fd292e0-976b-4536-a4bf-fcb09bf13529",
   "metadata": {},
   "source": [
    "## 1. 아래에 선언된 문자형 변수를 추출하여, 과목, 이름, 일자를 딕셔너리 형태로 출력하시오.\n",
    "     - dict1 = {'과목':'Python','이름':'홍길동','일자':'20240701'}"
   ]
  },
  {
   "cell_type": "code",
   "execution_count": 50,
   "id": "4a42ef43-e783-40e2-9b8c-635ca260a6db",
   "metadata": {},
   "outputs": [],
   "source": [
    "dict1 = {'과목':'Python','이름':'김우진','일자':'20240617'}\n",
    "list1 = dict1.keys()\n",
    "list2 = dict1.values()"
   ]
  },
  {
   "cell_type": "code",
   "execution_count": 49,
   "id": "9e653b9a-d650-47b9-91a9-0c4b314f2375",
   "metadata": {},
   "outputs": [
    {
     "data": {
      "text/plain": [
       "{'과목': 'Python', '이름': '김우진', '일자': '20240617'}"
      ]
     },
     "execution_count": 49,
     "metadata": {},
     "output_type": "execute_result"
    }
   ],
   "source": [
    "result1=dict(zip(list1,list2))\n",
    "result1"
   ]
  },
  {
   "cell_type": "markdown",
   "id": "cfab729e-8224-462f-a39b-1a7a6760e67c",
   "metadata": {},
   "source": [
    "## 2. 키와 몸무게를 입력받아 BMI 수치를 계산하는 코드를 작성하고, 새로운 값을 입력할 때마다, result_list에 결과를 추가하시오.\n",
    "    - 조건 : 새로운 값을 입력 할 때 마다 기존의 데이터가 삭제되지 않고 추가되어야 합니다.\n",
    "    - 신체질량지수(BMI) = 체중(kg) / [신장(m)]2"
   ]
  },
  {
   "cell_type": "code",
   "execution_count": 54,
   "id": "5de27193-e295-4dca-85ba-3187077c81d9",
   "metadata": {},
   "outputs": [],
   "source": [
    "result_list =[]"
   ]
  },
  {
   "cell_type": "code",
   "execution_count": 56,
   "id": "1dfabf86-97c7-4221-ba72-07a67146c192",
   "metadata": {},
   "outputs": [
    {
     "name": "stdin",
     "output_type": "stream",
     "text": [
      "키를 입력하시오 180\n",
      "몸무게를 입력하시오 90\n"
     ]
    },
    {
     "data": {
      "text/plain": [
       "[0.002777777777777778, 0.002777777777777778]"
      ]
     },
     "execution_count": 56,
     "metadata": {},
     "output_type": "execute_result"
    }
   ],
   "source": [
    "height = float(input('키를 입력하시오'))\n",
    "weight = int(input('몸무게를 입력하시오'))\n",
    "\n",
    "BMI = float(weight/height**2)\n",
    "\n",
    "result_list.append(BMI)\n",
    "result_list"
   ]
  },
  {
   "cell_type": "markdown",
   "id": "9740d835-f42b-4d83-9a82-b5f4a908e1ff",
   "metadata": {},
   "source": [
    "## 3. 아래의 문자열을 리스트로 변환하시오.\n",
    "    - Music is my life -> ['Music','Is','My','Life'] \n",
    "    "
   ]
  },
  {
   "cell_type": "code",
   "execution_count": 60,
   "id": "6e420985-e657-4725-9887-e6851f55ea61",
   "metadata": {},
   "outputs": [
    {
     "name": "stdout",
     "output_type": "stream",
     "text": [
      "['Music', 'is', 'my', 'life']\n"
     ]
    }
   ],
   "source": [
    "str1 = \"Music is my life\"\n",
    "\n",
    "list = str1.split(' ')\n",
    "\n",
    "print(list)"
   ]
  },
  {
   "cell_type": "markdown",
   "id": "a8a0d805-72b8-4b8a-9629-0d90cb63746b",
   "metadata": {},
   "source": [
    "## 4. 아래 선언된 튜플에 80 이라는 값을 추가하여 출력하시오.\n",
    "    - t1 = (13,234,53,22,35) "
   ]
  },
  {
   "cell_type": "code",
   "execution_count": 19,
   "id": "a9fbe7b9-2b47-444d-9867-3e44c0b7bfe5",
   "metadata": {},
   "outputs": [
    {
     "data": {
      "text/plain": [
       "[13, 234, 53, 22, 35]"
      ]
     },
     "execution_count": 19,
     "metadata": {},
     "output_type": "execute_result"
    }
   ],
   "source": [
    "t1 = (13,234,53,22,35) \n",
    "\n",
    "list(t1)\n"
   ]
  },
  {
   "cell_type": "code",
   "execution_count": 21,
   "id": "60f340f8-69b3-402a-a92f-4c69d06dd840",
   "metadata": {},
   "outputs": [
    {
     "data": {
      "text/plain": [
       "(13, 234, 53, 22, 35)"
      ]
     },
     "execution_count": 21,
     "metadata": {},
     "output_type": "execute_result"
    }
   ],
   "source": [
    "t1"
   ]
  },
  {
   "cell_type": "code",
   "execution_count": 23,
   "id": "ba6516d9-6f55-42db-b1aa-bb6097e064ef",
   "metadata": {},
   "outputs": [
    {
     "data": {
      "text/plain": [
       "[13, 234, 53, 22, 35]"
      ]
     },
     "execution_count": 23,
     "metadata": {},
     "output_type": "execute_result"
    }
   ],
   "source": [
    "list2= list(t1)\n",
    "list2"
   ]
  },
  {
   "cell_type": "code",
   "execution_count": 24,
   "id": "00941bd2-fa3d-4561-aaa4-0b2cb412b989",
   "metadata": {},
   "outputs": [],
   "source": [
    "list2.append(80)"
   ]
  },
  {
   "cell_type": "code",
   "execution_count": 25,
   "id": "20bc6695-a5dc-4dd6-9b3c-36b50a502820",
   "metadata": {},
   "outputs": [
    {
     "data": {
      "text/plain": [
       "(13, 234, 53, 22, 35, 80)"
      ]
     },
     "execution_count": 25,
     "metadata": {},
     "output_type": "execute_result"
    }
   ],
   "source": [
    "tuple(list2)"
   ]
  },
  {
   "cell_type": "markdown",
   "id": "f3b0cb83-da09-4a85-9560-356323bdbafe",
   "metadata": {},
   "source": [
    "## 5. 아래의 리스트에서 A 문자를 C 문자로 바꾸어 출력하시오.\n",
    "    - list1 = ['A', 123, 'B', 'D', 'F']\n"
   ]
  },
  {
   "cell_type": "code",
   "execution_count": 28,
   "id": "4b3865f3-11a8-4041-9cc8-6ace987c13ab",
   "metadata": {},
   "outputs": [
    {
     "data": {
      "text/plain": [
       "['C', 123, 'B', 'D', 'F']"
      ]
     },
     "execution_count": 28,
     "metadata": {},
     "output_type": "execute_result"
    }
   ],
   "source": [
    "list1 = ['A', 123, 'B', 'D', 'F']\n",
    "list1[0]='C'\n",
    "list1"
   ]
  },
  {
   "cell_type": "markdown",
   "id": "38e03f1f-a96b-4652-b0f0-962128e6920a",
   "metadata": {},
   "source": [
    "## 6. 아래 두 개의 리스트에서 중복된 값을 제거하여 출력하시오.\n",
    "    - list1 = [1,2,3,4,5,6,7,8,9]\n",
    "    - list2 = [2,4,6,7,8,9]\n",
    "    - 결과 : [1,3,4,5]"
   ]
  },
  {
   "cell_type": "code",
   "execution_count": 32,
   "id": "841520f6-f6f3-4d41-baa5-a2f88dbde3c9",
   "metadata": {},
   "outputs": [
    {
     "data": {
      "text/plain": [
       "{1, 2, 3, 4, 5, 6, 7, 8, 9}"
      ]
     },
     "execution_count": 32,
     "metadata": {},
     "output_type": "execute_result"
    }
   ],
   "source": [
    "list1 = [1,2,3,4,5,6,7,8,9]\n",
    "list2 = [2,4,6,7,8,9]\n",
    "\n",
    "set(list1)\n"
   ]
  },
  {
   "cell_type": "code",
   "execution_count": 33,
   "id": "fcd6b42c-59fc-4ba9-adc9-32ea0271373e",
   "metadata": {},
   "outputs": [
    {
     "data": {
      "text/plain": [
       "{2, 4, 6, 7, 8, 9}"
      ]
     },
     "execution_count": 33,
     "metadata": {},
     "output_type": "execute_result"
    }
   ],
   "source": [
    "set(list2)"
   ]
  },
  {
   "cell_type": "code",
   "execution_count": 37,
   "id": "f49961ef-487e-42e3-bb92-1cc348099728",
   "metadata": {},
   "outputs": [
    {
     "data": {
      "text/plain": [
       "{1, 3, 5}"
      ]
     },
     "execution_count": 37,
     "metadata": {},
     "output_type": "execute_result"
    }
   ],
   "source": [
    "set1= set(list1)\n",
    "set2= set(list2)\n",
    "\n",
    "set1 - set2"
   ]
  }
 ],
 "metadata": {
  "kernelspec": {
   "display_name": "Python 3 (ipykernel)",
   "language": "python",
   "name": "python3"
  },
  "language_info": {
   "codemirror_mode": {
    "name": "ipython",
    "version": 3
   },
   "file_extension": ".py",
   "mimetype": "text/x-python",
   "name": "python",
   "nbconvert_exporter": "python",
   "pygments_lexer": "ipython3",
   "version": "3.11.7"
  }
 },
 "nbformat": 4,
 "nbformat_minor": 5
}
