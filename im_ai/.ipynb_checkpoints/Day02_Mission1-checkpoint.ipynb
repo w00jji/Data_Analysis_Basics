{
 "cells": [
  {
   "cell_type": "markdown",
   "id": "2c27da38-82b0-4c2f-8295-bd6dd1045b8c",
   "metadata": {},
   "source": [
    "# Day2 오전미션\n",
    "- 아래의 미션을 Jupyter Notebook으로 푼 후 [File] - [Download as] - [HTML] 저장 제출\n",
    "- birdland1903@gmail.com\n",
    "- 제출양식 : Day1_Mission_반복문_홍길동\n",
    "- 처음 풀이 시, 30분 정도 구글링이나 Chat GPT 없이 풀이"
   ]
  },
  {
   "cell_type": "markdown",
   "id": "ea9526f3-d858-4e5d-ab3c-fd1ddbad1e0c",
   "metadata": {},
   "source": [
    "## 1. 하나의 리스트를 입력받았을 때, 중복값을 제거하고 출력하는 함수를 만드시오."
   ]
  },
  {
   "cell_type": "code",
   "execution_count": 1,
   "id": "fba400ce-f483-4ce8-ad64-11f00d623530",
   "metadata": {},
   "outputs": [
    {
     "name": "stdin",
     "output_type": "stream",
     "text": [
      " 1 1 1 2 3\n"
     ]
    },
    {
     "name": "stdout",
     "output_type": "stream",
     "text": [
      "원래 리스트: ['1', '1', '1', '2', '3']\n",
      "중복 제거된 리스트: {'1', '3', '2'}\n"
     ]
    }
   ],
   "source": [
    "input_list = input().split()\n",
    "\n",
    "# 리스트 -> set \n",
    "unique_set = set(input_list)\n",
    "\n",
    "print(f'원래 리스트: {input_list}')\n",
    "print(f'중복 제거된 리스트: {unique_set}')"
   ]
  },
  {
   "cell_type": "markdown",
   "id": "df9a4300-2328-4052-8e60-8944eaa86d30",
   "metadata": {},
   "source": [
    "## 2. 입력받은 튜플을 오름차순으로 정렬하는 함수를 만드시오."
   ]
  },
  {
   "cell_type": "code",
   "execution_count": 2,
   "id": "e6ed40c5-a5f1-46f7-9ab2-c0254a0e7ed8",
   "metadata": {},
   "outputs": [
    {
     "name": "stdout",
     "output_type": "stream",
     "text": [
      "원래 튜플: (5, 2, 3, 1, 4)\n",
      "정렬된 튜플: (1, 2, 3, 4, 5)\n"
     ]
    }
   ],
   "source": [
    "input_tuple = (5, 2, 3, 1, 4)\n",
    "    \n",
    "temp_list = list(input_tuple)\n",
    "temp_list.sort()\n",
    "  \n",
    "sorted_tuple = tuple(temp_list)\n",
    "\n",
    "print(f'원래 튜플: {input_tuple}')\n",
    "print(f'정렬된 튜플: {sorted_tuple}')"
   ]
  },
  {
   "cell_type": "markdown",
   "id": "885e83b8-f72a-4932-a7f7-7e3bbaf56383",
   "metadata": {},
   "source": [
    "## 3. 1부터 100까지의 숫자 중 6개의 숫자를 중복없이 임의로 생성하는 함수를 만드시오."
   ]
  },
  {
   "cell_type": "code",
   "execution_count": 3,
   "id": "6208a870-494b-4d39-883f-ac8d84b809c0",
   "metadata": {},
   "outputs": [],
   "source": [
    "import random"
   ]
  },
  {
   "cell_type": "code",
   "execution_count": 4,
   "id": "782d2473-095e-4089-bfbb-27369d43b393",
   "metadata": {},
   "outputs": [
    {
     "data": {
      "text/plain": [
       "[15, 3, 82, 96, 55]"
      ]
     },
     "execution_count": 4,
     "metadata": {},
     "output_type": "execute_result"
    }
   ],
   "source": [
    "[random.randint(0,100) for _ in range(5)]"
   ]
  },
  {
   "cell_type": "markdown",
   "id": "b3c14d38-be5e-42e8-8580-36ff835375a4",
   "metadata": {},
   "source": [
    "## 4. 숫자를 입력받아 짝/홀수를 판별하는 프로그램을 if문 없이 만드시오. "
   ]
  },
  {
   "cell_type": "code",
   "execution_count": 5,
   "id": "2f4d3215-9476-4af0-85a0-d67fa6b6b10d",
   "metadata": {},
   "outputs": [
    {
     "name": "stdin",
     "output_type": "stream",
     "text": [
      "숫자를 입력하시오:  2\n"
     ]
    },
    {
     "name": "stdout",
     "output_type": "stream",
     "text": [
      "입력하신 숫자는 짝수 입니다.\n"
     ]
    }
   ],
   "source": [
    "number = int(input(\"숫자를 입력하시오: \"))\n",
    "t1 = (\"짝수\", \"홀수\")\n",
    "result = t1[number % 2]  # 나머지 0 이면 튜플 0번 인덱스 짝수\n",
    "\n",
    "print(f'입력하신 숫자는 {result} 입니다.')"
   ]
  },
  {
   "cell_type": "markdown",
   "id": "58891279-b2f9-41ff-b4cd-cb1273f2bf9b",
   "metadata": {},
   "source": [
    "## 5. 1부터 30의 숫자 중 홀수만 갖는 리스트를 만드시오"
   ]
  },
  {
   "cell_type": "code",
   "execution_count": 6,
   "id": "8b81d5bd-1f2b-4ba5-9fb0-1f899950a187",
   "metadata": {},
   "outputs": [
    {
     "data": {
      "text/plain": [
       "[1, 3, 5, 7, 9, 11, 13, 15, 17, 19, 21, 23, 25, 27, 29]"
      ]
     },
     "execution_count": 6,
     "metadata": {},
     "output_type": "execute_result"
    }
   ],
   "source": [
    "[x for x in range(1,31) if x % 2 ==1]"
   ]
  },
  {
   "cell_type": "markdown",
   "id": "6d152605-34b6-406a-8eaa-74e34423faa7",
   "metadata": {},
   "source": [
    "## 6. 1부터 30의 숫자 중 3의 배수이지만 4의 배수는 아닌 숫자를 출력하시오"
   ]
  },
  {
   "cell_type": "code",
   "execution_count": 7,
   "id": "2027529d-e933-4ed4-92c1-db2cb7b3d0b1",
   "metadata": {},
   "outputs": [
    {
     "data": {
      "text/plain": [
       "[3, 6, 9, 15, 18, 21, 27, 30]"
      ]
     },
     "execution_count": 7,
     "metadata": {},
     "output_type": "execute_result"
    }
   ],
   "source": [
    "[x for x in range(1,31) if (x % 3 == 0) & (x % 4 != 0)]"
   ]
  },
  {
   "cell_type": "markdown",
   "id": "94cc1735-0737-4444-a958-c2d7ab88b549",
   "metadata": {},
   "source": [
    "## 7. 아래 두 리스트의 중복값을 제거한 후 오름차순으로 하나의 리스트로 출력하는 함수를 만드시오\n",
    "- list1 = [100,200,500,600,700]\n",
    "- list2 = [500,600,700,800,900]"
   ]
  },
  {
   "cell_type": "code",
   "execution_count": 18,
   "id": "406e4b45-5d01-4f8e-8708-12387223f680",
   "metadata": {},
   "outputs": [
    {
     "data": {
      "text/plain": [
       "[100, 200, 500, 600, 700, 800, 900]"
      ]
     },
     "execution_count": 18,
     "metadata": {},
     "output_type": "execute_result"
    }
   ],
   "source": [
    "list1 = [100, 200, 500, 600, 700]\n",
    "list2 = [500, 600, 700, 800, 900]\n",
    "\n",
    "def marge(list1,list2):\n",
    "    set1 = set(list1)\n",
    "    set2 = set(list2)\n",
    "    set3 = set1 ^ set2  \n",
    "    list3 = list(set3)  \n",
    "    result=sorted(list3)\n",
    "    return result\n",
    "result"
   ]
  },
  {
   "cell_type": "code",
   "execution_count": 20,
   "id": "f647c8b1-b3f5-4ea7-b66f-30b48956a9a8",
   "metadata": {},
   "outputs": [
    {
     "data": {
      "text/plain": [
       "[100, 200, 800, 900]"
      ]
     },
     "execution_count": 20,
     "metadata": {},
     "output_type": "execute_result"
    }
   ],
   "source": [
    "list1 = [100, 200, 500, 600, 700]\n",
    "list2 = [500, 600, 700, 800, 900]\n",
    "set1 = set(list1)\n",
    "set2 = set(list2)\n",
    "set3 = set1 ^ set2  \n",
    "list3 = list(set3)  \n",
    "result=sorted(list3)\n",
    "\n",
    "result"
   ]
  },
  {
   "cell_type": "markdown",
   "id": "c1d4e7d8-a798-4099-ae6e-dbc997b79f1a",
   "metadata": {},
   "source": [
    "## 8. 1~50 사이의 숫자를 랜덤으로 생성한 후, 숫자를 맞출 때까지 값을 입력해서 맞추는 프로그램을 생성. (업다운 게임)\n",
    "\n",
    "- 숙련자 : 시도한 횟수도 표시"
   ]
  },
  {
   "cell_type": "code",
   "execution_count": 10,
   "id": "f8fc5f8b-eabd-4e05-bf93-10f4b6083729",
   "metadata": {},
   "outputs": [],
   "source": [
    "import random"
   ]
  },
  {
   "cell_type": "code",
   "execution_count": 19,
   "id": "59844580-f70a-4e69-a4df-44d88c3b18ac",
   "metadata": {},
   "outputs": [
    {
     "name": "stdout",
     "output_type": "stream",
     "text": [
      "1부터 50 사이의 숫자를 맞춰보세요!\n"
     ]
    },
    {
     "name": "stdin",
     "output_type": "stream",
     "text": [
      "숫자를 입력하세요:  10\n"
     ]
    },
    {
     "name": "stdout",
     "output_type": "stream",
     "text": [
      "너무 큽니다. 더 작은 수를 입력하세요.\n"
     ]
    },
    {
     "name": "stdin",
     "output_type": "stream",
     "text": [
      "숫자를 입력하세요:  23\n"
     ]
    },
    {
     "name": "stdout",
     "output_type": "stream",
     "text": [
      "너무 큽니다. 더 작은 수를 입력하세요.\n"
     ]
    },
    {
     "name": "stdin",
     "output_type": "stream",
     "text": [
      "숫자를 입력하세요:  2\n"
     ]
    },
    {
     "name": "stdout",
     "output_type": "stream",
     "text": [
      "정답입니다! 숫자 2를 맞추셨습니다.\n"
     ]
    }
   ],
   "source": [
    "def guess_number_game():\n",
    "    secret_number = random.randint(1, 50)\n",
    "    print(\"1부터 50 사이의 숫자를 맞춰보세요!\")\n",
    "\n",
    "    while True:\n",
    "        user_guess = int(input(\"숫자를 입력하세요: \"))\n",
    "\n",
    "        # 입력한 숫자와 비교하여 힌트 제공\n",
    "        if user_guess < secret_number:\n",
    "            print(\"너무 작습니다. 더 큰 수를 입력하세요.\")\n",
    "        elif user_guess > secret_number:\n",
    "            print(\"너무 큽니다. 더 작은 수를 입력하세요.\")\n",
    "        else:\n",
    "            # 숫자를 맞춘 경우\n",
    "            print(f\"정답입니다! 숫자 {secret_number}를 맞추셨습니다.\")\n",
    "            break\n",
    "\n",
    "\n",
    "guess_number_game()\n"
   ]
  }
 ],
 "metadata": {
  "kernelspec": {
   "display_name": "Python 3 (ipykernel)",
   "language": "python",
   "name": "python3"
  },
  "language_info": {
   "codemirror_mode": {
    "name": "ipython",
    "version": 3
   },
   "file_extension": ".py",
   "mimetype": "text/x-python",
   "name": "python",
   "nbconvert_exporter": "python",
   "pygments_lexer": "ipython3",
   "version": "3.11.7"
  }
 },
 "nbformat": 4,
 "nbformat_minor": 5
}
