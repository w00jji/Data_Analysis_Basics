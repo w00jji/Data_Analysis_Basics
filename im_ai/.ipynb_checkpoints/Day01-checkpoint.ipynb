{
 "cells": [
  {
   "cell_type": "markdown",
   "id": "b2e54193-4a70-463a-b866-7b5751307d97",
   "metadata": {},
   "source": [
    "# Jupyter Notebook 사용법\n",
    "- cell : 코드나 마크다운을 작성하는 하나의 상자\n",
    "- markdown mode : 마크다운이란 마크업 언어의 일종이다\n",
    "\n",
    "- [Shift]+[Enter] :셀 실행\n",
    "- [Alt] + [Enter] : 하단에 셀을 하나 추가하며 실행\n",
    "- [Esc] + [M] : 마크다운모드로 변경\n",
    "- [Esc] + [R] : Raw 모드로 변경"
   ]
  },
  {
   "cell_type": "markdown",
   "id": "9c27b580-8ac5-4613-9fa0-2cf237cd0614",
   "metadata": {},
   "source": [
    "## 단축키\n",
    "\n",
    "- [Esc] : command mode\n",
    "- [A] : above 상단에 셀 추가\n",
    "- [B] : below 하단에 셀 추가\n",
    "- [X ] : 잘라내기\n",
    "- [v] : 붙여넣기\n",
    "- [DD] : 삭제\n",
    "- [Z] : 실행취소\n",
    "\n",
    "- [Ctrl] + [S] : 저장\n",
    "- [Ctrl] + [/] : 주석모드\n",
    "- "
   ]
  },
  {
   "cell_type": "markdown",
   "id": "413d0023-3ee2-4a50-8b61-50d661f134a1",
   "metadata": {},
   "source": [
    "# 파이썬 기초 문법"
   ]
  },
  {
   "cell_type": "code",
   "execution_count": 1,
   "id": "5c6d0d46-db22-485b-bf77-911a62fb7032",
   "metadata": {},
   "outputs": [
    {
     "data": {
      "text/plain": [
       "300"
      ]
     },
     "execution_count": 1,
     "metadata": {},
     "output_type": "execute_result"
    }
   ],
   "source": [
    "data = 300\n",
    "data"
   ]
  },
  {
   "cell_type": "markdown",
   "id": "ab5be09d-3b3b-4448-b341-b4f0b92637de",
   "metadata": {},
   "source": [
    "# 데이터 타입\n",
    "- 데이터 타입에 따라서 분석하는 방법이 달라짐\n",
    "- 숫자형 : int (정수형) / float (실수형)\n",
    "- 문자형 : str (문자열) / object (범주형)\n",
    "- 논리형 : bool True / False"
   ]
  },
  {
   "cell_type": "code",
   "execution_count": 2,
   "id": "3a0b569e-a83e-4ebc-af33-7f062d30e24c",
   "metadata": {},
   "outputs": [
    {
     "data": {
      "text/plain": [
       "3"
      ]
     },
     "execution_count": 2,
     "metadata": {},
     "output_type": "execute_result"
    }
   ],
   "source": [
    "int(3.1)"
   ]
  },
  {
   "cell_type": "code",
   "execution_count": 3,
   "id": "5570c4e5-a202-4e9a-8a02-6ebad6d74c09",
   "metadata": {},
   "outputs": [],
   "source": [
    "int1 =3"
   ]
  },
  {
   "cell_type": "code",
   "execution_count": 4,
   "id": "38ee1bc8-cec4-4486-b075-5d8a589c3a3e",
   "metadata": {},
   "outputs": [
    {
     "data": {
      "text/plain": [
       "int"
      ]
     },
     "execution_count": 4,
     "metadata": {},
     "output_type": "execute_result"
    }
   ],
   "source": [
    "type(int1) #type() : 데이터 타입을 확인할 수 있는 함수"
   ]
  },
  {
   "cell_type": "code",
   "execution_count": 5,
   "id": "132407ce-2b1d-44b5-86a4-566157f8a83f",
   "metadata": {},
   "outputs": [
    {
     "data": {
      "text/plain": [
       "bool"
      ]
     },
     "execution_count": 5,
     "metadata": {},
     "output_type": "execute_result"
    }
   ],
   "source": [
    "bool1 = True\n",
    "bool"
   ]
  },
  {
   "cell_type": "code",
   "execution_count": 6,
   "id": "1a7d78ef-f68b-45f5-a393-57fa8f6eb61c",
   "metadata": {},
   "outputs": [
    {
     "data": {
      "text/plain": [
       "False"
      ]
     },
     "execution_count": 6,
     "metadata": {},
     "output_type": "execute_result"
    }
   ],
   "source": [
    "True & False # And"
   ]
  },
  {
   "cell_type": "code",
   "execution_count": 7,
   "id": "e65c1889-553a-4a05-bd0b-d94d11d87280",
   "metadata": {},
   "outputs": [
    {
     "data": {
      "text/plain": [
       "False"
      ]
     },
     "execution_count": 7,
     "metadata": {},
     "output_type": "execute_result"
    }
   ],
   "source": [
    "True and False"
   ]
  },
  {
   "cell_type": "code",
   "execution_count": 8,
   "id": "2ced2601-cf7a-43c4-9426-496ba4fee1a5",
   "metadata": {},
   "outputs": [
    {
     "data": {
      "text/plain": [
       "True"
      ]
     },
     "execution_count": 8,
     "metadata": {},
     "output_type": "execute_result"
    }
   ],
   "source": [
    "True | False"
   ]
  },
  {
   "cell_type": "markdown",
   "id": "4c7d474b-5dcb-48c6-a318-94a03fb6aa96",
   "metadata": {},
   "source": [
    "## 연산\n",
    "\n",
    "- 데이터 타입에 따라 연산 방법이 달라짐"
   ]
  },
  {
   "cell_type": "code",
   "execution_count": 9,
   "id": "822cc08e-28fa-4aae-8dd8-33b417bc7085",
   "metadata": {},
   "outputs": [
    {
     "data": {
      "text/plain": [
       "25"
      ]
     },
     "execution_count": 9,
     "metadata": {},
     "output_type": "execute_result"
    }
   ],
   "source": [
    "data1 = 5\n",
    "data2 =3\n",
    "\n",
    "data1 - data2\n",
    "data1 * data2\n",
    "data1 / data2\n",
    "data1**2"
   ]
  },
  {
   "cell_type": "code",
   "execution_count": 10,
   "id": "6cde8a8c-3982-40bc-b2da-433f90efe4ec",
   "metadata": {},
   "outputs": [
    {
     "data": {
      "text/plain": [
       "2"
      ]
     },
     "execution_count": 10,
     "metadata": {},
     "output_type": "execute_result"
    }
   ],
   "source": [
    "data1 // 2 # 2로 나눈 몫"
   ]
  },
  {
   "cell_type": "code",
   "execution_count": 11,
   "id": "16a830b9-f039-4a13-a2c4-32e886f998ba",
   "metadata": {},
   "outputs": [
    {
     "data": {
      "text/plain": [
       "1"
      ]
     },
     "execution_count": 11,
     "metadata": {},
     "output_type": "execute_result"
    }
   ],
   "source": [
    "data1 % 2 #2로 나눈 나머지"
   ]
  },
  {
   "cell_type": "code",
   "execution_count": 12,
   "id": "5a95093e-68e0-4a08-a3b2-24d4c422b48c",
   "metadata": {},
   "outputs": [
    {
     "data": {
      "text/plain": [
       "'pythondata'"
      ]
     },
     "execution_count": 12,
     "metadata": {},
     "output_type": "execute_result"
    }
   ],
   "source": [
    "# 문자 데이터 연산\n",
    "data3 = 'python'\n",
    "data4 = 'data'\n",
    "\n",
    "data3 + data4"
   ]
  },
  {
   "cell_type": "code",
   "execution_count": 13,
   "id": "66eb3c70-f378-4949-a0de-b5d5aba60cd0",
   "metadata": {},
   "outputs": [
    {
     "data": {
      "text/plain": [
       "'python data'"
      ]
     },
     "execution_count": 13,
     "metadata": {},
     "output_type": "execute_result"
    }
   ],
   "source": [
    "data3 + ' ' + data4"
   ]
  },
  {
   "cell_type": "code",
   "execution_count": 14,
   "id": "555ec333-83d3-47d3-9504-8f40e3854cad",
   "metadata": {},
   "outputs": [
    {
     "data": {
      "text/plain": [
       "'pythonpythonpython'"
      ]
     },
     "execution_count": 14,
     "metadata": {},
     "output_type": "execute_result"
    }
   ],
   "source": [
    "data3 *3"
   ]
  },
  {
   "cell_type": "code",
   "execution_count": 15,
   "id": "be218c26-471c-4cc9-b5b2-0ff9c348d19e",
   "metadata": {},
   "outputs": [
    {
     "data": {
      "text/plain": [
       "True"
      ]
     },
     "execution_count": 15,
     "metadata": {},
     "output_type": "execute_result"
    }
   ],
   "source": [
    "data3 > data4 # 알파벳 순서상 뒤에 위치한 값이 더 큼"
   ]
  },
  {
   "cell_type": "code",
   "execution_count": 16,
   "id": "497cab21-0bb8-4e58-8025-3cde03e82d85",
   "metadata": {},
   "outputs": [
    {
     "name": "stdout",
     "output_type": "stream",
     "text": [
      "33\n"
     ]
    }
   ],
   "source": [
    "print(33) # "
   ]
  },
  {
   "cell_type": "code",
   "execution_count": 17,
   "id": "025a1154-6593-428b-aff8-9d50cbe1dc7e",
   "metadata": {},
   "outputs": [
    {
     "name": "stdout",
     "output_type": "stream",
     "text": [
      "data\n"
     ]
    },
    {
     "data": {
      "text/plain": [
       "'python'"
      ]
     },
     "execution_count": 17,
     "metadata": {},
     "output_type": "execute_result"
    }
   ],
   "source": [
    "print(data4)\n",
    "data3 # print 함수를 사용하여 둘 다 확인할 수 있다"
   ]
  },
  {
   "cell_type": "code",
   "execution_count": 18,
   "id": "29648c37-b09e-43d9-95a1-e44941abce44",
   "metadata": {},
   "outputs": [
    {
     "data": {
      "text/plain": [
       "'가나다양산'"
      ]
     },
     "execution_count": 18,
     "metadata": {},
     "output_type": "execute_result"
    }
   ],
   "source": [
    "data5 = '가나다'\n",
    "data6 = '양산'\n",
    "\n",
    "data5+ data6"
   ]
  },
  {
   "cell_type": "markdown",
   "id": "3736ca2e-27a2-4862-a921-e9b5f03ad1b6",
   "metadata": {},
   "source": [
    "## 논리형 연산"
   ]
  },
  {
   "cell_type": "code",
   "execution_count": 19,
   "id": "b80ce53a-ef58-42f7-b8d9-1e466d0e24c3",
   "metadata": {},
   "outputs": [
    {
     "data": {
      "text/plain": [
       "False"
      ]
     },
     "execution_count": 19,
     "metadata": {},
     "output_type": "execute_result"
    }
   ],
   "source": [
    "3==4 # 등호를 두개 사용하여 비교하는 연산"
   ]
  },
  {
   "cell_type": "code",
   "execution_count": 20,
   "id": "16f49005-34e9-4493-bb25-dad47865111d",
   "metadata": {},
   "outputs": [
    {
     "data": {
      "text/plain": [
       "False"
      ]
     },
     "execution_count": 20,
     "metadata": {},
     "output_type": "execute_result"
    }
   ],
   "source": [
    "data6 =13\n",
    "data7 =14\n",
    "\n",
    "data6 > data7"
   ]
  },
  {
   "cell_type": "code",
   "execution_count": 21,
   "id": "c130a330-1ae9-4eaf-ae95-a9d051d09506",
   "metadata": {},
   "outputs": [
    {
     "data": {
      "text/plain": [
       "False"
      ]
     },
     "execution_count": 21,
     "metadata": {},
     "output_type": "execute_result"
    }
   ],
   "source": [
    "data6>=data7 # 크거나 같냐"
   ]
  },
  {
   "cell_type": "markdown",
   "id": "884a4093-e26d-417d-a944-8f3432f8c606",
   "metadata": {},
   "source": [
    "# 자료구조\n",
    "\n",
    "- 데이터를 담는 폴더의 형식\n",
    "- List []\n",
    "- Tuple()\n",
    "- Set {}\n",
    "- Dictionary {'key1' : 'value1',}"
   ]
  },
  {
   "cell_type": "markdown",
   "id": "a38ce66e-8fbc-4b48-bbad-c9ba1d029215",
   "metadata": {},
   "source": [
    "# 리스트\n",
    "\n",
    "- [대 괄호] 로 구성\n",
    "- 데이터의 순서가 존재\n",
    "- 중복값 허용\n",
    "- 데이터의 수정 가능"
   ]
  },
  {
   "cell_type": "code",
   "execution_count": 22,
   "id": "f8d618d3-232c-464e-b803-b0c8392d8326",
   "metadata": {},
   "outputs": [
    {
     "data": {
      "text/plain": [
       "[1, 2, 3, 4, 5]"
      ]
     },
     "execution_count": 22,
     "metadata": {},
     "output_type": "execute_result"
    }
   ],
   "source": [
    "list1 = [1,2,3,4,5]\n",
    "list1"
   ]
  },
  {
   "cell_type": "code",
   "execution_count": 23,
   "id": "95bcd53e-142d-4928-9365-52dbb0e76ed7",
   "metadata": {},
   "outputs": [
    {
     "data": {
      "text/plain": [
       "list"
      ]
     },
     "execution_count": 23,
     "metadata": {},
     "output_type": "execute_result"
    }
   ],
   "source": [
    "type(list1)"
   ]
  },
  {
   "cell_type": "code",
   "execution_count": 24,
   "id": "7b5d7344-594d-4a50-b8bc-afe9243d3fa1",
   "metadata": {},
   "outputs": [
    {
     "data": {
      "text/plain": [
       "[1, 4, 2, 5]"
      ]
     },
     "execution_count": 24,
     "metadata": {},
     "output_type": "execute_result"
    }
   ],
   "source": [
    "list2 = [1,4,2,5]\n",
    "list2 # 데이터 순서가 있어서 오름차순/ 내림 차순 하지 않음"
   ]
  },
  {
   "cell_type": "code",
   "execution_count": 25,
   "id": "17de8166-2b1c-4bc8-90cd-d74bab406911",
   "metadata": {},
   "outputs": [
    {
     "data": {
      "text/plain": [
       "['a', 'b', 'c', 1, 2, 3]"
      ]
     },
     "execution_count": 25,
     "metadata": {},
     "output_type": "execute_result"
    }
   ],
   "source": [
    "list3 = ['a','b','c',1,2,3]\n",
    "list3 # 여러 종류의 데이터 사용 가능"
   ]
  },
  {
   "cell_type": "code",
   "execution_count": 26,
   "id": "7e0f2867-c3ea-4052-901e-8872492439b1",
   "metadata": {},
   "outputs": [
    {
     "data": {
      "text/plain": [
       "'a'"
      ]
     },
     "execution_count": 26,
     "metadata": {},
     "output_type": "execute_result"
    }
   ],
   "source": [
    "# 인덱싱\n",
    "list3[0]"
   ]
  },
  {
   "cell_type": "code",
   "execution_count": 27,
   "id": "e5d23c43-5871-4169-ad75-c6f2687f8311",
   "metadata": {},
   "outputs": [
    {
     "data": {
      "text/plain": [
       "3"
      ]
     },
     "execution_count": 27,
     "metadata": {},
     "output_type": "execute_result"
    }
   ],
   "source": [
    "list3[-1]"
   ]
  },
  {
   "cell_type": "code",
   "execution_count": 28,
   "id": "9aba740a-fdf4-4d1d-80b6-dac9b62d8226",
   "metadata": {},
   "outputs": [
    {
     "data": {
      "text/plain": [
       "['a', 'b']"
      ]
     },
     "execution_count": 28,
     "metadata": {},
     "output_type": "execute_result"
    }
   ],
   "source": [
    "# 슬라이싱 \n",
    "#[n,m] : n부터 m-1까지 호출 \n",
    "list3[0:2]"
   ]
  },
  {
   "cell_type": "code",
   "execution_count": 29,
   "id": "2c05a144-81eb-4d40-8b1b-ae28928b3d44",
   "metadata": {},
   "outputs": [],
   "source": [
    "# 데이터 추가 / 변경 / 삭제\n",
    "list5 = ['국어','영어','수학']"
   ]
  },
  {
   "cell_type": "code",
   "execution_count": 30,
   "id": "880777d1-b1c2-4387-95d5-8354db87a420",
   "metadata": {},
   "outputs": [
    {
     "data": {
      "text/plain": [
       "['국어', '영어', '수학', '체육']"
      ]
     },
     "execution_count": 30,
     "metadata": {},
     "output_type": "execute_result"
    }
   ],
   "source": [
    "list5.append('체육')\n",
    "list5"
   ]
  },
  {
   "cell_type": "code",
   "execution_count": 31,
   "id": "0ea8af98-e3b9-4a3c-a6f6-a75f99ff03f8",
   "metadata": {},
   "outputs": [
    {
     "data": {
      "text/plain": [
       "['과학', '국어', '영어', '수학', '체육']"
      ]
     },
     "execution_count": 31,
     "metadata": {},
     "output_type": "execute_result"
    }
   ],
   "source": [
    "list5.insert(0,'과학')\n",
    "\n",
    "list5"
   ]
  },
  {
   "cell_type": "code",
   "execution_count": 32,
   "id": "d5fa9ddd-f760-4436-8004-69d73113aa85",
   "metadata": {},
   "outputs": [
    {
     "data": {
      "text/plain": [
       "['과학', '국어', '영어', '체육']"
      ]
     },
     "execution_count": 32,
     "metadata": {},
     "output_type": "execute_result"
    }
   ],
   "source": [
    "list5.remove('수학')\n",
    "list5"
   ]
  },
  {
   "cell_type": "markdown",
   "id": "334981f7-f4cd-41aa-8150-a64c7ced1c1e",
   "metadata": {},
   "source": [
    "# Tuple 튜플\n",
    "- (소 괄 호)로 구성\n",
    "- 중복값을 허용\n",
    "- 데이터 수정 불가"
   ]
  },
  {
   "cell_type": "code",
   "execution_count": 33,
   "id": "f363df48-658d-430a-85ba-af4888b16ed5",
   "metadata": {},
   "outputs": [],
   "source": [
    "tuple1 = (1,2,3)"
   ]
  },
  {
   "cell_type": "code",
   "execution_count": 34,
   "id": "35a091b2-93e7-47f1-97db-b7b44a8154e9",
   "metadata": {},
   "outputs": [
    {
     "data": {
      "text/plain": [
       "tuple"
      ]
     },
     "execution_count": 34,
     "metadata": {},
     "output_type": "execute_result"
    }
   ],
   "source": [
    "type(tuple1)"
   ]
  },
  {
   "cell_type": "code",
   "execution_count": 35,
   "id": "e9d94948-baca-4466-b5a7-0cb7e9f8ef0b",
   "metadata": {},
   "outputs": [
    {
     "data": {
      "text/plain": [
       "[1, 2, 3]"
      ]
     },
     "execution_count": 35,
     "metadata": {},
     "output_type": "execute_result"
    }
   ],
   "source": [
    "list(tuple1)"
   ]
  },
  {
   "cell_type": "code",
   "execution_count": 36,
   "id": "e13b3bc2-cc77-4f6f-ae6b-8273480ccdcf",
   "metadata": {},
   "outputs": [
    {
     "data": {
      "text/plain": [
       "(1, 2, 3)"
      ]
     },
     "execution_count": 36,
     "metadata": {},
     "output_type": "execute_result"
    }
   ],
   "source": [
    "tuple1 # list로 변환해주기 위해 새로운 변수로 지정해야함"
   ]
  },
  {
   "cell_type": "code",
   "execution_count": 37,
   "id": "6321a003-a1fe-4428-a922-cbbcaf7517c1",
   "metadata": {},
   "outputs": [
    {
     "data": {
      "text/plain": [
       "[1, 2, 3]"
      ]
     },
     "execution_count": 37,
     "metadata": {},
     "output_type": "execute_result"
    }
   ],
   "source": [
    "list2= list(tuple1)\n",
    "list2"
   ]
  },
  {
   "cell_type": "code",
   "execution_count": 38,
   "id": "03f854cb-c733-44de-b01e-6a731e1d03ff",
   "metadata": {},
   "outputs": [
    {
     "data": {
      "text/plain": [
       "[0, 2, 3]"
      ]
     },
     "execution_count": 38,
     "metadata": {},
     "output_type": "execute_result"
    }
   ],
   "source": [
    "list2[0]=0\n",
    "list2"
   ]
  },
  {
   "cell_type": "code",
   "execution_count": 39,
   "id": "2881b881-0324-4f14-b6a4-3151fba1fa33",
   "metadata": {},
   "outputs": [
    {
     "data": {
      "text/plain": [
       "(0, 2, 3)"
      ]
     },
     "execution_count": 39,
     "metadata": {},
     "output_type": "execute_result"
    }
   ],
   "source": [
    "tuple(list2)"
   ]
  },
  {
   "cell_type": "markdown",
   "id": "9f242ff7-ad54-42fe-a5ff-36d172ca2329",
   "metadata": {},
   "source": [
    "# Set 세트\n",
    "- {중 괄 호 } 로 구성\n",
    "- 데이터 수정 가능\n",
    "- 집합 연산이 가능"
   ]
  },
  {
   "cell_type": "code",
   "execution_count": 40,
   "id": "3b1e6b79-dbc3-426b-8caa-4ad3d6a32f17",
   "metadata": {},
   "outputs": [
    {
     "data": {
      "text/plain": [
       "{1, 2, 3, 4, 5}"
      ]
     },
     "execution_count": 40,
     "metadata": {},
     "output_type": "execute_result"
    }
   ],
   "source": [
    "set1 = {5,1,1,2,3,4,}\n",
    "set1 # 중복 안됨 , 순서 없음\n"
   ]
  },
  {
   "cell_type": "code",
   "execution_count": 41,
   "id": "5f270ebe-d440-43ae-a5c7-9a4ec1a2ccf5",
   "metadata": {},
   "outputs": [
    {
     "data": {
      "text/plain": [
       "5"
      ]
     },
     "execution_count": 41,
     "metadata": {},
     "output_type": "execute_result"
    }
   ],
   "source": [
    "len(set1) #length : 몇개의 데이터가 있는지 확인하는 함수"
   ]
  },
  {
   "cell_type": "code",
   "execution_count": 42,
   "id": "b2b63975-1914-46bd-b51b-8616cefb181f",
   "metadata": {},
   "outputs": [
    {
     "data": {
      "text/plain": [
       "{4, 6}"
      ]
     },
     "execution_count": 42,
     "metadata": {},
     "output_type": "execute_result"
    }
   ],
   "source": [
    "# 집합 연산\n",
    "set2 = {2,4,5,6,7}\n",
    "set3 = {1,3,4,6,8}\n",
    "\n",
    "# 교집합\n",
    "set2 & set3"
   ]
  },
  {
   "cell_type": "code",
   "execution_count": 43,
   "id": "f907061d-f77d-421a-97c2-5b63d107b54a",
   "metadata": {},
   "outputs": [
    {
     "data": {
      "text/plain": [
       "{1, 2, 3, 4, 5, 6, 7, 8}"
      ]
     },
     "execution_count": 43,
     "metadata": {},
     "output_type": "execute_result"
    }
   ],
   "source": [
    "# 합집합 \n",
    "set2 | set3"
   ]
  },
  {
   "cell_type": "code",
   "execution_count": 44,
   "id": "8a6cb850-ea8a-4b75-a23f-738bac0a97e6",
   "metadata": {},
   "outputs": [
    {
     "data": {
      "text/plain": [
       "{2, 5, 7}"
      ]
     },
     "execution_count": 44,
     "metadata": {},
     "output_type": "execute_result"
    }
   ],
   "source": [
    "set2 - set3 # 차집합"
   ]
  },
  {
   "cell_type": "code",
   "execution_count": 45,
   "id": "8c7a39a2-2169-42f3-83b9-b181c2e633f0",
   "metadata": {},
   "outputs": [
    {
     "data": {
      "text/plain": [
       "{1, 2, 3, 5, 7, 8}"
      ]
     },
     "execution_count": 45,
     "metadata": {},
     "output_type": "execute_result"
    }
   ],
   "source": [
    "set2 ^ set3 #대상 차집합"
   ]
  },
  {
   "cell_type": "markdown",
   "id": "67b0db35-8553-4ce0-9985-cc1e84fba854",
   "metadata": {},
   "source": [
    "# Dictionarty 딕셔너리\n",
    "- Key 와 Value 쌍으로 구성\n",
    "- {'kety1' : 'value1' , 'key2':'value2', ...}\n",
    "- 순서는 Key 기준으로 정렬\n",
    "- 정형데이터의 기본 구성 요소"
   ]
  },
  {
   "cell_type": "code",
   "execution_count": 46,
   "id": "71ffa5b6-0c56-4052-ac92-d7b86411d786",
   "metadata": {},
   "outputs": [
    {
     "data": {
      "text/plain": [
       "{'이름': '홍길동', '나이': 23}"
      ]
     },
     "execution_count": 46,
     "metadata": {},
     "output_type": "execute_result"
    }
   ],
   "source": [
    "dict1 = {'이름' : '홍길동' , '나이' : 23}\n",
    "dict1"
   ]
  },
  {
   "cell_type": "code",
   "execution_count": 47,
   "id": "eab2ed28-6b93-450e-b6d4-928713ddf6fe",
   "metadata": {},
   "outputs": [
    {
     "data": {
      "text/plain": [
       "'홍길동'"
      ]
     },
     "execution_count": 47,
     "metadata": {},
     "output_type": "execute_result"
    }
   ],
   "source": [
    "dict1['이름']"
   ]
  },
  {
   "cell_type": "code",
   "execution_count": 48,
   "id": "f1e20e78-c1ea-4f7e-a295-bbcd1cd9d4bf",
   "metadata": {},
   "outputs": [
    {
     "data": {
      "text/plain": [
       "23"
      ]
     },
     "execution_count": 48,
     "metadata": {},
     "output_type": "execute_result"
    }
   ],
   "source": [
    "dict1['나이']"
   ]
  },
  {
   "cell_type": "code",
   "execution_count": 49,
   "id": "16abbe42-6d10-49ce-ab41-2f78a756f5cd",
   "metadata": {},
   "outputs": [
    {
     "data": {
      "text/plain": [
       "dict_keys(['이름', '나이'])"
      ]
     },
     "execution_count": 49,
     "metadata": {},
     "output_type": "execute_result"
    }
   ],
   "source": [
    "dict1.keys()"
   ]
  },
  {
   "cell_type": "code",
   "execution_count": 50,
   "id": "2cbb8cd5-b6c2-46a4-beaa-36746a5ec1b2",
   "metadata": {},
   "outputs": [
    {
     "data": {
      "text/plain": [
       "dict_values(['홍길동', 23])"
      ]
     },
     "execution_count": 50,
     "metadata": {},
     "output_type": "execute_result"
    }
   ],
   "source": [
    "dict1.values()"
   ]
  },
  {
   "cell_type": "code",
   "execution_count": 51,
   "id": "fa202199-0be8-463c-b439-442ba8910b0b",
   "metadata": {},
   "outputs": [
    {
     "data": {
      "text/plain": [
       "{'이름': '홍길동', '나이': 23, '지역': ['서울']}"
      ]
     },
     "execution_count": 51,
     "metadata": {},
     "output_type": "execute_result"
    }
   ],
   "source": [
    "# 새로운 데이터 추가\n",
    "dict1['지역'] = ['서울']\n",
    "dict1"
   ]
  },
  {
   "cell_type": "code",
   "execution_count": 52,
   "id": "439847cc-d567-4c97-be9a-715080dab1a4",
   "metadata": {},
   "outputs": [
    {
     "data": {
      "text/plain": [
       "{'이름': '이기철', '나이': 18, '지역': '검정고무신'}"
      ]
     },
     "execution_count": 52,
     "metadata": {},
     "output_type": "execute_result"
    }
   ],
   "source": [
    "list1=['이름','나이','지역']\n",
    "list2 = ['이기철' ,18,'검정고무신']\n",
    "\n",
    "dict(zip(list1,list2))"
   ]
  },
  {
   "cell_type": "markdown",
   "id": "1a0eb963-b332-40e1-9f41-2e878455f6b4",
   "metadata": {},
   "source": [
    "# 문자열 처리\n",
    "- 문자 데이터에 대한 다양한 처리\n",
    "- 정형데이터 뿐 아니라 자연어 처리에서도 다양하게 사용되는 함수들이 존재"
   ]
  },
  {
   "cell_type": "code",
   "execution_count": 53,
   "id": "bd0e20ab-047c-46f4-a1e8-e36b6dcc2936",
   "metadata": {},
   "outputs": [
    {
     "data": {
      "text/plain": [
       "'파이썬 데이터 분석'"
      ]
     },
     "execution_count": 53,
     "metadata": {},
     "output_type": "execute_result"
    }
   ],
   "source": [
    "# 문자 데이터는 따옴표 / 쌍따옴표 / 따옴표 3개를 이용해서 표현\n",
    "'파이썬 데이터 분석'"
   ]
  },
  {
   "cell_type": "code",
   "execution_count": 54,
   "id": "0f4a11cc-5c3b-4ec9-bc9b-8d3975342ab3",
   "metadata": {},
   "outputs": [
    {
     "data": {
      "text/plain": [
       "'\\n중간에 있는 텍스트도 모두 출력\\n\\n\\n'"
      ]
     },
     "execution_count": 54,
     "metadata": {},
     "output_type": "execute_result"
    }
   ],
   "source": [
    "'''\n",
    "중간에 있는 텍스트도 모두 출력\n",
    "\n",
    "\n",
    "'''"
   ]
  },
  {
   "cell_type": "code",
   "execution_count": 55,
   "id": "ec5a136f-35bb-4f9e-9c35-79e164960193",
   "metadata": {},
   "outputs": [
    {
     "name": "stdout",
     "output_type": "stream",
     "text": [
      "\n",
      "중간에 있는 텍스트 모두 출력\n",
      "\n"
     ]
    }
   ],
   "source": [
    "print('''\n",
    "중간에 있는 텍스트 모두 출력\n",
    "''') # print의 경우 \\n 을 출력하지 않음"
   ]
  },
  {
   "cell_type": "code",
   "execution_count": 56,
   "id": "229b084b-a15d-4a14-9d19-cb84cb93945e",
   "metadata": {},
   "outputs": [
    {
     "data": {
      "text/plain": [
       "'\"안녕하세요\" 하고 속으로 생각했다'"
      ]
     },
     "execution_count": 56,
     "metadata": {},
     "output_type": "execute_result"
    }
   ],
   "source": [
    "'\"안녕하세요\" 하고 속으로 생각했다' #따옴표를 구분하여 사용할 수 있다"
   ]
  },
  {
   "cell_type": "code",
   "execution_count": 57,
   "id": "4e7a7735-1c75-48cb-add9-c317c05fab54",
   "metadata": {},
   "outputs": [
    {
     "data": {
      "text/plain": [
       "11"
      ]
     },
     "execution_count": 57,
     "metadata": {},
     "output_type": "execute_result"
    }
   ],
   "source": [
    "str1 = '오늘은 날이 맑습니다'\n",
    "len(str1) # 띄어쓰기까지 포함하여 몇 글자인지 출력"
   ]
  },
  {
   "cell_type": "code",
   "execution_count": 58,
   "id": "fe131ba2-1e3b-48d3-b67f-3b773476985e",
   "metadata": {},
   "outputs": [
    {
     "data": {
      "text/plain": [
       "'오'"
      ]
     },
     "execution_count": 58,
     "metadata": {},
     "output_type": "execute_result"
    }
   ],
   "source": [
    "# 인덱싱\n",
    "str1[0]"
   ]
  },
  {
   "cell_type": "code",
   "execution_count": 59,
   "id": "98fa3ac2-065a-4ac1-9d4b-33d77b189470",
   "metadata": {},
   "outputs": [
    {
     "data": {
      "text/plain": [
       "'오늘은'"
      ]
     },
     "execution_count": 59,
     "metadata": {},
     "output_type": "execute_result"
    }
   ],
   "source": [
    "# 슬라이싱\n",
    "str1[0:3]"
   ]
  },
  {
   "cell_type": "code",
   "execution_count": 60,
   "id": "49a7729b-44d6-4376-939e-ddb7c1e4352a",
   "metadata": {},
   "outputs": [
    {
     "data": {
      "text/plain": [
       "'맑습니'"
      ]
     },
     "execution_count": 60,
     "metadata": {},
     "output_type": "execute_result"
    }
   ],
   "source": [
    "str1[-4 : -1] #m-1은 출력하지 않는다"
   ]
  },
  {
   "cell_type": "code",
   "execution_count": 61,
   "id": "2f242c01-f311-4d10-92ab-6b0db05b5931",
   "metadata": {},
   "outputs": [
    {
     "data": {
      "text/plain": [
       "'다'"
      ]
     },
     "execution_count": 61,
     "metadata": {},
     "output_type": "execute_result"
    }
   ],
   "source": [
    "str1[-1]"
   ]
  },
  {
   "cell_type": "code",
   "execution_count": 62,
   "id": "edfdd2f1-d944-4878-8df5-01b41b500702",
   "metadata": {},
   "outputs": [
    {
     "data": {
      "text/plain": [
       "' 안녕하세요 제 mbti는 istp 입니다'"
      ]
     },
     "execution_count": 62,
     "metadata": {},
     "output_type": "execute_result"
    }
   ],
   "source": [
    "# 포맷팅 \n",
    "\n",
    "mbti = 'istp'\n",
    "blood_type = 'rh+b'\n",
    "\n",
    "f' 안녕하세요 제 mbti는 {mbti} 입니다'"
   ]
  },
  {
   "cell_type": "code",
   "execution_count": 63,
   "id": "50e1a7bc-4d1e-4808-bf6d-f9d0c7b55669",
   "metadata": {},
   "outputs": [
    {
     "data": {
      "text/plain": [
       "'안녕하세요 제 mbti는 istp입니다'"
      ]
     },
     "execution_count": 63,
     "metadata": {},
     "output_type": "execute_result"
    }
   ],
   "source": [
    "'안녕하세요 제 mbti는 ' +mbti+ '입니다'"
   ]
  },
  {
   "cell_type": "code",
   "execution_count": 64,
   "id": "625cc031-5a8b-49c7-b922-e946fb64f255",
   "metadata": {},
   "outputs": [
    {
     "data": {
      "text/plain": [
       "'rh+b'"
      ]
     },
     "execution_count": 64,
     "metadata": {},
     "output_type": "execute_result"
    }
   ],
   "source": [
    "blood_type"
   ]
  },
  {
   "cell_type": "code",
   "execution_count": 65,
   "id": "635fd24c-3a23-4eb1-8273-4e5829793bf7",
   "metadata": {},
   "outputs": [
    {
     "data": {
      "text/plain": [
       "0"
      ]
     },
     "execution_count": 65,
     "metadata": {},
     "output_type": "execute_result"
    }
   ],
   "source": [
    "# 특정 문자 개수를 세야하는 경우\n",
    "str3 = 'hello python data analysis'\n",
    "str3.count('1')"
   ]
  },
  {
   "cell_type": "code",
   "execution_count": 66,
   "id": "aad46a52-480b-4387-baca-27abe810ffb5",
   "metadata": {},
   "outputs": [
    {
     "data": {
      "text/plain": [
       "1"
      ]
     },
     "execution_count": 66,
     "metadata": {},
     "output_type": "execute_result"
    }
   ],
   "source": [
    "str3.count('data')"
   ]
  },
  {
   "cell_type": "code",
   "execution_count": 67,
   "id": "35aae801-25f8-400b-a23b-d26d41c89077",
   "metadata": {},
   "outputs": [
    {
     "data": {
      "text/plain": [
       "'HELLO PYTHON DATA ANALYSIS'"
      ]
     },
     "execution_count": 67,
     "metadata": {},
     "output_type": "execute_result"
    }
   ],
   "source": [
    "str3.upper()"
   ]
  },
  {
   "cell_type": "code",
   "execution_count": 68,
   "id": "e7c820cd-430b-4ec7-86f2-bf8192bf1d66",
   "metadata": {},
   "outputs": [
    {
     "data": {
      "text/plain": [
       "'hello python data analysis'"
      ]
     },
     "execution_count": 68,
     "metadata": {},
     "output_type": "execute_result"
    }
   ],
   "source": [
    "str3.lower()"
   ]
  },
  {
   "cell_type": "code",
   "execution_count": 69,
   "id": "ed04b4fa-331e-4123-a3d3-57c42f15892c",
   "metadata": {},
   "outputs": [
    {
     "data": {
      "text/plain": [
       "2"
      ]
     },
     "execution_count": 69,
     "metadata": {},
     "output_type": "execute_result"
    }
   ],
   "source": [
    "str3.find('l')"
   ]
  },
  {
   "cell_type": "code",
   "execution_count": 70,
   "id": "16d053f2-6f33-4c26-b078-e5ad68cd3e2d",
   "metadata": {},
   "outputs": [
    {
     "name": "stdin",
     "output_type": "stream",
     "text": [
      " 10\n"
     ]
    },
    {
     "data": {
      "text/plain": [
       "'10'"
      ]
     },
     "execution_count": 70,
     "metadata": {},
     "output_type": "execute_result"
    }
   ],
   "source": [
    "# input\n",
    "\n",
    "input()"
   ]
  },
  {
   "cell_type": "code",
   "execution_count": 71,
   "id": "cc606116-5c9a-4074-b245-19226ba8352b",
   "metadata": {},
   "outputs": [
    {
     "name": "stdin",
     "output_type": "stream",
     "text": [
      " 12\n"
     ]
    },
    {
     "data": {
      "text/plain": [
       "'12'"
      ]
     },
     "execution_count": 71,
     "metadata": {},
     "output_type": "execute_result"
    }
   ],
   "source": [
    "input1 =input()\n",
    "input1"
   ]
  },
  {
   "cell_type": "code",
   "execution_count": 72,
   "id": "22e92a94-22b8-4be7-9f4f-e049bd175437",
   "metadata": {},
   "outputs": [
    {
     "name": "stdin",
     "output_type": "stream",
     "text": [
      " 11\n"
     ]
    }
   ],
   "source": [
    "input2 =input()"
   ]
  },
  {
   "cell_type": "code",
   "execution_count": 73,
   "id": "f6a4a5ef-4714-4d56-ac17-0c073d89fe46",
   "metadata": {},
   "outputs": [
    {
     "data": {
      "text/plain": [
       "str"
      ]
     },
     "execution_count": 73,
     "metadata": {},
     "output_type": "execute_result"
    }
   ],
   "source": [
    "type(input2)\n",
    "\n",
    "# input() 함수는 디폴트로 str 데이터 타입으로 받아온다"
   ]
  },
  {
   "cell_type": "code",
   "execution_count": 74,
   "id": "94a990ef-f372-4f52-92f3-1ee983af3021",
   "metadata": {},
   "outputs": [
    {
     "name": "stdin",
     "output_type": "stream",
     "text": [
      " 13\n"
     ]
    },
    {
     "data": {
      "text/plain": [
       "int"
      ]
     },
     "execution_count": 74,
     "metadata": {},
     "output_type": "execute_result"
    }
   ],
   "source": [
    "input3 = int(input())\n",
    "type(input3)"
   ]
  },
  {
   "cell_type": "code",
   "execution_count": 75,
   "id": "15b64f36-cdae-431a-8484-e18b7daaf81a",
   "metadata": {},
   "outputs": [
    {
     "name": "stdin",
     "output_type": "stream",
     "text": [
      " 12\n",
      " 14\n"
     ]
    }
   ],
   "source": [
    "name1 = input()\n",
    "type1 = input()\n",
    "\n",
    "input_dict = {name1 : type1}"
   ]
  },
  {
   "cell_type": "code",
   "execution_count": 76,
   "id": "6144e175-0105-4341-8840-7dbbab8958bc",
   "metadata": {},
   "outputs": [
    {
     "data": {
      "text/plain": [
       "{'12': '14'}"
      ]
     },
     "execution_count": 76,
     "metadata": {},
     "output_type": "execute_result"
    }
   ],
   "source": [
    "input_dict"
   ]
  },
  {
   "cell_type": "markdown",
   "id": "559a8124-73b4-4193-9d0a-14ac999fa34e",
   "metadata": {},
   "source": [
    "# 파이썬 구문\n",
    "- 특정 코드 반복, 조건 만족 시 발동되도록 구성\n",
    "- 조건문 / 반복문\n",
    "- 예외처리"
   ]
  },
  {
   "cell_type": "markdown",
   "id": "fafa052f-2b23-424e-896d-f8990c6325a3",
   "metadata": {},
   "source": [
    "## 조건문\n",
    "- if /elif /else\n",
    "- in /not in\n",
    "- pass"
   ]
  },
  {
   "cell_type": "code",
   "execution_count": 77,
   "id": "747345c4-d400-4bf8-bc9b-3379c15921df",
   "metadata": {},
   "outputs": [
    {
     "name": "stdout",
     "output_type": "stream",
     "text": [
      "30보다 작다\n"
     ]
    }
   ],
   "source": [
    "data1 = 25\n",
    "if data1 > 30:\n",
    "    print('30보다 크다')\n",
    "elif data1 == 50:\n",
    "    print('50입니다.')\n",
    "else : \n",
    "    print('30보다 작다')"
   ]
  },
  {
   "cell_type": "code",
   "execution_count": 78,
   "id": "39257149-ebd0-474c-8ecd-d940aa3ed4cd",
   "metadata": {},
   "outputs": [
    {
     "name": "stdout",
     "output_type": "stream",
     "text": [
      "B\n"
     ]
    }
   ],
   "source": [
    "data2 = 80\n",
    "\n",
    "if data2 >= 90:\n",
    "    print('A')\n",
    "elif data2 >= 80:\n",
    "    print('B')\n",
    "elif data2 >=70:\n",
    "    print('C')\n",
    "else:\n",
    "    print('F')"
   ]
  },
  {
   "cell_type": "code",
   "execution_count": 79,
   "id": "a839637d-a75b-4483-a0f6-9138ca8e2c53",
   "metadata": {},
   "outputs": [
    {
     "name": "stdout",
     "output_type": "stream",
     "text": [
      "python\n"
     ]
    }
   ],
   "source": [
    "# 문자열이 들어간 조건문\n",
    "\n",
    "# in : 문자열 조건문에 주로 사용된다.\n",
    "\n",
    "data3 = 'python 데이터 분석'\n",
    "if 'java' in data3:\n",
    "    print('java')\n",
    "elif 'python' in data3:\n",
    "    print('python')\n",
    "\n",
    "else : \n",
    "    print('R')"
   ]
  },
  {
   "cell_type": "code",
   "execution_count": 80,
   "id": "0b25864e-f10d-439c-83b5-3f922974f040",
   "metadata": {},
   "outputs": [
    {
     "name": "stdout",
     "output_type": "stream",
     "text": [
      "java\n"
     ]
    }
   ],
   "source": [
    "data3 = 'python 데이터 분석'\n",
    "if 'java' not in data3:\n",
    "    print('java')\n",
    "elif 'python' in data3:\n",
    "    print('python')\n",
    "\n",
    "else : \n",
    "    print('R')\n",
    "\n",
    "# python 문자열이 data3에 들어가 있지만,\n",
    "# 첫번째 조건을 지난 후 코드가 종료됩니다."
   ]
  },
  {
   "cell_type": "code",
   "execution_count": 81,
   "id": "26915588-17bf-4ee9-a5cb-2ba92ef84788",
   "metadata": {},
   "outputs": [
    {
     "name": "stdout",
     "output_type": "stream",
     "text": [
      "java\n",
      "python\n"
     ]
    }
   ],
   "source": [
    "data3 = 'python 데이터 분석'\n",
    "if 'java' not in data3:\n",
    "    print('java')\n",
    "if 'python' in data3:\n",
    "    print('python')\n",
    "\n",
    "else : \n",
    "    print('R')\n",
    "\n",
    "# 둘 다 확인하고 싶은 경우\n",
    "# if를 두 번 사용"
   ]
  },
  {
   "cell_type": "code",
   "execution_count": 82,
   "id": "e71c6c85-1de6-4e05-a06b-be715c72293f",
   "metadata": {},
   "outputs": [
    {
     "name": "stdout",
     "output_type": "stream",
     "text": [
      "[1, 2, 4, 7]\n",
      "[1, 2, 4, 7, 8]\n"
     ]
    }
   ],
   "source": [
    "data4 = [1,2,3,4,7]\n",
    "\n",
    "if 3 in data4 : \n",
    "    data4.remove(3)\n",
    "    print(data4)\n",
    "\n",
    "if 7 in data4:\n",
    "    data4.append(8)\n",
    "    print(data4)"
   ]
  },
  {
   "cell_type": "code",
   "execution_count": 83,
   "id": "50035ae7-a1b8-4ef2-89a9-8e8906327c35",
   "metadata": {},
   "outputs": [],
   "source": [
    "# pass\n",
    "# 실행할 코드가 없다면 pass\n",
    "\n",
    "data5 = [1,2,3]\n",
    "if 1 in data5:\n",
    "    pass\n",
    "elif 2 in data5:\n",
    "    print(2)"
   ]
  },
  {
   "cell_type": "code",
   "execution_count": 84,
   "id": "7b18be01-4cb6-45ec-93c2-90e1883e7103",
   "metadata": {},
   "outputs": [
    {
     "data": {
      "text/plain": [
       "'B'"
      ]
     },
     "execution_count": 84,
     "metadata": {},
     "output_type": "execute_result"
    }
   ],
   "source": [
    "data7 = 25\n",
    "data6 = 'A' if data7 > 30 else 'B'\n",
    "data6"
   ]
  },
  {
   "cell_type": "markdown",
   "id": "edb4a55f-587e-443b-8f47-6991ceacac94",
   "metadata": {},
   "source": [
    "# 반복문\n",
    "- while\n",
    "- for"
   ]
  },
  {
   "cell_type": "code",
   "execution_count": 85,
   "id": "71b3b7a8-dac8-4bd4-a6a3-230d51ff88a8",
   "metadata": {},
   "outputs": [
    {
     "name": "stdout",
     "output_type": "stream",
     "text": [
      "go\n"
     ]
    }
   ],
   "source": [
    "data6 =200\n",
    "while data6 > 50:\n",
    "    print('go')\n",
    "    break   # "
   ]
  },
  {
   "cell_type": "code",
   "execution_count": 86,
   "id": "3d94e544-8ad6-49f0-b144-581457dcc30b",
   "metadata": {},
   "outputs": [
    {
     "name": "stdout",
     "output_type": "stream",
     "text": [
      "1\n",
      "2\n",
      "3\n",
      "4\n",
      "5\n",
      "6\n",
      "7\n",
      "8\n",
      "9\n",
      "10\n"
     ]
    }
   ],
   "source": [
    "data7 = 0\n",
    "while data7 < 10:\n",
    "    data7 =data7 + 1\n",
    "    print(data7)"
   ]
  },
  {
   "cell_type": "code",
   "execution_count": 87,
   "id": "cb853067-38ac-4733-8213-3ae4fbb3b457",
   "metadata": {},
   "outputs": [
    {
     "name": "stdout",
     "output_type": "stream",
     "text": [
      "1\n",
      "2\n",
      "3\n",
      "4\n",
      "5\n",
      "6\n",
      "7\n",
      "8\n",
      "9\n",
      "10\n"
     ]
    }
   ],
   "source": [
    "data7 = 0\n",
    "while data7 < 10:\n",
    "    data7 += 1\n",
    "    print(data7)"
   ]
  },
  {
   "cell_type": "code",
   "execution_count": 88,
   "id": "69f878aa-c268-4eaf-945d-b9d6ac9d0417",
   "metadata": {},
   "outputs": [
    {
     "name": "stdout",
     "output_type": "stream",
     "text": [
      "1\n",
      "2\n",
      "3\n",
      "5\n"
     ]
    }
   ],
   "source": [
    "# countinue\n",
    "# 조건 초기화\n",
    "# 해당 조건을 만나면 이후의 코드를 실행하치 않고 처음으로 돌아감\n",
    "\n",
    "data8 = 0\n",
    "while data8 < 5:\n",
    "    data8 +=1\n",
    "    if data8 == 4:\n",
    "        continue\n",
    "    print(data8)"
   ]
  },
  {
   "cell_type": "code",
   "execution_count": 89,
   "id": "11224f01-32fb-4bd7-ab8f-a8efaf51ce6e",
   "metadata": {},
   "outputs": [
    {
     "name": "stdout",
     "output_type": "stream",
     "text": [
      "alien\n",
      "buzz\n",
      "woody\n",
      "alien\n"
     ]
    }
   ],
   "source": [
    "# for문\n",
    "\n",
    "toystory = ['alien','buzz','woody','alien']\n",
    "\n",
    "for claw in toystory:\n",
    "    print(claw)"
   ]
  },
  {
   "cell_type": "code",
   "execution_count": 90,
   "id": "e2ed679b-27c9-44f6-87ec-c151d21124c7",
   "metadata": {},
   "outputs": [
    {
     "name": "stdout",
     "output_type": "stream",
     "text": [
      "woooo\n",
      "to infinity\n",
      "snake in my boots\n",
      "woooo\n"
     ]
    }
   ],
   "source": [
    "toystory = ['alien','buzz','woody','alien']\n",
    "\n",
    "for claw in toystory:\n",
    "    if claw == 'buzz' : \n",
    "        print('to infinity')\n",
    "    elif claw == 'woody':\n",
    "        print('snake in my boots')\n",
    "    elif claw == 'alien' :\n",
    "        print('woooo')"
   ]
  },
  {
   "cell_type": "code",
   "execution_count": 91,
   "id": "3140d97a-8ce4-4c1d-8330-f98c24e706ca",
   "metadata": {},
   "outputs": [
    {
     "name": "stdout",
     "output_type": "stream",
     "text": [
      "0\n",
      "1\n",
      "2\n",
      "3\n",
      "4\n"
     ]
    }
   ],
   "source": [
    "# range()\n",
    "for i in range(0,5):\n",
    "    print(i)\n",
    "# range(n,m) : n ~ m-1 까지 숫자를 생성\n"
   ]
  },
  {
   "cell_type": "code",
   "execution_count": 92,
   "id": "cee0c80e-8ab8-4d6f-b6fc-09507bce5f83",
   "metadata": {},
   "outputs": [
    {
     "name": "stdout",
     "output_type": "stream",
     "text": [
      "a\n",
      "b\n",
      "c\n",
      "1\n",
      "2\n",
      "3\n"
     ]
    }
   ],
   "source": [
    "list1 = ['a','b','c',1,2,3]\n",
    "for i in range(len(list1)):\n",
    "    print(list1[i])"
   ]
  },
  {
   "cell_type": "code",
   "execution_count": 93,
   "id": "e27a55a9-5e7b-4d6b-9389-30a93ecfb058",
   "metadata": {},
   "outputs": [
    {
     "name": "stdout",
     "output_type": "stream",
     "text": [
      "3\n",
      "6\n",
      "9\n"
     ]
    }
   ],
   "source": [
    "for i in [1,2,3]:\n",
    "    print(i*3)"
   ]
  },
  {
   "cell_type": "code",
   "execution_count": 94,
   "id": "11777603-d95a-4a8f-a86b-44a99c51593d",
   "metadata": {},
   "outputs": [
    {
     "name": "stdout",
     "output_type": "stream",
     "text": [
      "1 2\n",
      "3\n",
      "3 4\n",
      "7\n",
      "5 6\n",
      "11\n"
     ]
    }
   ],
   "source": [
    "data9 = [(1,2,),(3,4),(5,6)]\n",
    "for i , j in data9:\n",
    "    print(i,j)\n",
    "    print(i+j)"
   ]
  },
  {
   "cell_type": "code",
   "execution_count": 95,
   "id": "fbdaeb5d-07db-4c61-98c1-4d0974058979",
   "metadata": {},
   "outputs": [
    {
     "data": {
      "text/plain": [
       "[0, 1, 2, 3, 4, 5]"
      ]
     },
     "execution_count": 95,
     "metadata": {},
     "output_type": "execute_result"
    }
   ],
   "source": [
    "data10 = []\n",
    "for i in range(0,6) :\n",
    "    data10.append(i)\n",
    "\n",
    "data10"
   ]
  },
  {
   "cell_type": "code",
   "execution_count": 96,
   "id": "f356fe7a-d84a-48fb-bdc5-bc37b2fc358e",
   "metadata": {},
   "outputs": [
    {
     "name": "stdout",
     "output_type": "stream",
     "text": [
      "3\n",
      "5\n",
      "6\n",
      "5\n",
      "3\n"
     ]
    }
   ],
   "source": [
    "list1 = [1,2,3,3,2,1]\n",
    "for i in range(len(list1)-1):\n",
    "    print(list1[i] + list1[i+1])"
   ]
  },
  {
   "cell_type": "code",
   "execution_count": 97,
   "id": "1745f462-ca0d-4b22-9991-a74b2ad766cd",
   "metadata": {},
   "outputs": [
    {
     "data": {
      "text/plain": [
       "[0, 1, 2, 3, 4, 5]"
      ]
     },
     "execution_count": 97,
     "metadata": {},
     "output_type": "execute_result"
    }
   ],
   "source": [
    "# 리스트 컴프리헨션\n",
    "# 리스트를 생성할 때 조건문으로 변수를 생성할 수 있다.\n",
    "data11=[x for x in range(0,6)]\n",
    "data11"
   ]
  },
  {
   "cell_type": "code",
   "execution_count": 98,
   "id": "919c09c5-36f3-4cf8-9019-1485d1feefa0",
   "metadata": {},
   "outputs": [
    {
     "data": {
      "text/plain": [
       "[0, 2, 4, 6, 8, 10]"
      ]
     },
     "execution_count": 98,
     "metadata": {},
     "output_type": "execute_result"
    }
   ],
   "source": [
    "[x for x in range(0,11) if x % 2 ==0]\n",
    "# 1~11까지 중 짝수인 값만 리스트로 생성"
   ]
  },
  {
   "cell_type": "code",
   "execution_count": 99,
   "id": "2679b493-1fc4-49e9-8e07-0c3fd71554f4",
   "metadata": {},
   "outputs": [
    {
     "data": {
      "text/plain": [
       "[(1, 'a'),\n",
       " (1, 'b'),\n",
       " (1, 'c'),\n",
       " (2, 'a'),\n",
       " (2, 'b'),\n",
       " (2, 'c'),\n",
       " (3, 'a'),\n",
       " (3, 'b'),\n",
       " (3, 'c')]"
      ]
     },
     "execution_count": 99,
     "metadata": {},
     "output_type": "execute_result"
    }
   ],
   "source": [
    "[(x,y) for x in [1,2,3] for y in ['a','b','c']]"
   ]
  },
  {
   "cell_type": "code",
   "execution_count": 100,
   "id": "121e18bf-e31b-44af-82f0-798a4db65949",
   "metadata": {},
   "outputs": [
    {
     "name": "stdout",
     "output_type": "stream",
     "text": [
      "1\n",
      "11\n",
      "111\n",
      "1111\n"
     ]
    }
   ],
   "source": [
    "data12 = [1,10,100,1000]\n",
    "result1 = 0\n",
    "\n",
    "for i in data12 : \n",
    "    result1 = result1 + i\n",
    "    print(result1)"
   ]
  },
  {
   "cell_type": "markdown",
   "id": "859787aa-f526-46ef-b17a-6b3b6ebecaaa",
   "metadata": {},
   "source": [
    "# 예외처리 , 크롤링 할 때 주로 사용\n",
    "- try : 시도하려는 코드\n",
    "- except : try가 에러가 났을 때 실행하는 코드\n",
    "- finally : 에러의 유무에 관계없이 최정적으로 실행하게 되는 코드"
   ]
  },
  {
   "cell_type": "code",
   "execution_count": 101,
   "id": "f47c182f-4744-4692-af78-310bf63d9796",
   "metadata": {},
   "outputs": [
    {
     "name": "stdout",
     "output_type": "stream",
     "text": [
      "no error\n",
      "[1, 2, 3, 4, 5]\n",
      "done\n"
     ]
    }
   ],
   "source": [
    "try : # 시도하려는 코드\n",
    "    data13 = []\n",
    "    for i in range(1,6):\n",
    "        data13.append(i)\n",
    "    print('no error')\n",
    "\n",
    "except: #에러나는 경우 except 이하의 코드가 실행됨\n",
    "    print('error')\n",
    "\n",
    "finally :\n",
    "    print(data13)\n",
    "    print('done')"
   ]
  },
  {
   "cell_type": "code",
   "execution_count": 102,
   "id": "f2179915-6b7c-4413-961e-766c31d8f615",
   "metadata": {},
   "outputs": [
    {
     "name": "stdout",
     "output_type": "stream",
     "text": [
      "error\n",
      "[]\n",
      "done\n"
     ]
    }
   ],
   "source": [
    "try:\n",
    "    data13 =[]\n",
    "    for i in range(1,6):\n",
    "        data13.remove(1)\n",
    "        data13.append(i)\n",
    "    print('no error')\n",
    "\n",
    "except:\n",
    "    print('error')\n",
    "\n",
    "finally:\n",
    "    print(data13)\n",
    "    print('done')"
   ]
  },
  {
   "cell_type": "code",
   "execution_count": 103,
   "id": "ee75acd2-c16d-4da4-a4a9-68f8664561e1",
   "metadata": {},
   "outputs": [
    {
     "name": "stdout",
     "output_type": "stream",
     "text": [
      "error list.remove(x): x not in list\n",
      "[]\n",
      "done\n"
     ]
    }
   ],
   "source": [
    "try:\n",
    "    data13 = []\n",
    "    for i in range(1,6):\n",
    "        data13.remove(1)\n",
    "        data13.append(i)\n",
    "    print('no error')\n",
    "except Exception as e:\n",
    "    print('error',e)\n",
    "\n",
    "finally:\n",
    "    print(data13)\n",
    "    print('done')\n",
    "\n",
    "#에러 발생 및 에러 메시지 출력"
   ]
  },
  {
   "cell_type": "markdown",
   "id": "7b4818a4-f34c-4f87-8b9d-82ced22cc3f3",
   "metadata": {},
   "source": [
    "함수"
   ]
  },
  {
   "cell_type": "code",
   "execution_count": 104,
   "id": "0f1852c2-ae30-4923-88b5-7a7ee4cb8c3b",
   "metadata": {},
   "outputs": [
    {
     "data": {
      "text/plain": [
       "9"
      ]
     },
     "execution_count": 104,
     "metadata": {},
     "output_type": "execute_result"
    }
   ],
   "source": [
    "list1 = [1,3,5]\n",
    "sum(list1)"
   ]
  },
  {
   "cell_type": "code",
   "execution_count": 105,
   "id": "9682cbb6-c85f-4859-9e9b-bed0b375430a",
   "metadata": {},
   "outputs": [],
   "source": [
    "def func1():\n",
    "    print('hello')"
   ]
  },
  {
   "cell_type": "code",
   "execution_count": 106,
   "id": "283c9872-14c1-451c-899e-260e7e08da4a",
   "metadata": {},
   "outputs": [
    {
     "name": "stdout",
     "output_type": "stream",
     "text": [
      "hello\n"
     ]
    }
   ],
   "source": [
    "func1()"
   ]
  },
  {
   "cell_type": "code",
   "execution_count": 107,
   "id": "279c3773-02f6-4dca-899d-d144aae67c2b",
   "metadata": {},
   "outputs": [],
   "source": [
    "def func2(x):\n",
    "    return x +200"
   ]
  },
  {
   "cell_type": "code",
   "execution_count": 108,
   "id": "dc871a24-1f7d-4b77-8cee-b16c50cb7097",
   "metadata": {},
   "outputs": [
    {
     "data": {
      "text/plain": [
       "300"
      ]
     },
     "execution_count": 108,
     "metadata": {},
     "output_type": "execute_result"
    }
   ],
   "source": [
    "func2(100)"
   ]
  },
  {
   "cell_type": "code",
   "execution_count": 109,
   "id": "40a22fa0-28f5-4136-ad42-e0a52a8e40fe",
   "metadata": {},
   "outputs": [],
   "source": [
    "def func3(x):\n",
    "    if x >= 90:\n",
    "        return 'A'\n",
    "    elif x >= 80:\n",
    "        return 'B'\n",
    "    elif x >= 70:\n",
    "        return 'B'\n",
    "    else :\n",
    "        return 'F'"
   ]
  },
  {
   "cell_type": "code",
   "execution_count": 110,
   "id": "bba21c8f-8c39-48d2-a696-16b8e3831f8f",
   "metadata": {},
   "outputs": [
    {
     "data": {
      "text/plain": [
       "'B'"
      ]
     },
     "execution_count": 110,
     "metadata": {},
     "output_type": "execute_result"
    }
   ],
   "source": [
    "func3(87)"
   ]
  },
  {
   "cell_type": "code",
   "execution_count": 111,
   "id": "b602ca06-6f4c-4110-b72b-0f048b66aab1",
   "metadata": {},
   "outputs": [],
   "source": [
    "# 이름과 성적을 입력 받는 경우\n",
    "\n",
    "def func3(name,x):\n",
    "    if x>= 90:\n",
    "        return f'{name}의 점수는 {x}이고, 성적은 \"A\"입니다.'\n",
    "    elif x>= 80:\n",
    "        return f'{name}의 점수는 {x}이고 , 성적은\"B\"입니다.'\n",
    "\n"
   ]
  },
  {
   "cell_type": "code",
   "execution_count": 112,
   "id": "18211a0f-46e0-4697-89d3-c6da5bd55e04",
   "metadata": {},
   "outputs": [
    {
     "data": {
      "text/plain": [
       "25"
      ]
     },
     "execution_count": 112,
     "metadata": {},
     "output_type": "execute_result"
    }
   ],
   "source": [
    "# 몇 개의 인자를 입력 받을지 모르는 경우'\n",
    "# *args\n",
    "\n",
    "def func4(*args):\n",
    "    return (sum(args))\n",
    "\n",
    "func4(1,3,5,7,9)"
   ]
  },
  {
   "cell_type": "code",
   "execution_count": 113,
   "id": "1f5bd7b4-bbf0-4293-8cbe-5492fb8839f3",
   "metadata": {},
   "outputs": [
    {
     "data": {
      "text/plain": [
       "1.5"
      ]
     },
     "execution_count": 113,
     "metadata": {},
     "output_type": "execute_result"
    }
   ],
   "source": [
    "# 함수의 초기값을 설정\n",
    "def func5(x1,x2,x3=2):\n",
    "    return(x1+x2)/x3\n",
    "\n",
    "func5(1,2)"
   ]
  },
  {
   "cell_type": "code",
   "execution_count": 114,
   "id": "e7c7026c-3bf8-4d34-a858-6f5a4fe9f685",
   "metadata": {},
   "outputs": [
    {
     "data": {
      "text/plain": [
       "0.6"
      ]
     },
     "execution_count": 114,
     "metadata": {},
     "output_type": "execute_result"
    }
   ],
   "source": [
    "func5(1,2,5)\n",
    "# 초기값도 변경이 가능하다."
   ]
  },
  {
   "cell_type": "code",
   "execution_count": 115,
   "id": "e89554e3-9e97-4873-8436-309c88088f52",
   "metadata": {},
   "outputs": [],
   "source": [
    "# 재귀함수\n",
    "def recurse1(x):\n",
    "    if x>20 :\n",
    "        print('end')\n",
    "    else:\n",
    "        print(x)\n",
    "        recurse1(x+3)"
   ]
  },
  {
   "cell_type": "code",
   "execution_count": 116,
   "id": "17f76ef9-1021-46fd-b956-e748d60f63ce",
   "metadata": {},
   "outputs": [
    {
     "name": "stdout",
     "output_type": "stream",
     "text": [
      "3\n",
      "6\n",
      "9\n",
      "12\n",
      "15\n",
      "18\n",
      "end\n"
     ]
    }
   ],
   "source": [
    "recurse1(3)"
   ]
  },
  {
   "cell_type": "code",
   "execution_count": 117,
   "id": "cab7bbca-3f1d-4c80-8e5e-b53ae8782ce3",
   "metadata": {},
   "outputs": [],
   "source": [
    "# 기저조건 : 재귀함수 생성 시 기저조건을 설정하여 언제 멈출지 지정해야한다.\n",
    "def fibo(i) :\n",
    "    if i== 1 or i ==2:\n",
    "        return 1\n",
    "    else :\n",
    "        return fibo(i-1) + fibo(i-2)"
   ]
  },
  {
   "cell_type": "code",
   "execution_count": 118,
   "id": "3cddffb4-81ec-475d-8430-36cf7e944e18",
   "metadata": {},
   "outputs": [
    {
     "data": {
      "text/plain": [
       "55"
      ]
     },
     "execution_count": 118,
     "metadata": {},
     "output_type": "execute_result"
    }
   ],
   "source": [
    "fibo(10)"
   ]
  },
  {
   "cell_type": "markdown",
   "id": "96ce7d0f-8e03-4273-bf26-a690d01c451c",
   "metadata": {},
   "source": [
    "# 파이썬 내장함수 및 라이브러리\n",
    "- 내장함수 : 파이썬에서 제공하는 함수\n",
    "- 외부 라이브러리 : 각 소프트웨어 개발업체/ 개발자들이 만든 라이브러리 , 인터넷을 통해 다운받아야함"
   ]
  },
  {
   "cell_type": "code",
   "execution_count": 119,
   "id": "d8d0360a-3dd4-4546-9e63-cbf1061d038c",
   "metadata": {},
   "outputs": [
    {
     "name": "stdin",
     "output_type": "stream",
     "text": [
      "특정 값을 입력받을 수 있는 함수 123\n"
     ]
    },
    {
     "data": {
      "text/plain": [
       "'123'"
      ]
     },
     "execution_count": 119,
     "metadata": {},
     "output_type": "execute_result"
    }
   ],
   "source": [
    "# 입출력 관련 함수\n",
    "input('특정 값을 입력받을 수 있는 함수')\n"
   ]
  },
  {
   "cell_type": "code",
   "execution_count": 120,
   "id": "64ae4f9e-3d13-4990-a681-af7de4f505e2",
   "metadata": {},
   "outputs": [
    {
     "name": "stdin",
     "output_type": "stream",
     "text": [
      " 123\n"
     ]
    },
    {
     "data": {
      "text/plain": [
       "str"
      ]
     },
     "execution_count": 120,
     "metadata": {},
     "output_type": "execute_result"
    }
   ],
   "source": [
    "num1 = input()\n",
    "type(num1)"
   ]
  },
  {
   "cell_type": "code",
   "execution_count": 121,
   "id": "36a1fdf7-39a9-4343-91eb-b51092dab261",
   "metadata": {},
   "outputs": [
    {
     "name": "stdin",
     "output_type": "stream",
     "text": [
      " 4213\n"
     ]
    },
    {
     "data": {
      "text/plain": [
       "int"
      ]
     },
     "execution_count": 121,
     "metadata": {},
     "output_type": "execute_result"
    }
   ],
   "source": [
    "num2 = int(input())\n",
    "type(num2)"
   ]
  },
  {
   "cell_type": "code",
   "execution_count": 122,
   "id": "895e6b26-1c52-4520-b871-1eff1a4794a5",
   "metadata": {},
   "outputs": [
    {
     "data": {
      "text/plain": [
       "8"
      ]
     },
     "execution_count": 122,
     "metadata": {},
     "output_type": "execute_result"
    }
   ],
   "source": [
    "sum([1,3,4]) #합 함수"
   ]
  },
  {
   "cell_type": "code",
   "execution_count": 123,
   "id": "62865545-c5da-400c-9509-7c5cb48f946b",
   "metadata": {},
   "outputs": [
    {
     "data": {
      "text/plain": [
       "27"
      ]
     },
     "execution_count": 123,
     "metadata": {},
     "output_type": "execute_result"
    }
   ],
   "source": [
    "abs(-27) #절대값을 반환"
   ]
  },
  {
   "cell_type": "code",
   "execution_count": 124,
   "id": "d658f313-b923-44e5-8156-8b743206d692",
   "metadata": {},
   "outputs": [
    {
     "data": {
      "text/plain": [
       "[-1, 1, 4, 5, 5, 7]"
      ]
     },
     "execution_count": 124,
     "metadata": {},
     "output_type": "execute_result"
    }
   ],
   "source": [
    "list1 = [1,5,-1,5,7,4] \n",
    "sorted(list1) # 오름차순 정렬"
   ]
  },
  {
   "cell_type": "code",
   "execution_count": 125,
   "id": "54096e39-1cd6-4d34-bce0-08e44e6da1d3",
   "metadata": {},
   "outputs": [
    {
     "data": {
      "text/plain": [
       "[7, 5, 5, 4, 1, -1]"
      ]
     },
     "execution_count": 125,
     "metadata": {},
     "output_type": "execute_result"
    }
   ],
   "source": [
    "sorted(list1,reverse=True) # 내림차순"
   ]
  },
  {
   "cell_type": "code",
   "execution_count": 126,
   "id": "51a070c1-fd7a-4093-b0c8-155f0241efa8",
   "metadata": {},
   "outputs": [
    {
     "name": "stdout",
     "output_type": "stream",
     "text": [
      "Help on built-in function sorted in module builtins:\n",
      "\n",
      "sorted(iterable, /, *, key=None, reverse=False)\n",
      "    Return a new list containing all items from the iterable in ascending order.\n",
      "    \n",
      "    A custom key function can be supplied to customize the sort order, and the\n",
      "    reverse flag can be set to request the result in descending order.\n",
      "\n"
     ]
    }
   ],
   "source": [
    "help(sorted)"
   ]
  },
  {
   "cell_type": "code",
   "execution_count": 127,
   "id": "546f6a8e-64c1-4159-8f00-b94341b6cf8e",
   "metadata": {},
   "outputs": [
    {
     "name": "stdout",
     "output_type": "stream",
     "text": [
      "[0, 1, 2]\n",
      "['a', 'b', 'c']\n"
     ]
    }
   ],
   "source": [
    "#enumerate\n",
    "#인덱스 생성해주는 함수\n",
    "\n",
    "index_list = []\n",
    "value_list = []\n",
    "\n",
    "for i,j in enumerate(['a','b','c']):\n",
    "    index_list.append(i)\n",
    "    value_list.append(j)\n",
    "\n",
    "print(index_list)\n",
    "print(value_list)\n"
   ]
  },
  {
   "cell_type": "code",
   "execution_count": 128,
   "id": "c72341f9-776e-47de-a553-0d8d1f8a7f76",
   "metadata": {},
   "outputs": [
    {
     "data": {
      "text/plain": [
       "{0: 'a', 1: 'b', 2: 'c'}"
      ]
     },
     "execution_count": 128,
     "metadata": {},
     "output_type": "execute_result"
    }
   ],
   "source": [
    "dict(zip(index_list,value_list))"
   ]
  },
  {
   "cell_type": "code",
   "execution_count": 129,
   "id": "fb2a2b92-82ff-4312-bd09-be6c932d17a9",
   "metadata": {},
   "outputs": [],
   "source": [
    "dict1 = dict(zip(index_list,value_list))"
   ]
  },
  {
   "cell_type": "code",
   "execution_count": 130,
   "id": "3662abc0-eb0a-40a4-a20b-9d01ed7162c9",
   "metadata": {},
   "outputs": [],
   "source": [
    "import random\n",
    "\n",
    "#import : 항상 사용하지 않고 , 필요할 때만 불러오는 함수"
   ]
  },
  {
   "cell_type": "code",
   "execution_count": 132,
   "id": "62761d8a-2f3e-447a-b355-35f0e558f036",
   "metadata": {},
   "outputs": [
    {
     "data": {
      "text/plain": [
       "3"
      ]
     },
     "execution_count": 132,
     "metadata": {},
     "output_type": "execute_result"
    }
   ],
   "source": [
    "sum(index_list) # sum은 import 하지 않아도 작동함"
   ]
  },
  {
   "cell_type": "code",
   "execution_count": 134,
   "id": "5c26c569-5659-41f2-a93f-43217d2880f0",
   "metadata": {},
   "outputs": [
    {
     "data": {
      "text/plain": [
       "17"
      ]
     },
     "execution_count": 134,
     "metadata": {},
     "output_type": "execute_result"
    }
   ],
   "source": [
    "random.randint(0,30)"
   ]
  },
  {
   "cell_type": "code",
   "execution_count": 136,
   "id": "db8cc29b-ddb0-438f-9307-b49e1e08daa9",
   "metadata": {},
   "outputs": [
    {
     "data": {
      "text/plain": [
       "[2, 2, 5, 0, 1]"
      ]
     },
     "execution_count": 136,
     "metadata": {},
     "output_type": "execute_result"
    }
   ],
   "source": [
    "[random.randint(0,5) for _ in range(5)]"
   ]
  },
  {
   "cell_type": "markdown",
   "id": "b250345a-341d-439a-99fd-939877177766",
   "metadata": {},
   "source": [
    "# 패키지와 모듈\n",
    "- 패키지 (라이브러리) : 모듈의 집합\n",
    "- 모듈 : 함수 / 클래스 집합\n",
    "- 함수 : 특정 기능을 수행하기 위한 코드의 집합\n",
    "- 클래스 : 함수를 찍어내는 틀"
   ]
  },
  {
   "cell_type": "code",
   "execution_count": 138,
   "id": "9a913e27-ad99-43ce-8e64-53de7d0d744d",
   "metadata": {},
   "outputs": [],
   "source": [
    "import modul1"
   ]
  },
  {
   "cell_type": "code",
   "execution_count": 139,
   "id": "95b17d7e-127a-4ddd-af42-9c5f077d6140",
   "metadata": {},
   "outputs": [
    {
     "data": {
      "text/plain": [
       "2.0"
      ]
     },
     "execution_count": 139,
     "metadata": {},
     "output_type": "execute_result"
    }
   ],
   "source": [
    "modul1.mean_func([1,2,3])"
   ]
  },
  {
   "cell_type": "code",
   "execution_count": 141,
   "id": "7da51e36-a41b-4465-ad00-6ce369f033e5",
   "metadata": {},
   "outputs": [
    {
     "data": {
      "text/plain": [
       "15"
      ]
     },
     "execution_count": 141,
     "metadata": {},
     "output_type": "execute_result"
    }
   ],
   "source": [
    "modul1.sum_func([4,5,6])"
   ]
  },
  {
   "cell_type": "code",
   "execution_count": 142,
   "id": "08cd2d3a-69f2-464b-afff-11c25153a002",
   "metadata": {},
   "outputs": [],
   "source": [
    "from modul1 import *"
   ]
  },
  {
   "cell_type": "code",
   "execution_count": 144,
   "id": "0f567e85-393d-406b-a441-7e17c0fb2ff4",
   "metadata": {},
   "outputs": [
    {
     "data": {
      "text/plain": [
       "15"
      ]
     },
     "execution_count": 144,
     "metadata": {},
     "output_type": "execute_result"
    }
   ],
   "source": [
    "sum_func([1,2,3,4,5]) # modul1. 을 쓰지 않아도 작동한다."
   ]
  },
  {
   "cell_type": "code",
   "execution_count": 145,
   "id": "01ef5aff-7b28-46f8-949e-11bafa040d8e",
   "metadata": {},
   "outputs": [],
   "source": [
    "# 패키지\n",
    "import package1"
   ]
  },
  {
   "cell_type": "code",
   "execution_count": 147,
   "id": "9b5471cb-8576-43c1-b29e-7c847f933bab",
   "metadata": {},
   "outputs": [
    {
     "name": "stdout",
     "output_type": "stream",
     "text": [
      "1.0\n"
     ]
    }
   ],
   "source": [
    "package1.package_version()"
   ]
  },
  {
   "cell_type": "code",
   "execution_count": 148,
   "id": "9a82839a-b00b-4640-9b30-4542204853c9",
   "metadata": {},
   "outputs": [],
   "source": [
    "from package1 import modul2"
   ]
  },
  {
   "cell_type": "code",
   "execution_count": 149,
   "id": "5bf8c07d-7ebf-4f78-81ee-cc8c11ea763f",
   "metadata": {},
   "outputs": [
    {
     "name": "stdout",
     "output_type": "stream",
     "text": [
      "hello\n"
     ]
    }
   ],
   "source": [
    "modul2.hellofunc()"
   ]
  },
  {
   "cell_type": "code",
   "execution_count": 150,
   "id": "a196358a-fd19-480f-a834-4ced569c1bc1",
   "metadata": {},
   "outputs": [],
   "source": [
    "# 라이브러리 / 패키지 : 모듈의 집합\n",
    "# 모듈 : 함수의 집합 / 클래스 "
   ]
  },
  {
   "cell_type": "markdown",
   "id": "fabdc404-d7dc-499a-9c39-e08e77ac58fc",
   "metadata": {},
   "source": [
    "# 클래스 class\n",
    "- 특정 함수를 반복하여 사용하거나 함수의 결괏값을 계속 유지하고자 할 때\n",
    "- 클래스를 사용한다\n",
    "  "
   ]
  },
  {
   "cell_type": "code",
   "execution_count": 151,
   "id": "198a1cfd-0fa6-4d8b-8146-f9ce138f55f5",
   "metadata": {},
   "outputs": [],
   "source": [
    "# 클래스 : 아이스크림\n",
    "# 함수 : 죠스바"
   ]
  },
  {
   "cell_type": "code",
   "execution_count": 152,
   "id": "b18aefe0-59ef-4ac3-9a44-7f414dfaa1be",
   "metadata": {},
   "outputs": [],
   "source": [
    "# 전역변수 global : 함수 밖에서도 호출할 수 있는 변수\n",
    "# 지역 변수 local : 함수 내에서만 존재하는 일시적인 변수"
   ]
  },
  {
   "cell_type": "code",
   "execution_count": 157,
   "id": "a1edd61d-4002-4af2-b733-685211d7d0dc",
   "metadata": {},
   "outputs": [
    {
     "name": "stdout",
     "output_type": "stream",
     "text": [
      "은행원\n",
      "남편\n",
      "은행원\n"
     ]
    }
   ],
   "source": [
    "# home 내의 role1이 지역변수이다.\n",
    "role1 = '은행원'\n",
    "\n",
    "def home(): \n",
    "    role1 = '남편'\n",
    "    return role1\n",
    "\n",
    "print(role1)\n",
    "\n",
    "home()\n",
    "print(home())\n",
    "\n",
    "print(role1)"
   ]
  },
  {
   "cell_type": "code",
   "execution_count": 162,
   "id": "96214eb1-1f8a-49db-850d-d90e3ada975c",
   "metadata": {},
   "outputs": [
    {
     "name": "stdout",
     "output_type": "stream",
     "text": [
      "소방관\n",
      "아버지\n",
      "아버지\n"
     ]
    }
   ],
   "source": [
    "# home2 의 role2 는 전역변수이기에 기존 role2를 덮어쓸 수 있다.\n",
    "role2= '소방관'\n",
    "\n",
    "def home2():\n",
    "    global role2\n",
    "    role2 = '아버지'\n",
    "    return role2\n",
    "\n",
    "print(role2)\n",
    "\n",
    "home2()\n",
    "print(home2())\n",
    "\n",
    "print(role2)"
   ]
  },
  {
   "cell_type": "code",
   "execution_count": 163,
   "id": "8921398f-76ad-4b61-bfab-ee0773a5f7c3",
   "metadata": {},
   "outputs": [],
   "source": [
    "result1 = 0\n",
    "\n",
    "def func1(x):\n",
    "    global result1\n",
    "    result1 += x\n",
    "    return result1"
   ]
  },
  {
   "cell_type": "code",
   "execution_count": 164,
   "id": "215ebc1a-f4cb-455e-b381-4190c2a549da",
   "metadata": {},
   "outputs": [
    {
     "data": {
      "text/plain": [
       "0"
      ]
     },
     "execution_count": 164,
     "metadata": {},
     "output_type": "execute_result"
    }
   ],
   "source": [
    "result1"
   ]
  },
  {
   "cell_type": "code",
   "execution_count": 167,
   "id": "bc8da027-f084-4ea8-b93a-b27f94706131",
   "metadata": {},
   "outputs": [
    {
     "data": {
      "text/plain": [
       "60"
      ]
     },
     "execution_count": 167,
     "metadata": {},
     "output_type": "execute_result"
    }
   ],
   "source": [
    "func1(30)"
   ]
  },
  {
   "cell_type": "code",
   "execution_count": 171,
   "id": "34c2d836-fb6f-4aee-bc9a-dcc48f801335",
   "metadata": {},
   "outputs": [
    {
     "data": {
      "text/plain": [
       "60"
      ]
     },
     "execution_count": 171,
     "metadata": {},
     "output_type": "execute_result"
    }
   ],
   "source": [
    "result1"
   ]
  },
  {
   "cell_type": "code",
   "execution_count": 174,
   "id": "fbe3ff01-8799-4bef-abe1-2c63806dd823",
   "metadata": {},
   "outputs": [],
   "source": [
    "ice_sell = 0\n",
    "\n",
    "def icecream1(name,sell):\n",
    "    global ice_sell\n",
    "    ice_sell += sell\n",
    "    return ice_sell\n",
    "\n",
    "#아이스크림을 몇 개 팔았나 기록하는 함수"
   ]
  },
  {
   "cell_type": "code",
   "execution_count": 176,
   "id": "f03ee656-6bfa-484a-9bc7-b970c5905890",
   "metadata": {},
   "outputs": [
    {
     "name": "stdout",
     "output_type": "stream",
     "text": [
      "60\n",
      "100\n",
      "130\n"
     ]
    }
   ],
   "source": [
    "jaws = icecream1('jasw',30)\n",
    "print(jaws)\n",
    "\n",
    "jaws = icecream1('jaws',40)\n",
    "print(jaws)\n",
    "\n",
    "jaws = icecream1('jaws',30)\n",
    "print(jaws)"
   ]
  },
  {
   "cell_type": "code",
   "execution_count": 177,
   "id": "0a981671-6eb5-4bb5-b07e-754da515d6fd",
   "metadata": {},
   "outputs": [
    {
     "data": {
      "text/plain": [
       "160"
      ]
     },
     "execution_count": 177,
     "metadata": {},
     "output_type": "execute_result"
    }
   ],
   "source": [
    "babamba = icecream1('babama',30)\n",
    "babamba"
   ]
  },
  {
   "cell_type": "code",
   "execution_count": 178,
   "id": "36901897-a562-44f1-b731-08d8f066f5d9",
   "metadata": {},
   "outputs": [],
   "source": [
    "#바밤바를 위한 함수를 다시 만들어야함\n",
    "# 비효율적이다\n",
    "\n",
    "# 그래서 클래스를 사용합니다."
   ]
  },
  {
   "cell_type": "code",
   "execution_count": 183,
   "id": "896c4118-a466-426a-9efc-d1db010e4242",
   "metadata": {},
   "outputs": [],
   "source": [
    "class new_icecream():\n",
    "    def __init__(self,name):\n",
    "        self.name = name\n",
    "        self.total_sell = 0\n",
    "\n",
    "    def record_sell(self,sell):\n",
    "        self.total_sell += sell\n",
    "        return self.total_sell"
   ]
  },
  {
   "cell_type": "code",
   "execution_count": 184,
   "id": "184f1694-cc7a-4cbf-bffa-a725c50138ac",
   "metadata": {},
   "outputs": [
    {
     "data": {
      "text/plain": [
       "110"
      ]
     },
     "execution_count": 184,
     "metadata": {},
     "output_type": "execute_result"
    }
   ],
   "source": [
    "jasw = new_icecream('jaws')\n",
    "jasw.record_sell(30)\n",
    "jasw.record_sell(80)"
   ]
  },
  {
   "cell_type": "code",
   "execution_count": 185,
   "id": "f292c155-353e-470e-9e5d-3390cc58aa79",
   "metadata": {},
   "outputs": [
    {
     "data": {
      "text/plain": [
       "130"
      ]
     },
     "execution_count": 185,
     "metadata": {},
     "output_type": "execute_result"
    }
   ],
   "source": [
    "bbb = new_icecream('bbb')\n",
    "bbb.record_sell(50)\n",
    "bbb.record_sell(80)"
   ]
  },
  {
   "cell_type": "code",
   "execution_count": 186,
   "id": "0a9442ba-fa74-4795-8d91-d95966f3197d",
   "metadata": {},
   "outputs": [],
   "source": [
    "class new_ice2():\n",
    "    def __init__(self):\n",
    "        self.total_sell = 0\n",
    "    def record_sell(self,sell):\n",
    "        self.total_sell += sell\n",
    "        return self.total_sell\n",
    "\n",
    "#name 값은 생략"
   ]
  },
  {
   "cell_type": "code",
   "execution_count": 187,
   "id": "38590129-f15e-4c26-b401-c47ded3b56ac",
   "metadata": {},
   "outputs": [],
   "source": [
    "screwbar = new_ice2()"
   ]
  },
  {
   "cell_type": "code",
   "execution_count": 188,
   "id": "6b71b2c7-1889-4952-bc95-7acd06fa0efc",
   "metadata": {},
   "outputs": [
    {
     "data": {
      "text/plain": [
       "300"
      ]
     },
     "execution_count": 188,
     "metadata": {},
     "output_type": "execute_result"
    }
   ],
   "source": [
    "screwbar.record_sell(100)\n",
    "screwbar.record_sell(200)\n"
   ]
  },
  {
   "cell_type": "code",
   "execution_count": null,
   "id": "c98bcc00-4aaa-4afc-a522-cee0a3b1e888",
   "metadata": {},
   "outputs": [],
   "source": []
  }
 ],
 "metadata": {
  "kernelspec": {
   "display_name": "Python 3 (ipykernel)",
   "language": "python",
   "name": "python3"
  },
  "language_info": {
   "codemirror_mode": {
    "name": "ipython",
    "version": 3
   },
   "file_extension": ".py",
   "mimetype": "text/x-python",
   "name": "python",
   "nbconvert_exporter": "python",
   "pygments_lexer": "ipython3",
   "version": "3.11.7"
  }
 },
 "nbformat": 4,
 "nbformat_minor": 5
}
