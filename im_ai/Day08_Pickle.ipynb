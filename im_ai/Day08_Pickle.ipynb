{
 "cells": [
  {
   "cell_type": "code",
   "execution_count": 1,
   "id": "cee4f204-a090-41ac-9089-dbd1ed55a1f0",
   "metadata": {},
   "outputs": [],
   "source": [
    "import pickle\n",
    "import pandas as pd\n"
   ]
  },
  {
   "cell_type": "code",
   "execution_count": 2,
   "id": "cbb8d486-83f6-403c-88b4-629db67c83ed",
   "metadata": {},
   "outputs": [],
   "source": [
    "# 불어오기\n",
    "model = pickle.load(open('model.sav','rb'))"
   ]
  },
  {
   "cell_type": "code",
   "execution_count": 3,
   "id": "f1c6aec1-f88f-4457-af52-df6fef44d35c",
   "metadata": {},
   "outputs": [
    {
     "name": "stdin",
     "output_type": "stream",
     "text": [
      "Term 12\n",
      "Amount_Month 100000\n",
      "Age 45\n",
      "Creadit_Rank 3\n"
     ]
    }
   ],
   "source": [
    "# 새로운 값 입력\n",
    "x1 = input('Term')\n",
    "x2 = input('Amount_Month')\n",
    "x3 = input('Age')\n",
    "x4 = input('Creadit_Rank')\n",
    "\n",
    "input_data = [x1,x2,x3,x4]"
   ]
  },
  {
   "cell_type": "code",
   "execution_count": 4,
   "id": "7881ba7c-c89e-4ee3-b4f4-3e013e929b8c",
   "metadata": {},
   "outputs": [
    {
     "data": {
      "text/html": [
       "<div>\n",
       "<style scoped>\n",
       "    .dataframe tbody tr th:only-of-type {\n",
       "        vertical-align: middle;\n",
       "    }\n",
       "\n",
       "    .dataframe tbody tr th {\n",
       "        vertical-align: top;\n",
       "    }\n",
       "\n",
       "    .dataframe thead th {\n",
       "        text-align: right;\n",
       "    }\n",
       "</style>\n",
       "<table border=\"1\" class=\"dataframe\">\n",
       "  <thead>\n",
       "    <tr style=\"text-align: right;\">\n",
       "      <th></th>\n",
       "      <th>0</th>\n",
       "      <th>1</th>\n",
       "      <th>2</th>\n",
       "      <th>3</th>\n",
       "    </tr>\n",
       "  </thead>\n",
       "  <tbody>\n",
       "    <tr>\n",
       "      <th>0</th>\n",
       "      <td>12</td>\n",
       "      <td>100000</td>\n",
       "      <td>45</td>\n",
       "      <td>3</td>\n",
       "    </tr>\n",
       "  </tbody>\n",
       "</table>\n",
       "</div>"
      ],
      "text/plain": [
       "    0       1   2  3\n",
       "0  12  100000  45  3"
      ]
     },
     "execution_count": 4,
     "metadata": {},
     "output_type": "execute_result"
    }
   ],
   "source": [
    "input_df =pd.DataFrame(data=[input_data])\n",
    "input_df"
   ]
  },
  {
   "cell_type": "code",
   "execution_count": 6,
   "id": "b9892f14-1348-4904-be29-66ef78d18487",
   "metadata": {},
   "outputs": [
    {
     "name": "stderr",
     "output_type": "stream",
     "text": [
      "C:\\Users\\campus4D046\\anaconda3\\Lib\\site-packages\\sklearn\\base.py:439: UserWarning: X does not have valid feature names, but DecisionTreeClassifier was fitted with feature names\n",
      "  warnings.warn(\n"
     ]
    },
    {
     "data": {
      "text/plain": [
       "array([0], dtype=int64)"
      ]
     },
     "execution_count": 6,
     "metadata": {},
     "output_type": "execute_result"
    }
   ],
   "source": [
    "# 예측 \n",
    "model.predict(input_df)\n",
    "\n",
    "# 경고 : 컬럼명이 없어서 , 그치만 예측은 된다"
   ]
  },
  {
   "cell_type": "code",
   "execution_count": 7,
   "id": "38f943c9-2a3c-4b1d-9bf4-eaa878f1e0a7",
   "metadata": {},
   "outputs": [],
   "source": [
    "input_df2 = pd.DataFrame( data =[input_data],\n",
    "                        columns=['Term','Amount_Month','Age','Credit_Rank'])"
   ]
  },
  {
   "cell_type": "code",
   "execution_count": 8,
   "id": "ea1c50cc-47f5-40b4-b26f-c4a76b3b155a",
   "metadata": {},
   "outputs": [
    {
     "data": {
      "text/plain": [
       "array([0], dtype=int64)"
      ]
     },
     "execution_count": 8,
     "metadata": {},
     "output_type": "execute_result"
    }
   ],
   "source": [
    "model.predict(input_df2)"
   ]
  },
  {
   "cell_type": "code",
   "execution_count": null,
   "id": "f1e7eecc-55e8-48ff-bb8a-b61adc574b41",
   "metadata": {},
   "outputs": [],
   "source": []
  }
 ],
 "metadata": {
  "kernelspec": {
   "display_name": "Python 3 (ipykernel)",
   "language": "python",
   "name": "python3"
  },
  "language_info": {
   "codemirror_mode": {
    "name": "ipython",
    "version": 3
   },
   "file_extension": ".py",
   "mimetype": "text/x-python",
   "name": "python",
   "nbconvert_exporter": "python",
   "pygments_lexer": "ipython3",
   "version": "3.11.7"
  }
 },
 "nbformat": 4,
 "nbformat_minor": 5
}
